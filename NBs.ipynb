{
 "cells": [
  {
   "attachments": {},
   "cell_type": "markdown",
   "metadata": {},
   "source": [
    "# Class of Bayesian Classifiers"
   ]
  },
  {
   "cell_type": "code",
   "execution_count": 1,
   "metadata": {},
   "outputs": [],
   "source": [
    "import pandas as pd\n",
    "import numpy as np\n",
    "\n",
    "import pickle\n",
    "import time\n",
    "from tqdm import tqdm\n",
    "\n",
    "# surpess warnings\n",
    "import warnings\n",
    "warnings.filterwarnings('ignore')"
   ]
  },
  {
   "cell_type": "code",
   "execution_count": 2,
   "metadata": {},
   "outputs": [
    {
     "data": {
      "text/html": [
       "<div>\n",
       "<style scoped>\n",
       "    .dataframe tbody tr th:only-of-type {\n",
       "        vertical-align: middle;\n",
       "    }\n",
       "\n",
       "    .dataframe tbody tr th {\n",
       "        vertical-align: top;\n",
       "    }\n",
       "\n",
       "    .dataframe thead th {\n",
       "        text-align: right;\n",
       "    }\n",
       "</style>\n",
       "<table border=\"1\" class=\"dataframe\">\n",
       "  <thead>\n",
       "    <tr style=\"text-align: right;\">\n",
       "      <th></th>\n",
       "      <th>url</th>\n",
       "      <th>news</th>\n",
       "      <th>Type</th>\n",
       "    </tr>\n",
       "  </thead>\n",
       "  <tbody>\n",
       "    <tr>\n",
       "      <th>0</th>\n",
       "      <td>https://www.larepublica.co/redirect/post/3201905</td>\n",
       "      <td>Durante el foro La banca articulador empresari...</td>\n",
       "      <td>Otra</td>\n",
       "    </tr>\n",
       "  </tbody>\n",
       "</table>\n",
       "</div>"
      ],
      "text/plain": [
       "                                                url  \\\n",
       "0  https://www.larepublica.co/redirect/post/3201905   \n",
       "\n",
       "                                                news  Type  \n",
       "0  Durante el foro La banca articulador empresari...  Otra  "
      ]
     },
     "execution_count": 2,
     "metadata": {},
     "output_type": "execute_result"
    }
   ],
   "source": [
    "# Data from Bancolombia, no null values\n",
    "bancolombia = pd.read_csv('data/bancolombia.csv')\n",
    "bancolombia.head(1)"
   ]
  },
  {
   "cell_type": "code",
   "execution_count": 3,
   "metadata": {},
   "outputs": [
    {
     "data": {
      "text/plain": [
       "((973, 7661), (244, 7661), (973,), (244,))"
      ]
     },
     "execution_count": 3,
     "metadata": {},
     "output_type": "execute_result"
    }
   ],
   "source": [
    "# we will import CountVectorizer to vectorize our text\n",
    "from sklearn.feature_extraction.text import CountVectorizer\n",
    "\n",
    "# we will import train_test_split to split our data\n",
    "from sklearn.model_selection import train_test_split\n",
    "\n",
    "# load stopwords\n",
    "with open('stopwords/spanish', 'rb') as f:\n",
    "    spanish_stopwords = pickle.load(f)\n",
    "    \n",
    "vectorizer = CountVectorizer(min_df=5, stop_words=spanish_stopwords)\n",
    "X = vectorizer.fit_transform(bancolombia['news'])\n",
    "\n",
    "# train test split\n",
    "X_train, X_test, y_train, y_test = train_test_split(X, bancolombia['Type'], test_size=0.2, random_state=42)\n",
    "X_train.shape, X_test.shape, y_train.shape, y_test.shape"
   ]
  },
  {
   "cell_type": "code",
   "execution_count": 4,
   "metadata": {},
   "outputs": [
    {
     "name": "stdout",
     "output_type": "stream",
     "text": [
      "SKLearn MultinomialNB\n",
      "Training time:\t\t 0.010 seconds\n",
      "Training data accuracy:\t 0.952\n",
      "Test data accuracy:\t 0.865\n"
     ]
    }
   ],
   "source": [
    "# We will import SKLearn NB for comparison\n",
    "from sklearn.naive_bayes import MultinomialNB\n",
    "\n",
    "# has laplace smoothing of alpha = 1\n",
    "sk_nb = MultinomialNB()\n",
    "\n",
    "start = time.time()\n",
    "sk_nb.fit(X_train, y_train)\n",
    "end = time.time()\n",
    "print(f'SKLearn MultinomialNB')\n",
    "print(f'Training time:\\t\\t {end - start:.3f} seconds')\n",
    "print(f'Training data accuracy:\\t {sk_nb.score(X_train, y_train):.3f}')\n",
    "print(f'Test data accuracy:\\t {sk_nb.score(X_test, y_test):.3f}')"
   ]
  },
  {
   "cell_type": "code",
   "execution_count": 5,
   "metadata": {},
   "outputs": [
    {
     "data": {
      "text/plain": [
       "((973, 7), 0)"
      ]
     },
     "execution_count": 5,
     "metadata": {},
     "output_type": "execute_result"
    }
   ],
   "source": [
    "def label2num(label):\n",
    "    classes = np.unique(label)\n",
    "    num = np.zeros(len(label))\n",
    "    for i, c in enumerate(classes):\n",
    "        # print(f'Class {c} is {i}th in num')\n",
    "        num[label == c] = i\n",
    "\n",
    "    return num\n",
    "\n",
    "\n",
    "def label2onehot(label):\n",
    "    classes = np.unique(label)\n",
    "    onehot = np.zeros((len(label), len(classes)))\n",
    "    for i, c in enumerate(classes):\n",
    "        # print(f'Class {c} is {i}th in onehot')\n",
    "        onehot[label == c, i] = 1\n",
    "\n",
    "    onehot\n",
    "    return onehot\n",
    "\n",
    "\n",
    "y_train_onehot = label2onehot(y_train)\n",
    "y_num = label2num(y_train)\n",
    "y_train_onehot.shape, sum(y_num != np.argmax(y_train_onehot, axis=1))"
   ]
  },
  {
   "cell_type": "code",
   "execution_count": 6,
   "metadata": {},
   "outputs": [
    {
     "data": {
      "text/plain": [
       "((7,),\n",
       " 1.0,\n",
       " array([0.2004111 , 0.16649538, 0.27440904, 0.10380267, 0.12127441,\n",
       "        0.01747174, 0.11613566]))"
      ]
     },
     "execution_count": 6,
     "metadata": {},
     "output_type": "execute_result"
    }
   ],
   "source": [
    "prior = y_train_onehot.sum(axis=0) / y_train_onehot.sum()\n",
    "prior.shape, prior.sum(), prior"
   ]
  },
  {
   "cell_type": "code",
   "execution_count": 7,
   "metadata": {},
   "outputs": [],
   "source": [
    "# numpy display options 7 \n",
    "np.set_printoptions(precision=10, suppress=True, threshold=7)\n",
    "\n",
    "alpha = 1\n",
    "counts = X_train.T.dot(y_train_onehot) + alpha\n",
    "phi = counts / counts.sum(axis=0)"
   ]
  },
  {
   "cell_type": "code",
   "execution_count": 8,
   "metadata": {},
   "outputs": [],
   "source": [
    "# Now we will implement L1 regularization\n",
    "\n",
    "def log_likelihood(X, y_onehot, phi, l2):\n",
    "    \"\"\"\n",
    "    X: sparse matrix of shape (n_samples, n_features)\n",
    "    y: array of shape (n_samples,)\n",
    "    phi: array of shape (n_features, n_classes)\n",
    "    prior: array of shape (n_classes,)\n",
    "    alpha: float\n",
    "    l2: L2 regularization parameter\n",
    "    \"\"\"\n",
    "\n",
    "    log_l = (X.dot(np.log(phi))[y_onehot.astype(bool)].sum() - l2 * np.power(phi, 2).sum()) / X.shape[0]\n",
    "\n",
    "    return log_l\n",
    "\n",
    "def update_phi(X, y, phi, alpha, l2):\n",
    "    \"\"\"\n",
    "    X: sparse matrix of shape (n_samples, n_features)\n",
    "    y: array of shape (n_samples,)\n",
    "    phi: array of shape (n_features, n_classes)\n",
    "    prior: array of shape (n_classes,)\n",
    "    alpha: float\n",
    "    l1: L1 regularization parameter\n",
    "    \"\"\"\n",
    "\n",
    "    gradient = np.zeros(phi.shape)\n",
    "\n",
    "    for i in range(phi.shape[1]):\n",
    "        gradient[:,i] = X[y[:,i].astype(bool),:].sum(axis=0) / phi[:,i] - 2 * l2 * phi[:,i]\n",
    "\n",
    "    gradient[gradient < 0] = 0\n",
    "\n",
    "    phi = phi + alpha * gradient\n",
    "    phi = phi / phi.sum(axis=0)\n",
    "    \n",
    "    return phi\n",
    "\n",
    "def gradient_ascent(X, y, phi, alpha, l2, max_iter=100, tol=1e-4):\n",
    "    \"\"\"\n",
    "    X: sparse matrix of shape (n_samples, n_features)\n",
    "    y: array of shape (n_samples,)\n",
    "    phi: array of shape (n_features, n_classes)\n",
    "    prior: array of shape (n_classes,)\n",
    "    alpha: float\n",
    "    l1: L1 regularization parameter\n",
    "    max_iter: int\n",
    "    tol: float\n",
    "    \"\"\"\n",
    "\n",
    "    log_likelihoods = []\n",
    "    for i in tqdm(range(max_iter)):\n",
    "        phi = update_phi(X, y, phi, alpha, l2)\n",
    "        log_l = log_likelihood(X, y, phi, l2)\n",
    "        log_likelihoods.append(log_l)\n",
    "\n",
    "        if i > 0 and np.abs(log_l - log_likelihoods[-2]) < tol:\n",
    "            break\n",
    "\n",
    "    return phi, log_likelihoods"
   ]
  },
  {
   "cell_type": "code",
   "execution_count": 9,
   "metadata": {},
   "outputs": [
    {
     "name": "stdout",
     "output_type": "stream",
     "text": [
      "Classical Naive Bayes\n",
      "Training data accuracy:\t 0.952\n",
      "Test data accuracy:\t 0.865\n"
     ]
    }
   ],
   "source": [
    "import nbc\n",
    "cnbc = nbc.ClassicalNaiveBayes()\n",
    "\n",
    "cnbc.fit(X_train, y_train)\n",
    "cnbc.score(X_train, y_train), cnbc.score(X_test, y_test)\n",
    "\n",
    "print(f'Classical Naive Bayes')\n",
    "print(f'Training data accuracy:\\t {cnbc.score(X_train, y_train):.3f}')\n",
    "print(f'Test data accuracy:\\t {cnbc.score(X_test, y_test):.3f}')"
   ]
  },
  {
   "cell_type": "code",
   "execution_count": 10,
   "metadata": {},
   "outputs": [
    {
     "name": "stderr",
     "output_type": "stream",
     "text": [
      "100%|██████████| 100/100 [00:00<00:00, 116.51it/s]\n"
     ]
    },
    {
     "data": {
      "text/plain": [
       "<AxesSubplot:>"
      ]
     },
     "execution_count": 10,
     "metadata": {},
     "output_type": "execute_result"
    },
    {
     "data": {
      "image/png": "[encoded data removed]",
      "text/plain": [
       "<Figure size 432x288 with 1 Axes>"
      ]
     },
     "metadata": {
      "needs_background": "light"
     },
     "output_type": "display_data"
    }
   ],
   "source": [
    "phi0 = cnbc.phi.copy()\n",
    "l2 = 1000\n",
    "alpha = 0.000001\n",
    "\n",
    "phi0 = np.random.rand(phi0.shape[0], phi0.shape[1])\n",
    "\n",
    "phi_l2, log_likelihoods = gradient_ascent(X_train, y_train_onehot, phi0, alpha, l2)\n",
    "\n",
    "# plot the log likelihoods\n",
    "pd.Series(log_likelihoods).plot()"
   ]
  },
  {
   "cell_type": "code",
   "execution_count": 11,
   "metadata": {},
   "outputs": [
    {
     "name": "stdout",
     "output_type": "stream",
     "text": [
      "Naive Bayes with L2 regularization\n",
      "Training data accuracy:\t 0.997\n",
      "Test data accuracy:\t 0.758\n"
     ]
    }
   ],
   "source": [
    "log_posterior_l2_train = np.log(prior) + X_train.dot(np.log(phi_l2))\n",
    "log_predicted_l2_train = np.argmax(log_posterior_l2_train, axis=1)\n",
    "\n",
    "log_posterior_l2_test = np.log(prior) + X_test.dot(np.log(phi_l2))\n",
    "log_predicted_l2_test = np.argmax(log_posterior_l2_test, axis=1)\n",
    "\n",
    "\n",
    "np.mean(log_predicted_l2_train == label2num(y_train)), np.mean(log_predicted_l2_test == label2num(y_test))\n",
    "\n",
    "print(f'Naive Bayes with L2 regularization')\n",
    "print(f'Training data accuracy:\\t {np.mean(log_predicted_l2_train == label2num(y_train)):.3f}')\n",
    "print(f'Test data accuracy:\\t {np.mean(log_predicted_l2_test == label2num(y_test)):.3f}')"
   ]
  },
  {
   "cell_type": "code",
   "execution_count": 15,
   "metadata": {},
   "outputs": [
    {
     "name": "stdout",
     "output_type": "stream",
     "text": [
      "Starting gradient ascent with alpha = 1e-06 and l2 = 1000\n"
     ]
    },
    {
     "data": {
      "text/plain": [
       "(0.9969167523124358, 0.7581967213114754)"
      ]
     },
     "execution_count": 15,
     "metadata": {},
     "output_type": "execute_result"
    },
    {
     "data": {
      "image/png": "[encoded data removed]",
      "text/plain": [
       "<Figure size 432x288 with 1 Axes>"
      ]
     },
     "metadata": {
      "needs_background": "light"
     },
     "output_type": "display_data"
    }
   ],
   "source": [
    "cnbc.fit_L2(X_train, y_train, plot=True, l2=1000)\n",
    "cnbc.score(X_train, y_train), cnbc.score(X_test, y_test)"
   ]
  }
 ],
 "metadata": {
  "kernelspec": {
   "display_name": "base",
   "language": "python",
   "name": "python3"
  },
  "language_info": {
   "codemirror_mode": {
    "name": "ipython",
    "version": 3
   },
   "file_extension": ".py",
   "mimetype": "text/x-python",
   "name": "python",
   "nbconvert_exporter": "python",
   "pygments_lexer": "ipython3",
   "version": "3.9.12"
  },
  "orig_nbformat": 4,
  "vscode": {
   "interpreter": {
    "hash": "782117f08ed859aa13a701b87eaecaa1d2e6c59a6ebb52301f0d1b251c4747e4"
   }
  }
 },
 "nbformat": 4,
 "nbformat_minor": 2
}
