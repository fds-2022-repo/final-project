{
 "cells": [
  {
   "attachments": {},
   "cell_type": "markdown",
   "metadata": {},
   "source": [
    "# Class of Bayesian Classifiers"
   ]
  },
  {
   "cell_type": "code",
   "execution_count": 1,
   "metadata": {},
   "outputs": [],
   "source": [
    "import pandas as pd\n",
    "import numpy as np\n",
    "\n",
    "import pickle\n",
    "import time\n",
    "from tqdm import tqdm\n",
    "\n",
    "# surpess warnings\n",
    "import warnings\n",
    "warnings.filterwarnings('ignore')"
   ]
  },
  {
   "cell_type": "code",
   "execution_count": 2,
   "metadata": {},
   "outputs": [
    {
     "data": {
      "text/html": [
       "<div>\n",
       "<style scoped>\n",
       "    .dataframe tbody tr th:only-of-type {\n",
       "        vertical-align: middle;\n",
       "    }\n",
       "\n",
       "    .dataframe tbody tr th {\n",
       "        vertical-align: top;\n",
       "    }\n",
       "\n",
       "    .dataframe thead th {\n",
       "        text-align: right;\n",
       "    }\n",
       "</style>\n",
       "<table border=\"1\" class=\"dataframe\">\n",
       "  <thead>\n",
       "    <tr style=\"text-align: right;\">\n",
       "      <th></th>\n",
       "      <th>url</th>\n",
       "      <th>news</th>\n",
       "      <th>Type</th>\n",
       "    </tr>\n",
       "  </thead>\n",
       "  <tbody>\n",
       "    <tr>\n",
       "      <th>0</th>\n",
       "      <td>https://www.larepublica.co/redirect/post/3201905</td>\n",
       "      <td>Durante el foro La banca articulador empresari...</td>\n",
       "      <td>Otra</td>\n",
       "    </tr>\n",
       "  </tbody>\n",
       "</table>\n",
       "</div>"
      ],
      "text/plain": [
       "                                                url  \\\n",
       "0  https://www.larepublica.co/redirect/post/3201905   \n",
       "\n",
       "                                                news  Type  \n",
       "0  Durante el foro La banca articulador empresari...  Otra  "
      ]
     },
     "execution_count": 2,
     "metadata": {},
     "output_type": "execute_result"
    }
   ],
   "source": [
    "# Data from Bancolombia, no null values\n",
    "bancolombia = pd.read_csv('data/bancolombia.csv')\n",
    "bancolombia.head(1)"
   ]
  },
  {
   "cell_type": "code",
   "execution_count": 3,
   "metadata": {},
   "outputs": [
    {
     "data": {
      "text/plain": [
       "((973, 7661), (244, 7661), (973,), (244,))"
      ]
     },
     "execution_count": 3,
     "metadata": {},
     "output_type": "execute_result"
    }
   ],
   "source": [
    "# we will import CountVectorizer to vectorize our text\n",
    "from sklearn.feature_extraction.text import CountVectorizer\n",
    "\n",
    "# we will import train_test_split to split our data\n",
    "from sklearn.model_selection import train_test_split\n",
    "\n",
    "# load stopwords\n",
    "with open('stopwords/spanish', 'rb') as f:\n",
    "    spanish_stopwords = pickle.load(f)\n",
    "    \n",
    "vectorizer = CountVectorizer(min_df=5, stop_words=spanish_stopwords)\n",
    "X = vectorizer.fit_transform(bancolombia['news'])\n",
    "\n",
    "# train test split\n",
    "X_train, X_test, y_train, y_test = train_test_split(X, bancolombia['Type'], test_size=0.2, random_state=42)\n",
    "X_train.shape, X_test.shape, y_train.shape, y_test.shape"
   ]
  },
  {
   "cell_type": "code",
   "execution_count": 4,
   "metadata": {},
   "outputs": [
    {
     "name": "stdout",
     "output_type": "stream",
     "text": [
      "SKLearn MultinomialNB\n",
      "Training time:\t\t 0.008 seconds\n",
      "Training data accuracy:\t 0.952\n",
      "Test data accuracy:\t 0.865\n"
     ]
    }
   ],
   "source": [
    "# We will import SKLearn NB for comparison\n",
    "from sklearn.naive_bayes import MultinomialNB\n",
    "\n",
    "# has laplace smoothing of alpha = 1\n",
    "sk_nb = MultinomialNB()\n",
    "\n",
    "start = time.time()\n",
    "sk_nb.fit(X_train, y_train)\n",
    "end = time.time()\n",
    "print(f'SKLearn MultinomialNB')\n",
    "print(f'Training time:\\t\\t {end - start:.3f} seconds')\n",
    "print(f'Training data accuracy:\\t {sk_nb.score(X_train, y_train):.3f}')\n",
    "print(f'Test data accuracy:\\t {sk_nb.score(X_test, y_test):.3f}')"
   ]
  },
  {
   "cell_type": "code",
   "execution_count": 5,
   "metadata": {},
   "outputs": [
    {
     "data": {
      "text/plain": [
       "((973, 7661), (973,))"
      ]
     },
     "execution_count": 5,
     "metadata": {},
     "output_type": "execute_result"
    }
   ],
   "source": [
    "X_train.shape, y_train.shape"
   ]
  },
  {
   "cell_type": "code",
   "execution_count": 6,
   "metadata": {},
   "outputs": [
    {
     "data": {
      "text/plain": [
       "((973, 7), 0)"
      ]
     },
     "execution_count": 6,
     "metadata": {},
     "output_type": "execute_result"
    }
   ],
   "source": [
    "def label2num(label):\n",
    "    classes = np.unique(label)\n",
    "    num = np.zeros(len(label))\n",
    "    for i, c in enumerate(classes):\n",
    "        # print(f'Class {c} is {i}th in num')\n",
    "        num[label == c] = i\n",
    "\n",
    "    return num\n",
    "\n",
    "\n",
    "def label2onehot(label):\n",
    "    classes = np.unique(label)\n",
    "    onehot = np.zeros((len(label), len(classes)))\n",
    "    for i, c in enumerate(classes):\n",
    "        # print(f'Class {c} is {i}th in onehot')\n",
    "        onehot[label == c, i] = 1\n",
    "\n",
    "    onehot\n",
    "    return onehot\n",
    "\n",
    "\n",
    "y_train_onehot = label2onehot(y_train)\n",
    "y_num = label2num(y_train)\n",
    "y_train_onehot.shape, sum(y_num != np.argmax(y_train_onehot, axis=1))"
   ]
  },
  {
   "cell_type": "code",
   "execution_count": 7,
   "metadata": {},
   "outputs": [
    {
     "data": {
      "text/plain": [
       "((7,),\n",
       " 1.0,\n",
       " array([0.2004111 , 0.16649538, 0.27440904, 0.10380267, 0.12127441,\n",
       "        0.01747174, 0.11613566]))"
      ]
     },
     "execution_count": 7,
     "metadata": {},
     "output_type": "execute_result"
    }
   ],
   "source": [
    "prior = y_train_onehot.sum(axis=0) / y_train_onehot.sum()\n",
    "prior.shape, prior.sum(), prior"
   ]
  },
  {
   "cell_type": "code",
   "execution_count": 8,
   "metadata": {},
   "outputs": [
    {
     "data": {
      "text/plain": [
       "((973, 7661), (973, 7))"
      ]
     },
     "execution_count": 8,
     "metadata": {},
     "output_type": "execute_result"
    }
   ],
   "source": [
    "X_train.shape, y_train_onehot.shape"
   ]
  },
  {
   "cell_type": "code",
   "execution_count": 9,
   "metadata": {},
   "outputs": [],
   "source": [
    "# numpy display options 7 \n",
    "np.set_printoptions(precision=10, suppress=True, threshold=7)\n",
    "\n",
    "alpha = 1\n",
    "counts = X_train.T.dot(y_train_onehot) + alpha\n",
    "phi = counts / counts.sum(axis=0)"
   ]
  },
  {
   "cell_type": "code",
   "execution_count": 12,
   "metadata": {},
   "outputs": [
    {
     "name": "stderr",
     "output_type": "stream",
     "text": [
      "100%|██████████| 973/973 [00:00<00:00, 1016.96it/s]\n"
     ]
    },
    {
     "data": {
      "text/plain": [
       "0.9516957862281603"
      ]
     },
     "execution_count": 12,
     "metadata": {},
     "output_type": "execute_result"
    }
   ],
   "source": [
    "# create a matrix of nans [sample size, number of classes]\n",
    "posterior = np.zeros((X_train.shape[0], phi.shape[1]))\n",
    "\n",
    "for i in tqdm(range(X_train.shape[0])):\n",
    "    idx = X_train[i,:].nonzero()[1]\n",
    "\n",
    "    probs = np.power(\n",
    "        phi[idx, :],\n",
    "        X_train[i, idx].toarray().T\n",
    "        )\n",
    "\n",
    "    probs = probs / np.mean(probs)\n",
    "\n",
    "    while np.isclose(probs.prod(axis=0), 0).all():\n",
    "        probs = probs * 2\n",
    "\n",
    "    posterior[i, :] = probs.prod(axis=0) * prior\n",
    "\n",
    "predicted = np.argmax(posterior, axis=1)\n",
    "np.mean(predicted == label2num(y_train))"
   ]
  },
  {
   "cell_type": "code",
   "execution_count": 13,
   "metadata": {},
   "outputs": [
    {
     "data": {
      "text/plain": [
       "(0, 0, 5490)"
      ]
     },
     "execution_count": 13,
     "metadata": {},
     "output_type": "execute_result"
    }
   ],
   "source": [
    "np.isinf(posterior).sum(), np.isnan(posterior).sum(), np.isclose(posterior, 0).sum()"
   ]
  },
  {
   "cell_type": "code",
   "execution_count": 14,
   "metadata": {},
   "outputs": [
    {
     "name": "stderr",
     "output_type": "stream",
     "text": [
      "100%|██████████| 244/244 [00:00<00:00, 822.60it/s]\n"
     ]
    },
    {
     "data": {
      "text/plain": [
       "0.8647540983606558"
      ]
     },
     "execution_count": 14,
     "metadata": {},
     "output_type": "execute_result"
    }
   ],
   "source": [
    "posterior_test = np.zeros((X_test.shape[0], phi.shape[1]))\n",
    "\n",
    "for i in tqdm(range(X_test.shape[0])):\n",
    "    idx = X_test[i,:].nonzero()[1]\n",
    "\n",
    "    probs = np.power(\n",
    "        phi[idx, :],\n",
    "        X_test[i, idx].toarray().T\n",
    "        )\n",
    "\n",
    "    probs = probs / np.mean(probs)\n",
    "\n",
    "    while np.isclose(probs.prod(axis=0), 0).all():\n",
    "        probs = probs * 2\n",
    "\n",
    "    posterior_test[i, :] = probs.prod(axis=0) * prior\n",
    "\n",
    "predicted_test = np.argmax(posterior_test, axis=1)\n",
    "np.mean(predicted_test == label2num(y_test))"
   ]
  },
  {
   "cell_type": "code",
   "execution_count": 39,
   "metadata": {},
   "outputs": [],
   "source": [
    "# Now we will implement L1 regularization\n",
    "\n",
    "def log_likelihood(X, y_onehot, phi, l2):\n",
    "    \"\"\"\n",
    "    X: sparse matrix of shape (n_samples, n_features)\n",
    "    y: array of shape (n_samples,)\n",
    "    phi: array of shape (n_features, n_classes)\n",
    "    prior: array of shape (n_classes,)\n",
    "    alpha: float\n",
    "    l2: L2 regularization parameter\n",
    "    \"\"\"\n",
    "\n",
    "    log_l = (X.dot(np.log(phi))[y_onehot.astype(bool)].sum() - l2 * np.power(phi, 2).sum()) / X.shape[0]\n",
    "\n",
    "    return log_l\n",
    "\n",
    "def update_phi(X, y, phi, alpha, l2):\n",
    "    \"\"\"\n",
    "    X: sparse matrix of shape (n_samples, n_features)\n",
    "    y: array of shape (n_samples,)\n",
    "    phi: array of shape (n_features, n_classes)\n",
    "    prior: array of shape (n_classes,)\n",
    "    alpha: float\n",
    "    l1: L1 regularization parameter\n",
    "    \"\"\"\n",
    "\n",
    "    gradient = np.zeros(phi.shape)\n",
    "\n",
    "    for i in range(phi.shape[1]):\n",
    "        gradient[:,i] = X[y[:,i].astype(bool),:].sum(axis=0) / phi[:,i] - 2 * l2 * phi[:,i]\n",
    "\n",
    "    gradient[gradient < 0] = 0\n",
    "\n",
    "    phi = phi + alpha * gradient\n",
    "    phi = phi / phi.sum(axis=0)\n",
    "    \n",
    "    return phi\n",
    "\n",
    "def gradient_ascent(X, y, phi, alpha, l2, max_iter=100, tol=1e-4):\n",
    "    \"\"\"\n",
    "    X: sparse matrix of shape (n_samples, n_features)\n",
    "    y: array of shape (n_samples,)\n",
    "    phi: array of shape (n_features, n_classes)\n",
    "    prior: array of shape (n_classes,)\n",
    "    alpha: float\n",
    "    l1: L1 regularization parameter\n",
    "    max_iter: int\n",
    "    tol: float\n",
    "    \"\"\"\n",
    "\n",
    "    log_likelihoods = []\n",
    "    for i in tqdm(range(max_iter)):\n",
    "        phi = update_phi(X, y, phi, alpha, l2)\n",
    "        log_l = log_likelihood(X, y, phi, l2)\n",
    "        log_likelihoods.append(log_l)\n",
    "\n",
    "        if i > 0 and np.abs(log_l - log_likelihoods[-2]) < tol:\n",
    "            break\n",
    "\n",
    "    return phi, log_likelihoods"
   ]
  },
  {
   "cell_type": "code",
   "execution_count": 40,
   "metadata": {},
   "outputs": [
    {
     "name": "stderr",
     "output_type": "stream",
     "text": [
      "100%|██████████| 100/100 [00:01<00:00, 96.03it/s] \n"
     ]
    },
    {
     "data": {
      "text/plain": [
       "<AxesSubplot:>"
      ]
     },
     "execution_count": 40,
     "metadata": {},
     "output_type": "execute_result"
    },
    {
     "data": {
      "image/png": "[encoded data removed]",
      "text/plain": [
       "<Figure size 432x288 with 1 Axes>"
      ]
     },
     "metadata": {
      "needs_background": "light"
     },
     "output_type": "display_data"
    }
   ],
   "source": [
    "phi0 = phi.copy()\n",
    "l2 = 1000\n",
    "alpha = 0.000001\n",
    "\n",
    "phi0 = np.random.rand(phi0.shape[0], phi0.shape[1])\n",
    "\n",
    "phi_l2, log_likelihoods = gradient_ascent(X_train, y_train_onehot, phi0, alpha, l2)\n",
    "\n",
    "# plot the log likelihoods\n",
    "pd.Series(log_likelihoods).plot()"
   ]
  },
  {
   "cell_type": "code",
   "execution_count": 41,
   "metadata": {},
   "outputs": [
    {
     "data": {
      "text/plain": [
       "(0.9969167523124358, 0.9516957862281603)"
      ]
     },
     "execution_count": 41,
     "metadata": {},
     "output_type": "execute_result"
    }
   ],
   "source": [
    "log_posterior = np.log(prior) + X_train.dot(np.log(phi))\n",
    "log_predicted = np.argmax(log_posterior, axis=1)\n",
    "\n",
    "log_posterior_l2 = np.log(prior) + X_train.dot(np.log(phi_l2))\n",
    "log_predicted_l2 = np.argmax(log_posterior_l2, axis=1)\n",
    "\n",
    "\n",
    "np.mean(log_predicted_l2 == label2num(y_train)), np.mean(log_predicted == label2num(y_train))"
   ]
  },
  {
   "cell_type": "code",
   "execution_count": 28,
   "metadata": {},
   "outputs": [
    {
     "data": {
      "text/plain": [
       "(0.7663934426229508, 0.8647540983606558)"
      ]
     },
     "execution_count": 28,
     "metadata": {},
     "output_type": "execute_result"
    }
   ],
   "source": [
    "log_posterior = np.log(prior) + X_test.dot(np.log(phi))\n",
    "log_predicted = np.argmax(log_posterior, axis=1)\n",
    "\n",
    "log_posterior_l2 = np.log(prior) + X_test.dot(np.log(phi_l2))\n",
    "log_predicted_l2 = np.argmax(log_posterior_l2, axis=1)\n",
    "\n",
    "np.mean(log_predicted_l2 == label2num(y_test)), np.mean(log_predicted == label2num(y_test))"
   ]
  },
  {
   "cell_type": "code",
   "execution_count": 29,
   "metadata": {},
   "outputs": [
    {
     "ename": "NameError",
     "evalue": "name 'nbc' is not defined",
     "output_type": "error",
     "traceback": [
      "\u001b[0;31m---------------------------------------------------------------------------\u001b[0m",
      "\u001b[0;31mNameError\u001b[0m                                 Traceback (most recent call last)",
      "\u001b[1;32m/Users/cemsirin/Documents/GitHub/final-project/NBs.ipynb Cell 30\u001b[0m in \u001b[0;36m<cell line: 1>\u001b[0;34m()\u001b[0m\n\u001b[0;32m----> <a href='vscode-notebook-cell:/Users/cemsirin/Documents/GitHub/final-project/NBs.ipynb#X54sZmlsZQ%3D%3D?line=0'>1</a>\u001b[0m my_nbc \u001b[39m=\u001b[39m nbc\u001b[39m.\u001b[39mClassicalNaiveBayes()\n",
      "\u001b[0;31mNameError\u001b[0m: name 'nbc' is not defined"
     ]
    }
   ],
   "source": [
    "my_nbc = nbc.ClassicalNaiveBayes()"
   ]
  },
  {
   "cell_type": "code",
   "execution_count": 30,
   "metadata": {},
   "outputs": [
    {
     "name": "stderr",
     "output_type": "stream",
     "text": [
      "100%|██████████| 973/973 [00:01<00:00, 806.01it/s]\n",
      "100%|██████████| 244/244 [00:00<00:00, 545.70it/s]\n"
     ]
    },
    {
     "data": {
      "text/plain": [
       "(0.9516957862281603, 0.8647540983606558)"
      ]
     },
     "execution_count": 30,
     "metadata": {},
     "output_type": "execute_result"
    }
   ],
   "source": [
    "import nbc\n",
    "cnbc = nbc.ClassicalNaiveBayes(alpha=1)\n",
    "\n",
    "cnbc.fit(X_train, y_train)\n",
    "cnbc.score(X_train, y_train), cnbc.score(X_test, y_test)"
   ]
  },
  {
   "cell_type": "code",
   "execution_count": 32,
   "metadata": {},
   "outputs": [
    {
     "name": "stderr",
     "output_type": "stream",
     "text": [
      "100%|██████████| 973/973 [00:02<00:00, 479.95it/s]\n",
      "100%|██████████| 244/244 [00:00<00:00, 677.80it/s]\n"
     ]
    },
    {
     "data": {
      "text/plain": [
       "(0.9506680369989723, 0.8647540983606558)"
      ]
     },
     "execution_count": 32,
     "metadata": {},
     "output_type": "execute_result"
    }
   ],
   "source": [
    "cnbc.fit_weighted(X_train, y_train)\n",
    "\n",
    "cnbc.score(X_train, y_train), cnbc.score(X_test, y_test)"
   ]
  },
  {
   "cell_type": "code",
   "execution_count": 33,
   "metadata": {},
   "outputs": [
    {
     "ename": "TypeError",
     "evalue": "gradient_ascent() missing 1 required positional argument: 'l2'",
     "output_type": "error",
     "traceback": [
      "\u001b[0;31m---------------------------------------------------------------------------\u001b[0m",
      "\u001b[0;31mTypeError\u001b[0m                                 Traceback (most recent call last)",
      "\u001b[1;32m/Users/cemsirin/Documents/GitHub/final-project/NBs.ipynb Cell 22\u001b[0m in \u001b[0;36m<cell line: 1>\u001b[0;34m()\u001b[0m\n\u001b[0;32m----> <a href='vscode-notebook-cell:/Users/cemsirin/Documents/GitHub/final-project/NBs.ipynb#X60sZmlsZQ%3D%3D?line=0'>1</a>\u001b[0m cnbc\u001b[39m.\u001b[39;49mfit_L2(X_train, y_train)\n\u001b[1;32m      <a href='vscode-notebook-cell:/Users/cemsirin/Documents/GitHub/final-project/NBs.ipynb#X60sZmlsZQ%3D%3D?line=2'>3</a>\u001b[0m cnbc\u001b[39m.\u001b[39mscore(X_train, y_train), cnbc\u001b[39m.\u001b[39mscore(X_test, y_test)\n",
      "File \u001b[0;32m~/Documents/GitHub/final-project/nbc.py:42\u001b[0m, in \u001b[0;36mClassicalNaiveBayes.fit_L2\u001b[0;34m(self, X, y, alpha, l2, weight, plot)\u001b[0m\n\u001b[1;32m     39\u001b[0m     \u001b[39mprint\u001b[39m(\u001b[39m'\u001b[39m\u001b[39mNo prior phi found, first fit the model\u001b[39m\u001b[39m'\u001b[39m)\n\u001b[1;32m     40\u001b[0m     \u001b[39mself\u001b[39m\u001b[39m.\u001b[39mfit(X, y)\n\u001b[0;32m---> 42\u001b[0m phi_l2, likelihood \u001b[39m=\u001b[39m \u001b[39mself\u001b[39;49m\u001b[39m.\u001b[39;49mu\u001b[39m.\u001b[39;49mgradient_ascent(X, \u001b[39mself\u001b[39;49m\u001b[39m.\u001b[39;49mu\u001b[39m.\u001b[39;49mlabel2onehot(y), \u001b[39mself\u001b[39;49m\u001b[39m.\u001b[39;49mphi, \u001b[39mself\u001b[39;49m\u001b[39m.\u001b[39;49mprior, alpha, l2)\n\u001b[1;32m     43\u001b[0m \u001b[39mself\u001b[39m\u001b[39m.\u001b[39mphi \u001b[39m=\u001b[39m phi_l2\n\u001b[1;32m     45\u001b[0m \u001b[39mif\u001b[39;00m weight:\n",
      "\u001b[0;31mTypeError\u001b[0m: gradient_ascent() missing 1 required positional argument: 'l2'"
     ]
    }
   ],
   "source": [
    "cnbc.fit_L2(X_train, y_train)\n",
    "\n",
    "cnbc.score(X_train, y_train), cnbc.score(X_test, y_test)"
   ]
  }
 ],
 "metadata": {
  "kernelspec": {
   "display_name": "base",
   "language": "python",
   "name": "python3"
  },
  "language_info": {
   "codemirror_mode": {
    "name": "ipython",
    "version": 3
   },
   "file_extension": ".py",
   "mimetype": "text/x-python",
   "name": "python",
   "nbconvert_exporter": "python",
   "pygments_lexer": "ipython3",
   "version": "3.9.12"
  },
  "orig_nbformat": 4,
  "vscode": {
   "interpreter": {
    "hash": "782117f08ed859aa13a701b87eaecaa1d2e6c59a6ebb52301f0d1b251c4747e4"
   }
  }
 },
 "nbformat": 4,
 "nbformat_minor": 2
}
