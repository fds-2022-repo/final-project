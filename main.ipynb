{
 "cells": [
  {
   "attachments": {},
   "cell_type": "markdown",
   "metadata": {},
   "source": [
    "# FDS Final Project - Cemplate\n",
    "Ima drop some template here for easy implementation"
   ]
  },
  {
   "cell_type": "code",
   "execution_count": 1,
   "metadata": {},
   "outputs": [],
   "source": [
    "import pandas as pd\n",
    "import numpy as np\n",
    "\n",
    "import pickle\n",
    "import time\n",
    "\n",
    "# surpess warnings\n",
    "import warnings\n",
    "warnings.filterwarnings('ignore')"
   ]
  },
  {
   "attachments": {},
   "cell_type": "markdown",
   "metadata": {},
   "source": [
    "## Datasets\n",
    "\n",
    "So here, we can prepare the datasets to test out the models. We can use several of them during our analysis, and see how the models perform on different datasets. If there is no variation in the performance, then we may remove all but one before the final submission. Or use it as an evidence of robustness. \n",
    "\n",
    "I am intentionally not changing the columns for now, so you can see the data as it is. Later on, we will have one column of **text** and one column of **label**."
   ]
  },
  {
   "cell_type": "code",
   "execution_count": 120,
   "metadata": {},
   "outputs": [
    {
     "data": {
      "text/html": [
       "<div>\n",
       "<style scoped>\n",
       "    .dataframe tbody tr th:only-of-type {\n",
       "        vertical-align: middle;\n",
       "    }\n",
       "\n",
       "    .dataframe tbody tr th {\n",
       "        vertical-align: top;\n",
       "    }\n",
       "\n",
       "    .dataframe thead th {\n",
       "        text-align: right;\n",
       "    }\n",
       "</style>\n",
       "<table border=\"1\" class=\"dataframe\">\n",
       "  <thead>\n",
       "    <tr style=\"text-align: right;\">\n",
       "      <th></th>\n",
       "      <th>text</th>\n",
       "      <th>label</th>\n",
       "    </tr>\n",
       "  </thead>\n",
       "  <tbody>\n",
       "    <tr>\n",
       "      <th>0</th>\n",
       "      <td>Health experts said it is too early to predict...</td>\n",
       "      <td>U.S. NEWS</td>\n",
       "    </tr>\n",
       "  </tbody>\n",
       "</table>\n",
       "</div>"
      ],
      "text/plain": [
       "                                                text      label\n",
       "0  Health experts said it is too early to predict...  U.S. NEWS"
      ]
     },
     "execution_count": 120,
     "metadata": {},
     "output_type": "execute_result"
    }
   ],
   "source": [
    "# Dataset 1 from Huffington Post\n",
    "huffpost = pd.read_json('data/huff_post.json', lines=True).dropna().reset_index()\n",
    "huffpost = huffpost[['short_description', 'category']]\n",
    "huffpost.columns = ['text', 'label']\n",
    "huffpost.head(1)"
   ]
  },
  {
   "cell_type": "code",
   "execution_count": 121,
   "metadata": {},
   "outputs": [
    {
     "data": {
      "text/html": [
       "<div>\n",
       "<style scoped>\n",
       "    .dataframe tbody tr th:only-of-type {\n",
       "        vertical-align: middle;\n",
       "    }\n",
       "\n",
       "    .dataframe tbody tr th {\n",
       "        vertical-align: top;\n",
       "    }\n",
       "\n",
       "    .dataframe thead th {\n",
       "        text-align: right;\n",
       "    }\n",
       "</style>\n",
       "<table border=\"1\" class=\"dataframe\">\n",
       "  <thead>\n",
       "    <tr style=\"text-align: right;\">\n",
       "      <th></th>\n",
       "      <th>text</th>\n",
       "      <th>label</th>\n",
       "    </tr>\n",
       "  </thead>\n",
       "  <tbody>\n",
       "    <tr>\n",
       "      <th>0</th>\n",
       "      <td>Durante el foro La banca articulador empresari...</td>\n",
       "      <td>Otra</td>\n",
       "    </tr>\n",
       "  </tbody>\n",
       "</table>\n",
       "</div>"
      ],
      "text/plain": [
       "                                                text label\n",
       "0  Durante el foro La banca articulador empresari...  Otra"
      ]
     },
     "execution_count": 121,
     "metadata": {},
     "output_type": "execute_result"
    }
   ],
   "source": [
    "# Dataset 2 from Bancolombia\n",
    "bancolombia = pd.read_csv('data/bancolombia.csv').dropna().reset_index()\n",
    "bancolombia = bancolombia[['news', 'Type']]\n",
    "bancolombia.columns = ['text', 'label']\n",
    "bancolombia.head(1)"
   ]
  },
  {
   "cell_type": "code",
   "execution_count": 122,
   "metadata": {},
   "outputs": [
    {
     "data": {
      "text/html": [
       "<div>\n",
       "<style scoped>\n",
       "    .dataframe tbody tr th:only-of-type {\n",
       "        vertical-align: middle;\n",
       "    }\n",
       "\n",
       "    .dataframe tbody tr th {\n",
       "        vertical-align: top;\n",
       "    }\n",
       "\n",
       "    .dataframe thead th {\n",
       "        text-align: right;\n",
       "    }\n",
       "</style>\n",
       "<table border=\"1\" class=\"dataframe\">\n",
       "  <thead>\n",
       "    <tr style=\"text-align: right;\">\n",
       "      <th></th>\n",
       "      <th>text</th>\n",
       "      <th>label</th>\n",
       "    </tr>\n",
       "  </thead>\n",
       "  <tbody>\n",
       "    <tr>\n",
       "      <th>0</th>\n",
       "      <td>DA BBC BRASIL  O trimestre de maio a julho des...</td>\n",
       "      <td>sobretudo</td>\n",
       "    </tr>\n",
       "  </tbody>\n",
       "</table>\n",
       "</div>"
      ],
      "text/plain": [
       "                                                text      label\n",
       "0  DA BBC BRASIL  O trimestre de maio a julho des...  sobretudo"
      ]
     },
     "execution_count": 122,
     "metadata": {},
     "output_type": "execute_result"
    }
   ],
   "source": [
    "# Dataset 3 from Folha de Sao Paulo\n",
    "folha = pd.read_csv('data/folha.csv').dropna().reset_index()\n",
    "folha = folha[['text', 'category']]\n",
    "folha.columns = ['text', 'label']\n",
    "folha.head(1)"
   ]
  },
  {
   "cell_type": "code",
   "execution_count": 123,
   "metadata": {},
   "outputs": [
    {
     "data": {
      "text/html": [
       "<div>\n",
       "<style scoped>\n",
       "    .dataframe tbody tr th:only-of-type {\n",
       "        vertical-align: middle;\n",
       "    }\n",
       "\n",
       "    .dataframe tbody tr th {\n",
       "        vertical-align: top;\n",
       "    }\n",
       "\n",
       "    .dataframe thead th {\n",
       "        text-align: right;\n",
       "    }\n",
       "</style>\n",
       "<table border=\"1\" class=\"dataframe\">\n",
       "  <thead>\n",
       "    <tr style=\"text-align: right;\">\n",
       "      <th></th>\n",
       "      <th>text</th>\n",
       "      <th>label</th>\n",
       "    </tr>\n",
       "  </thead>\n",
       "  <tbody>\n",
       "    <tr>\n",
       "      <th>0</th>\n",
       "      <td>Quarterly profits at US media giant TimeWarner...</td>\n",
       "      <td>business</td>\n",
       "    </tr>\n",
       "  </tbody>\n",
       "</table>\n",
       "</div>"
      ],
      "text/plain": [
       "                                                text     label\n",
       "0  Quarterly profits at US media giant TimeWarner...  business"
      ]
     },
     "execution_count": 123,
     "metadata": {},
     "output_type": "execute_result"
    }
   ],
   "source": [
    "# Dataset 4 from BBC, no null values\n",
    "bbc = pd.read_csv('data/bbc.csv').dropna().reset_index()\n",
    "bbc = bbc[['content', 'category']]\n",
    "bbc.columns = ['text', 'label']\n",
    "bbc.head(1)"
   ]
  },
  {
   "cell_type": "code",
   "execution_count": 124,
   "metadata": {},
   "outputs": [
    {
     "data": {
      "text/html": [
       "<div>\n",
       "<style scoped>\n",
       "    .dataframe tbody tr th:only-of-type {\n",
       "        vertical-align: middle;\n",
       "    }\n",
       "\n",
       "    .dataframe tbody tr th {\n",
       "        vertical-align: top;\n",
       "    }\n",
       "\n",
       "    .dataframe thead th {\n",
       "        text-align: right;\n",
       "    }\n",
       "</style>\n",
       "<table border=\"1\" class=\"dataframe\">\n",
       "  <thead>\n",
       "    <tr style=\"text-align: right;\">\n",
       "      <th></th>\n",
       "      <th>text</th>\n",
       "      <th>label</th>\n",
       "    </tr>\n",
       "  </thead>\n",
       "  <tbody>\n",
       "    <tr>\n",
       "      <th>0</th>\n",
       "      <td>De enige kerncentrale van Litouwen is oudjaars...</td>\n",
       "      <td>Buitenland</td>\n",
       "    </tr>\n",
       "  </tbody>\n",
       "</table>\n",
       "</div>"
      ],
      "text/plain": [
       "                                                text       label\n",
       "0  De enige kerncentrale van Litouwen is oudjaars...  Buitenland"
      ]
     },
     "execution_count": 124,
     "metadata": {},
     "output_type": "execute_result"
    }
   ],
   "source": [
    "# Dataset 4 from NOS, no null values\n",
    "nos = pd.read_csv('data/nos.csv').dropna().reset_index()\n",
    "nos = nos[['content', 'category']]\n",
    "nos.columns = ['text', 'label']\n",
    "nos.head(1)"
   ]
  },
  {
   "cell_type": "code",
   "execution_count": 125,
   "metadata": {},
   "outputs": [
    {
     "data": {
      "text/html": [
       "<div>\n",
       "<style scoped>\n",
       "    .dataframe tbody tr th:only-of-type {\n",
       "        vertical-align: middle;\n",
       "    }\n",
       "\n",
       "    .dataframe tbody tr th {\n",
       "        vertical-align: top;\n",
       "    }\n",
       "\n",
       "    .dataframe thead th {\n",
       "        text-align: right;\n",
       "    }\n",
       "</style>\n",
       "<table border=\"1\" class=\"dataframe\">\n",
       "  <thead>\n",
       "    <tr style=\"text-align: right;\">\n",
       "      <th></th>\n",
       "      <th>text</th>\n",
       "      <th>label</th>\n",
       "    </tr>\n",
       "  </thead>\n",
       "  <tbody>\n",
       "    <tr>\n",
       "      <th>0</th>\n",
       "      <td>5 Best Practices For Writing SQL Joins</td>\n",
       "      <td>easy</td>\n",
       "    </tr>\n",
       "  </tbody>\n",
       "</table>\n",
       "</div>"
      ],
      "text/plain": [
       "                                     text label\n",
       "0  5 Best Practices For Writing SQL Joins  easy"
      ]
     },
     "execution_count": 125,
     "metadata": {},
     "output_type": "execute_result"
    }
   ],
   "source": [
    "# Dataset 5 from Geeks4Geeks, no null values\n",
    "geeks4geeks = pd.read_csv('data/geeks4geeks.csv').dropna().reset_index()\n",
    "geeks4geeks = geeks4geeks[['title', 'category']]\n",
    "geeks4geeks.columns = ['text', 'label']\n",
    "geeks4geeks.head(1)"
   ]
  },
  {
   "cell_type": "code",
   "execution_count": 126,
   "metadata": {},
   "outputs": [],
   "source": [
    "# Now we put the datasets in a list\n",
    "datasets = [huffpost, bancolombia, folha, bbc, nos, geeks4geeks]\n",
    "dataset_names = ['huffpost', 'bancolombia', 'folha', 'bbc', 'nos', 'geeks4geeks']\n",
    "dataset_names = ['Huffington Post', 'Bancolombia', 'Folha de Sao Paolo', 'BBC', 'NOS', 'Geeks4Geeks']"
   ]
  },
  {
   "cell_type": "code",
   "execution_count": 100,
   "metadata": {},
   "outputs": [
    {
     "data": {
      "application/vnd.plotly.v1+json": {
       "config": {
        "plotlyServerURL": "https://plot.ly"
       },
       "data": [
        {
         "domain": {
          "x": [
           0,
           0.2888888888888889
          ],
          "y": [
           0.625,
           1
          ]
         },
         "labels": [
          "POLITICS",
          "WELLNESS",
          "ENTERTAINMENT",
          "TRAVEL",
          "STYLE & BEAUTY",
          "PARENTING",
          "HEALTHY LIVING",
          "QUEER VOICES",
          "FOOD & DRINK",
          "BUSINESS",
          "COMEDY",
          "SPORTS",
          "BLACK VOICES",
          "HOME & LIVING",
          "PARENTS",
          "THE WORLDPOST",
          "WEDDINGS",
          "WOMEN",
          "CRIME",
          "IMPACT",
          "DIVORCE",
          "WORLD NEWS",
          "MEDIA",
          "WEIRD NEWS",
          "GREEN",
          "WORLDPOST",
          "RELIGION",
          "STYLE",
          "SCIENCE",
          "TECH",
          "TASTE",
          "MONEY",
          "ARTS",
          "ENVIRONMENT",
          "FIFTY",
          "GOOD NEWS",
          "U.S. NEWS",
          "ARTS & CULTURE",
          "COLLEGE",
          "LATINO VOICES",
          "CULTURE & ARTS",
          "EDUCATION"
         ],
         "name": "Huffington Post",
         "textinfo": "percent+label",
         "textposition": "inside",
         "title": {
          "font": {
           "size": 10
          },
          "text": "Average text length: 19.67 words"
         },
         "type": "pie",
         "values": [
          35602,
          17945,
          17362,
          9900,
          9814,
          8791,
          6694,
          6347,
          6340,
          5992,
          5400,
          5077,
          4583,
          4320,
          3955,
          3664,
          3653,
          3572,
          3562,
          3484,
          3426,
          3299,
          2944,
          2777,
          2622,
          2579,
          2577,
          2254,
          2206,
          2104,
          2096,
          1756,
          1509,
          1444,
          1401,
          1398,
          1377,
          1339,
          1144,
          1130,
          1074,
          1014
         ]
        },
        {
         "domain": {
          "x": [
           0.35555555555555557,
           0.6444444444444445
          ],
          "y": [
           0.625,
           1
          ]
         },
         "labels": [
          "Macroeconomia",
          "Alianzas",
          "Innovacion",
          "Regulaciones",
          "Sostenibilidad",
          "Otra",
          "Reputacion"
         ],
         "name": "Bancolombia",
         "textinfo": "percent+label",
         "textposition": "inside",
         "title": {
          "font": {
           "size": 10
          },
          "text": "Average text length: 516.55 words"
         },
         "type": "pie",
         "values": [
          340,
          247,
          195,
          142,
          137,
          130,
          26
         ]
        },
        {
         "domain": {
          "x": [
           0.7111111111111111,
           1
          ],
          "y": [
           0.625,
           1
          ]
         },
         "labels": [
          "poder",
          "colunas",
          "mercado",
          "esporte",
          "mundo",
          "cotidiano",
          "ilustrada",
          "opiniao",
          "paineldoleitor",
          "saopaulo",
          "tec",
          "tv",
          "educacao",
          "turismo",
          "ilustrissima",
          "ciencia",
          "equilibrioesaude",
          "sobretudo",
          "bbc",
          "folhinha",
          "empreendedorsocial",
          "comida",
          "asmais",
          "ambiente",
          "seminariosfolha",
          "serafina",
          "o-melhor-de-sao-paulo",
          "vice",
          "guia-de-livros-discos-filmes",
          "topofmind",
          "banco-de-dados",
          "dw",
          "especial",
          "cenarios-2017",
          "infograficos",
          "rfi",
          "guia-de-livros-filmes-discos",
          "multimidia",
          "treinamento",
          "treinamentocienciaesaude",
          "mulher",
          "euronews",
          "ombudsman",
          "contas-de-casa",
          "musica",
          "bichos",
          "2016",
          "2015"
         ],
         "name": "Folha de Sao Paolo",
         "textinfo": "percent+label",
         "textposition": "inside",
         "title": {
          "font": {
           "size": 10
          },
          "text": "Average text length: 444.66 words"
         },
         "type": "pie",
         "values": [
          22022,
          21622,
          20970,
          19730,
          17130,
          16967,
          16345,
          4525,
          4011,
          3955,
          2260,
          2142,
          2118,
          1903,
          1411,
          1335,
          1312,
          1057,
          980,
          876,
          841,
          828,
          548,
          491,
          379,
          334,
          189,
          146,
          143,
          86,
          64,
          48,
          43,
          43,
          43,
          29,
          28,
          27,
          21,
          18,
          16,
          8,
          3,
          2,
          1,
          1,
          1,
          1
         ]
        },
        {
         "domain": {
          "x": [
           0,
           0.2888888888888889
          ],
          "y": [
           0,
           0.375
          ]
         },
         "labels": [
          "sport",
          "business",
          "politics",
          "tech",
          "entertainment"
         ],
         "name": "BBC",
         "textinfo": "percent+label",
         "textposition": "inside",
         "title": {
          "font": {
           "size": 10
          },
          "text": "Average text length: 378.84 words"
         },
         "type": "pie",
         "values": [
          511,
          510,
          417,
          401,
          386
         ]
        },
        {
         "domain": {
          "x": [
           0.35555555555555557,
           0.6444444444444445
          ],
          "y": [
           0,
           0.375
          ]
         },
         "labels": [
          "Buitenland",
          "Binnenland",
          "Politiek",
          "Economie",
          "Regionaal nieuws",
          "Koningshuis",
          "Opmerkelijk",
          "Cultuur & Media",
          "Tech",
          "Cultuur-En-Media",
          "Regio"
         ],
         "name": "NOS",
         "textinfo": "percent+label",
         "textposition": "inside",
         "title": {
          "font": {
           "size": 10
          },
          "text": "Average text length: 253.22 words"
         },
         "type": "pie",
         "values": [
          94592,
          83298,
          22273,
          20120,
          16657,
          3076,
          2766,
          2433,
          1035,
          139,
          68
         ]
        },
        {
         "domain": {
          "x": [
           0.7111111111111111,
           1
          ],
          "y": [
           0,
           0.375
          ]
         },
         "labels": [
          "medium",
          "easy",
          "basic",
          "hard",
          "expert"
         ],
         "name": "Geeks4Geeks",
         "textinfo": "percent+label",
         "textposition": "inside",
         "title": {
          "font": {
           "size": 10
          },
          "text": "Average text length: 7.83 words"
         },
         "type": "pie",
         "values": [
          10440,
          9663,
          8144,
          4232,
          2095
         ]
        }
       ],
       "layout": {
        "annotations": [
         {
          "font": {
           "size": 16
          },
          "showarrow": false,
          "text": "Huffington Post",
          "x": 0.14444444444444446,
          "xanchor": "center",
          "xref": "paper",
          "y": 1,
          "yanchor": "bottom",
          "yref": "paper"
         },
         {
          "font": {
           "size": 16
          },
          "showarrow": false,
          "text": "Bancolombia",
          "x": 0.5,
          "xanchor": "center",
          "xref": "paper",
          "y": 1,
          "yanchor": "bottom",
          "yref": "paper"
         },
         {
          "font": {
           "size": 16
          },
          "showarrow": false,
          "text": "Folha de Sao Paolo",
          "x": 0.8555555555555556,
          "xanchor": "center",
          "xref": "paper",
          "y": 1,
          "yanchor": "bottom",
          "yref": "paper"
         },
         {
          "font": {
           "size": 16
          },
          "showarrow": false,
          "text": "BBC",
          "x": 0.14444444444444446,
          "xanchor": "center",
          "xref": "paper",
          "y": 0.375,
          "yanchor": "bottom",
          "yref": "paper"
         },
         {
          "font": {
           "size": 16
          },
          "showarrow": false,
          "text": "NOS",
          "x": 0.5,
          "xanchor": "center",
          "xref": "paper",
          "y": 0.375,
          "yanchor": "bottom",
          "yref": "paper"
         },
         {
          "font": {
           "size": 16
          },
          "showarrow": false,
          "text": "Geeks4Geeks",
          "x": 0.8555555555555556,
          "xanchor": "center",
          "xref": "paper",
          "y": 0.375,
          "yanchor": "bottom",
          "yref": "paper"
         }
        ],
        "showlegend": false,
        "template": {
         "data": {
          "bar": [
           {
            "error_x": {
             "color": "#2a3f5f"
            },
            "error_y": {
             "color": "#2a3f5f"
            },
            "marker": {
             "line": {
              "color": "#E5ECF6",
              "width": 0.5
             },
             "pattern": {
              "fillmode": "overlay",
              "size": 10,
              "solidity": 0.2
             }
            },
            "type": "bar"
           }
          ],
          "barpolar": [
           {
            "marker": {
             "line": {
              "color": "#E5ECF6",
              "width": 0.5
             },
             "pattern": {
              "fillmode": "overlay",
              "size": 10,
              "solidity": 0.2
             }
            },
            "type": "barpolar"
           }
          ],
          "carpet": [
           {
            "aaxis": {
             "endlinecolor": "#2a3f5f",
             "gridcolor": "white",
             "linecolor": "white",
             "minorgridcolor": "white",
             "startlinecolor": "#2a3f5f"
            },
            "baxis": {
             "endlinecolor": "#2a3f5f",
             "gridcolor": "white",
             "linecolor": "white",
             "minorgridcolor": "white",
             "startlinecolor": "#2a3f5f"
            },
            "type": "carpet"
           }
          ],
          "choropleth": [
           {
            "colorbar": {
             "outlinewidth": 0,
             "ticks": ""
            },
            "type": "choropleth"
           }
          ],
          "contour": [
           {
            "colorbar": {
             "outlinewidth": 0,
             "ticks": ""
            },
            "colorscale": [
             [
              0,
              "#0d0887"
             ],
             [
              0.1111111111111111,
              "#46039f"
             ],
             [
              0.2222222222222222,
              "#7201a8"
             ],
             [
              0.3333333333333333,
              "#9c179e"
             ],
             [
              0.4444444444444444,
              "#bd3786"
             ],
             [
              0.5555555555555556,
              "#d8576b"
             ],
             [
              0.6666666666666666,
              "#ed7953"
             ],
             [
              0.7777777777777778,
              "#fb9f3a"
             ],
             [
              0.8888888888888888,
              "#fdca26"
             ],
             [
              1,
              "#f0f921"
             ]
            ],
            "type": "contour"
           }
          ],
          "contourcarpet": [
           {
            "colorbar": {
             "outlinewidth": 0,
             "ticks": ""
            },
            "type": "contourcarpet"
           }
          ],
          "heatmap": [
           {
            "colorbar": {
             "outlinewidth": 0,
             "ticks": ""
            },
            "colorscale": [
             [
              0,
              "#0d0887"
             ],
             [
              0.1111111111111111,
              "#46039f"
             ],
             [
              0.2222222222222222,
              "#7201a8"
             ],
             [
              0.3333333333333333,
              "#9c179e"
             ],
             [
              0.4444444444444444,
              "#bd3786"
             ],
             [
              0.5555555555555556,
              "#d8576b"
             ],
             [
              0.6666666666666666,
              "#ed7953"
             ],
             [
              0.7777777777777778,
              "#fb9f3a"
             ],
             [
              0.8888888888888888,
              "#fdca26"
             ],
             [
              1,
              "#f0f921"
             ]
            ],
            "type": "heatmap"
           }
          ],
          "heatmapgl": [
           {
            "colorbar": {
             "outlinewidth": 0,
             "ticks": ""
            },
            "colorscale": [
             [
              0,
              "#0d0887"
             ],
             [
              0.1111111111111111,
              "#46039f"
             ],
             [
              0.2222222222222222,
              "#7201a8"
             ],
             [
              0.3333333333333333,
              "#9c179e"
             ],
             [
              0.4444444444444444,
              "#bd3786"
             ],
             [
              0.5555555555555556,
              "#d8576b"
             ],
             [
              0.6666666666666666,
              "#ed7953"
             ],
             [
              0.7777777777777778,
              "#fb9f3a"
             ],
             [
              0.8888888888888888,
              "#fdca26"
             ],
             [
              1,
              "#f0f921"
             ]
            ],
            "type": "heatmapgl"
           }
          ],
          "histogram": [
           {
            "marker": {
             "pattern": {
              "fillmode": "overlay",
              "size": 10,
              "solidity": 0.2
             }
            },
            "type": "histogram"
           }
          ],
          "histogram2d": [
           {
            "colorbar": {
             "outlinewidth": 0,
             "ticks": ""
            },
            "colorscale": [
             [
              0,
              "#0d0887"
             ],
             [
              0.1111111111111111,
              "#46039f"
             ],
             [
              0.2222222222222222,
              "#7201a8"
             ],
             [
              0.3333333333333333,
              "#9c179e"
             ],
             [
              0.4444444444444444,
              "#bd3786"
             ],
             [
              0.5555555555555556,
              "#d8576b"
             ],
             [
              0.6666666666666666,
              "#ed7953"
             ],
             [
              0.7777777777777778,
              "#fb9f3a"
             ],
             [
              0.8888888888888888,
              "#fdca26"
             ],
             [
              1,
              "#f0f921"
             ]
            ],
            "type": "histogram2d"
           }
          ],
          "histogram2dcontour": [
           {
            "colorbar": {
             "outlinewidth": 0,
             "ticks": ""
            },
            "colorscale": [
             [
              0,
              "#0d0887"
             ],
             [
              0.1111111111111111,
              "#46039f"
             ],
             [
              0.2222222222222222,
              "#7201a8"
             ],
             [
              0.3333333333333333,
              "#9c179e"
             ],
             [
              0.4444444444444444,
              "#bd3786"
             ],
             [
              0.5555555555555556,
              "#d8576b"
             ],
             [
              0.6666666666666666,
              "#ed7953"
             ],
             [
              0.7777777777777778,
              "#fb9f3a"
             ],
             [
              0.8888888888888888,
              "#fdca26"
             ],
             [
              1,
              "#f0f921"
             ]
            ],
            "type": "histogram2dcontour"
           }
          ],
          "mesh3d": [
           {
            "colorbar": {
             "outlinewidth": 0,
             "ticks": ""
            },
            "type": "mesh3d"
           }
          ],
          "parcoords": [
           {
            "line": {
             "colorbar": {
              "outlinewidth": 0,
              "ticks": ""
             }
            },
            "type": "parcoords"
           }
          ],
          "pie": [
           {
            "automargin": true,
            "type": "pie"
           }
          ],
          "scatter": [
           {
            "marker": {
             "colorbar": {
              "outlinewidth": 0,
              "ticks": ""
             }
            },
            "type": "scatter"
           }
          ],
          "scatter3d": [
           {
            "line": {
             "colorbar": {
              "outlinewidth": 0,
              "ticks": ""
             }
            },
            "marker": {
             "colorbar": {
              "outlinewidth": 0,
              "ticks": ""
             }
            },
            "type": "scatter3d"
           }
          ],
          "scattercarpet": [
           {
            "marker": {
             "colorbar": {
              "outlinewidth": 0,
              "ticks": ""
             }
            },
            "type": "scattercarpet"
           }
          ],
          "scattergeo": [
           {
            "marker": {
             "colorbar": {
              "outlinewidth": 0,
              "ticks": ""
             }
            },
            "type": "scattergeo"
           }
          ],
          "scattergl": [
           {
            "marker": {
             "colorbar": {
              "outlinewidth": 0,
              "ticks": ""
             }
            },
            "type": "scattergl"
           }
          ],
          "scattermapbox": [
           {
            "marker": {
             "colorbar": {
              "outlinewidth": 0,
              "ticks": ""
             }
            },
            "type": "scattermapbox"
           }
          ],
          "scatterpolar": [
           {
            "marker": {
             "colorbar": {
              "outlinewidth": 0,
              "ticks": ""
             }
            },
            "type": "scatterpolar"
           }
          ],
          "scatterpolargl": [
           {
            "marker": {
             "colorbar": {
              "outlinewidth": 0,
              "ticks": ""
             }
            },
            "type": "scatterpolargl"
           }
          ],
          "scatterternary": [
           {
            "marker": {
             "colorbar": {
              "outlinewidth": 0,
              "ticks": ""
             }
            },
            "type": "scatterternary"
           }
          ],
          "surface": [
           {
            "colorbar": {
             "outlinewidth": 0,
             "ticks": ""
            },
            "colorscale": [
             [
              0,
              "#0d0887"
             ],
             [
              0.1111111111111111,
              "#46039f"
             ],
             [
              0.2222222222222222,
              "#7201a8"
             ],
             [
              0.3333333333333333,
              "#9c179e"
             ],
             [
              0.4444444444444444,
              "#bd3786"
             ],
             [
              0.5555555555555556,
              "#d8576b"
             ],
             [
              0.6666666666666666,
              "#ed7953"
             ],
             [
              0.7777777777777778,
              "#fb9f3a"
             ],
             [
              0.8888888888888888,
              "#fdca26"
             ],
             [
              1,
              "#f0f921"
             ]
            ],
            "type": "surface"
           }
          ],
          "table": [
           {
            "cells": {
             "fill": {
              "color": "#EBF0F8"
             },
             "line": {
              "color": "white"
             }
            },
            "header": {
             "fill": {
              "color": "#C8D4E3"
             },
             "line": {
              "color": "white"
             }
            },
            "type": "table"
           }
          ]
         },
         "layout": {
          "annotationdefaults": {
           "arrowcolor": "#2a3f5f",
           "arrowhead": 0,
           "arrowwidth": 1
          },
          "autotypenumbers": "strict",
          "coloraxis": {
           "colorbar": {
            "outlinewidth": 0,
            "ticks": ""
           }
          },
          "colorscale": {
           "diverging": [
            [
             0,
             "#8e0152"
            ],
            [
             0.1,
             "#c51b7d"
            ],
            [
             0.2,
             "#de77ae"
            ],
            [
             0.3,
             "#f1b6da"
            ],
            [
             0.4,
             "#fde0ef"
            ],
            [
             0.5,
             "#f7f7f7"
            ],
            [
             0.6,
             "#e6f5d0"
            ],
            [
             0.7,
             "#b8e186"
            ],
            [
             0.8,
             "#7fbc41"
            ],
            [
             0.9,
             "#4d9221"
            ],
            [
             1,
             "#276419"
            ]
           ],
           "sequential": [
            [
             0,
             "#0d0887"
            ],
            [
             0.1111111111111111,
             "#46039f"
            ],
            [
             0.2222222222222222,
             "#7201a8"
            ],
            [
             0.3333333333333333,
             "#9c179e"
            ],
            [
             0.4444444444444444,
             "#bd3786"
            ],
            [
             0.5555555555555556,
             "#d8576b"
            ],
            [
             0.6666666666666666,
             "#ed7953"
            ],
            [
             0.7777777777777778,
             "#fb9f3a"
            ],
            [
             0.8888888888888888,
             "#fdca26"
            ],
            [
             1,
             "#f0f921"
            ]
           ],
           "sequentialminus": [
            [
             0,
             "#0d0887"
            ],
            [
             0.1111111111111111,
             "#46039f"
            ],
            [
             0.2222222222222222,
             "#7201a8"
            ],
            [
             0.3333333333333333,
             "#9c179e"
            ],
            [
             0.4444444444444444,
             "#bd3786"
            ],
            [
             0.5555555555555556,
             "#d8576b"
            ],
            [
             0.6666666666666666,
             "#ed7953"
            ],
            [
             0.7777777777777778,
             "#fb9f3a"
            ],
            [
             0.8888888888888888,
             "#fdca26"
            ],
            [
             1,
             "#f0f921"
            ]
           ]
          },
          "colorway": [
           "#636efa",
           "#EF553B",
           "#00cc96",
           "#ab63fa",
           "#FFA15A",
           "#19d3f3",
           "#FF6692",
           "#B6E880",
           "#FF97FF",
           "#FECB52"
          ],
          "font": {
           "color": "#2a3f5f"
          },
          "geo": {
           "bgcolor": "white",
           "lakecolor": "white",
           "landcolor": "#E5ECF6",
           "showlakes": true,
           "showland": true,
           "subunitcolor": "white"
          },
          "hoverlabel": {
           "align": "left"
          },
          "hovermode": "closest",
          "mapbox": {
           "style": "light"
          },
          "paper_bgcolor": "white",
          "plot_bgcolor": "#E5ECF6",
          "polar": {
           "angularaxis": {
            "gridcolor": "white",
            "linecolor": "white",
            "ticks": ""
           },
           "bgcolor": "#E5ECF6",
           "radialaxis": {
            "gridcolor": "white",
            "linecolor": "white",
            "ticks": ""
           }
          },
          "scene": {
           "xaxis": {
            "backgroundcolor": "#E5ECF6",
            "gridcolor": "white",
            "gridwidth": 2,
            "linecolor": "white",
            "showbackground": true,
            "ticks": "",
            "zerolinecolor": "white"
           },
           "yaxis": {
            "backgroundcolor": "#E5ECF6",
            "gridcolor": "white",
            "gridwidth": 2,
            "linecolor": "white",
            "showbackground": true,
            "ticks": "",
            "zerolinecolor": "white"
           },
           "zaxis": {
            "backgroundcolor": "#E5ECF6",
            "gridcolor": "white",
            "gridwidth": 2,
            "linecolor": "white",
            "showbackground": true,
            "ticks": "",
            "zerolinecolor": "white"
           }
          },
          "shapedefaults": {
           "line": {
            "color": "#2a3f5f"
           }
          },
          "ternary": {
           "aaxis": {
            "gridcolor": "white",
            "linecolor": "white",
            "ticks": ""
           },
           "baxis": {
            "gridcolor": "white",
            "linecolor": "white",
            "ticks": ""
           },
           "bgcolor": "#E5ECF6",
           "caxis": {
            "gridcolor": "white",
            "linecolor": "white",
            "ticks": ""
           }
          },
          "title": {
           "x": 0.05
          },
          "xaxis": {
           "automargin": true,
           "gridcolor": "white",
           "linecolor": "white",
           "ticks": "",
           "title": {
            "standoff": 15
           },
           "zerolinecolor": "white",
           "zerolinewidth": 2
          },
          "yaxis": {
           "automargin": true,
           "gridcolor": "white",
           "linecolor": "white",
           "ticks": "",
           "title": {
            "standoff": 15
           },
           "zerolinecolor": "white",
           "zerolinewidth": 2
          }
         }
        },
        "title": {
         "text": "Distribution of classes in the datasets"
        }
       }
      }
     },
     "metadata": {},
     "output_type": "display_data"
    }
   ],
   "source": [
    "from plotly.subplots import make_subplots\n",
    "import plotly.graph_objects as go\n",
    "import itertools\n",
    "\n",
    "fig = make_subplots(rows=2, cols=3, specs=[[{'type':'pie'}, {'type':'pie'}, {'type':'pie'}], [{'type':'pie'}, {'type':'pie'},{'type':'pie'}]],\n",
    "                    subplot_titles=dataset_names)\n",
    "\n",
    "k = 0\n",
    "for i,j in itertools.product(range(2), range(3)):\n",
    "    fig.add_trace(go.Pie(\n",
    "        labels=datasets[k]['label'].value_counts().index, \n",
    "        values=datasets[k]['label'].value_counts().values,\n",
    "        name=dataset_names[k],\n",
    "        textposition='inside', textinfo='percent+label',\n",
    "        title={'text': f'Average text length: {datasets[k][\"text\"].apply(lambda x: len(str(x).split())).mean():.2f} words',\n",
    "               'font': {'size': 10}}\n",
    "            ),\n",
    "        row = i+1, col = j+1)\n",
    "\n",
    "    fig.update\n",
    "    k += 1\n",
    "\n",
    "\n",
    "fig.update_layout(title_text='Distribution of classes in the datasets',\n",
    "                    showlegend=False)\n",
    "\n",
    "fig.write_html('plots/distribution_of_classes.html')\n",
    "fig.show()"
   ]
  },
  {
   "attachments": {},
   "cell_type": "markdown",
   "metadata": {},
   "source": [
    "## Classifiers"
   ]
  },
  {
   "attachments": {},
   "cell_type": "markdown",
   "metadata": {},
   "source": [
    "So here we set up the classifiers we are going to use. Since SKLearn has a constant interface, we can just use a list of classifiers and iterate over them. For example, they all have a `fit` method, and a `predict` method. So we can just call them in a loop, and get the results. That is what I've seen in the other notebooks."
   ]
  },
  {
   "cell_type": "code",
   "execution_count": 4,
   "metadata": {},
   "outputs": [],
   "source": [
    "# we will import Naive Bayes, softmax classifier, and svm\n",
    "from sklearn.naive_bayes import MultinomialNB\n",
    "from sklearn.linear_model import LogisticRegression\n",
    "from sklearn.svm import SVC"
   ]
  },
  {
   "cell_type": "code",
   "execution_count": 5,
   "metadata": {},
   "outputs": [],
   "source": [
    "classifiers_old = [\n",
    "    MultinomialNB(),\n",
    "    LogisticRegression(penalty='elasticnet', solver='saga', l1_ratio=1, C=0.1),\n",
    "    LogisticRegression(penalty='l2', C=0.1),\n",
    "    SVC()\n",
    "]\n",
    "\n",
    "classifier_names = ['Naive Bayes', 'Softmax ElasticNet', 'Softmax L2', 'SVM']"
   ]
  },
  {
   "cell_type": "code",
   "execution_count": 137,
   "metadata": {},
   "outputs": [],
   "source": [
    "import nbc\n",
    "\n",
    "cnbc = nbc.ClassicalNaiveBayes() # Classical Naive Bayes\n",
    "wnbc = nbc.ClassicalNaiveBayes() # Weighted Naive Bayes\n",
    "nbL2 = nbc.ClassicalNaiveBayes() # Naive Bayes with L2 regularization\n",
    "wnbL2 = nbc.ClassicalNaiveBayes() # Weighted Naive Bayes with L2 regularization\n",
    "\n",
    "classifiers = [cnbc, wnbc, nbL2, wnbL2]\n",
    "classifier_names = ['ClassicalNB', 'WeightedNB', 'NBL2', 'WeightedNBL2']\n",
    "\n",
    "def fit_and_score(X_train, y_train, X_test, y_test):\n",
    "    # fit all classifiers\n",
    "    print(f'Fitting {classifier_names[0]}')\n",
    "    cnbc.fit(X_train, y_train)\n",
    "    print(f'Fitting {classifier_names[1]}')\n",
    "    wnbc.fit(X_train, y_train, weight=True)\n",
    "    print(f'Fitting {classifier_names[2]}')\n",
    "    nbL2.fit_L2(X_train, y_train)\n",
    "    print(f'Fitting {classifier_names[3]}')\n",
    "    wnbL2.fit_L2(X_train, y_train, weight=True)\n",
    "\n",
    "    training_acc = [cls.score(X_train, y_train) for cls in classifiers]\n",
    "    test_acc     = [cls.score(X_test, y_test) for cls in classifiers]\n",
    "\n",
    "    return training_acc, test_acc"
   ]
  },
  {
   "attachments": {},
   "cell_type": "markdown",
   "metadata": {},
   "source": [
    "## Fit and Predict\n",
    "\n",
    "So here we fit the model, and predict the results. I am just printint the accuracy for the training set, and the test set. But we can also print other metrics. Also SKLearn has a `classification_report` function that can be used to print the precision, recall, and f1-score for each class, just writing this down so I don't forget."
   ]
  },
  {
   "cell_type": "code",
   "execution_count": 6,
   "metadata": {},
   "outputs": [],
   "source": [
    "# we will import train_test_split to split our data\n",
    "from sklearn.model_selection import train_test_split"
   ]
  },
  {
   "cell_type": "code",
   "execution_count": 105,
   "metadata": {},
   "outputs": [],
   "source": [
    "# load stopwords\n",
    "with open('stopwords/spanish', 'rb') as f:\n",
    "    spanish_stopwords = pickle.load(f)\n",
    "\n",
    "with open('stopwords/english', 'rb') as f:\n",
    "    english_stopwords = pickle.load(f)\n",
    "\n",
    "with open('stopwords/portuguese.pkl', 'rb') as f:\n",
    "    portuguese_stopwords = pickle.load(f)\n",
    "\n",
    "with open('stopwords/dutch.pkl', 'rb') as f:\n",
    "    dutch_stopwords = pickle.load(f)"
   ]
  },
  {
   "cell_type": "code",
   "execution_count": 128,
   "metadata": {},
   "outputs": [
    {
     "data": {
      "text/plain": [
       "['Huffington Post',\n",
       " 'Bancolombia',\n",
       " 'Folha de Sao Paolo',\n",
       " 'BBC',\n",
       " 'NOS',\n",
       " 'Geeks4Geeks']"
      ]
     },
     "execution_count": 128,
     "metadata": {},
     "output_type": "execute_result"
    }
   ],
   "source": [
    "for dataset in datasets:\n",
    "    dataset['text'] = dataset['text'].astype(str)\n",
    "dataset_names"
   ]
  },
  {
   "cell_type": "code",
   "execution_count": 130,
   "metadata": {},
   "outputs": [],
   "source": [
    "# we will import CountVectorizer to vectorize our text\n",
    "from sklearn.feature_extraction.text import CountVectorizer\n",
    "\n",
    "vectorizer_huffpost    = CountVectorizer(min_df=5, stop_words=english_stopwords)\n",
    "vectorizer_bancolombia = CountVectorizer(min_df=5, stop_words=spanish_stopwords)\n",
    "vectorizer_folha       = CountVectorizer(min_df=5, stop_words=portuguese_stopwords)\n",
    "vectorizer_bbc         = CountVectorizer(min_df=5, stop_words=english_stopwords)\n",
    "vectorizer_nos         = CountVectorizer(min_df=5, stop_words=dutch_stopwords)\n",
    "vectorizer_geeks4geeks = CountVectorizer(min_df=5, stop_words=english_stopwords)\n",
    "\n",
    "vectorizers = [vectorizer_huffpost, vectorizer_bancolombia, vectorizer_folha, vectorizer_bbc, vectorizer_nos, vectorizer_geeks4geeks]\n",
    "\n",
    "X = [vect.fit_transform(dataset['text']) for vect, dataset in zip(vectorizers, datasets)]\n",
    "Y = [dataset['label'] for dataset in datasets]\n",
    "\n",
    "# save vectorizers and X\n",
    "with open('vectorizers.pkl', 'wb') as f:\n",
    "    pickle.dump(vectorizers, f)\n",
    "\n",
    "with open('X.pkl', 'wb') as f:\n",
    "    pickle.dump(X, f)"
   ]
  },
  {
   "cell_type": "code",
   "execution_count": 138,
   "metadata": {},
   "outputs": [
    {
     "name": "stdout",
     "output_type": "stream",
     "text": [
      "Fitting ClassicalNB\n",
      "Fitting WeightedNB\n",
      "Fitting NBL2\n",
      "Fitting WeightedNBL2\n",
      "Fitting ClassicalNB\n",
      "Fitting WeightedNB\n",
      "Fitting NBL2\n",
      "Fitting WeightedNBL2\n",
      "Fitting ClassicalNB\n",
      "Fitting WeightedNB\n",
      "Fitting NBL2\n",
      "Fitting WeightedNBL2\n",
      "Fitting ClassicalNB\n",
      "Fitting WeightedNB\n",
      "Fitting NBL2\n",
      "Fitting WeightedNBL2\n",
      "Fitting ClassicalNB\n",
      "Fitting WeightedNB\n",
      "Fitting NBL2\n",
      "Fitting WeightedNBL2\n",
      "Fitting ClassicalNB\n",
      "Fitting WeightedNB\n",
      "Fitting NBL2\n",
      "Fitting WeightedNBL2\n"
     ]
    }
   ],
   "source": [
    "# we will import train_test_split to split our data\n",
    "from sklearn.model_selection import train_test_split\n",
    "\n",
    "# Number of simulations for each dataset\n",
    "M = 5\n",
    "\n",
    "accuracy = pd.DataFrame(columns=classifier_names)\n",
    "\n",
    "for x, y, dataset_name in zip(X, Y, dataset_names):\n",
    "    X_train, X_test, y_train, y_test = train_test_split(x, y, test_size=0.2, random_state=42)\n",
    "\n",
    "    print(f'Fitting {dataset_name} dataset')\n",
    "    training_acc, test_acc = fit_and_score(X_train, y_train, X_test, y_test)\n",
    "\n",
    "    accuracy.loc[f'{dataset_name} Train'] = training_acc\n",
    "    accuracy.loc[f'{dataset_name} Test'] = test_acc"
   ]
  },
  {
   "cell_type": "code",
   "execution_count": 139,
   "metadata": {},
   "outputs": [
    {
     "data": {
      "text/html": [
       "<div>\n",
       "<style scoped>\n",
       "    .dataframe tbody tr th:only-of-type {\n",
       "        vertical-align: middle;\n",
       "    }\n",
       "\n",
       "    .dataframe tbody tr th {\n",
       "        vertical-align: top;\n",
       "    }\n",
       "\n",
       "    .dataframe thead th {\n",
       "        text-align: right;\n",
       "    }\n",
       "</style>\n",
       "<table border=\"1\" class=\"dataframe\">\n",
       "  <thead>\n",
       "    <tr style=\"text-align: right;\">\n",
       "      <th></th>\n",
       "      <th>ClassicalNB</th>\n",
       "      <th>WeightedNB</th>\n",
       "      <th>NBL2</th>\n",
       "      <th>WeightedNBL2</th>\n",
       "    </tr>\n",
       "  </thead>\n",
       "  <tbody>\n",
       "    <tr>\n",
       "      <th>Huffington Post Train</th>\n",
       "      <td>0.528907</td>\n",
       "      <td>0.528907</td>\n",
       "      <td>0.169710</td>\n",
       "      <td>0.019753</td>\n",
       "    </tr>\n",
       "    <tr>\n",
       "      <th>Huffington Post Test</th>\n",
       "      <td>0.434520</td>\n",
       "      <td>0.434520</td>\n",
       "      <td>0.170739</td>\n",
       "      <td>0.019711</td>\n",
       "    </tr>\n",
       "    <tr>\n",
       "      <th>Bancolombia Train</th>\n",
       "      <td>0.951696</td>\n",
       "      <td>0.951696</td>\n",
       "      <td>0.996917</td>\n",
       "      <td>0.996917</td>\n",
       "    </tr>\n",
       "    <tr>\n",
       "      <th>Bancolombia Test</th>\n",
       "      <td>0.864754</td>\n",
       "      <td>0.864754</td>\n",
       "      <td>0.758197</td>\n",
       "      <td>0.758197</td>\n",
       "    </tr>\n",
       "    <tr>\n",
       "      <th>Folha de Sao Paolo Train</th>\n",
       "      <td>0.920128</td>\n",
       "      <td>0.920128</td>\n",
       "      <td>0.730919</td>\n",
       "      <td>0.730919</td>\n",
       "    </tr>\n",
       "    <tr>\n",
       "      <th>Folha de Sao Paolo Test</th>\n",
       "      <td>0.889076</td>\n",
       "      <td>0.889076</td>\n",
       "      <td>0.726828</td>\n",
       "      <td>0.726828</td>\n",
       "    </tr>\n",
       "    <tr>\n",
       "      <th>BBC Train</th>\n",
       "      <td>0.993820</td>\n",
       "      <td>0.993820</td>\n",
       "      <td>1.000000</td>\n",
       "      <td>1.000000</td>\n",
       "    </tr>\n",
       "    <tr>\n",
       "      <th>BBC Test</th>\n",
       "      <td>0.973034</td>\n",
       "      <td>0.973034</td>\n",
       "      <td>0.941573</td>\n",
       "      <td>0.941573</td>\n",
       "    </tr>\n",
       "    <tr>\n",
       "      <th>NOS Train</th>\n",
       "      <td>0.712266</td>\n",
       "      <td>0.712266</td>\n",
       "      <td>0.338108</td>\n",
       "      <td>0.338108</td>\n",
       "    </tr>\n",
       "    <tr>\n",
       "      <th>NOS Test</th>\n",
       "      <td>0.684452</td>\n",
       "      <td>0.684452</td>\n",
       "      <td>0.337377</td>\n",
       "      <td>0.337377</td>\n",
       "    </tr>\n",
       "    <tr>\n",
       "      <th>Geeks4Geeks Train</th>\n",
       "      <td>0.451302</td>\n",
       "      <td>0.451302</td>\n",
       "      <td>0.464436</td>\n",
       "      <td>0.464436</td>\n",
       "    </tr>\n",
       "    <tr>\n",
       "      <th>Geeks4Geeks Test</th>\n",
       "      <td>0.357112</td>\n",
       "      <td>0.357112</td>\n",
       "      <td>0.353494</td>\n",
       "      <td>0.353494</td>\n",
       "    </tr>\n",
       "  </tbody>\n",
       "</table>\n",
       "</div>"
      ],
      "text/plain": [
       "                          ClassicalNB  WeightedNB      NBL2  WeightedNBL2\n",
       "Huffington Post Train        0.528907    0.528907  0.169710      0.019753\n",
       "Huffington Post Test         0.434520    0.434520  0.170739      0.019711\n",
       "Bancolombia Train            0.951696    0.951696  0.996917      0.996917\n",
       "Bancolombia Test             0.864754    0.864754  0.758197      0.758197\n",
       "Folha de Sao Paolo Train     0.920128    0.920128  0.730919      0.730919\n",
       "Folha de Sao Paolo Test      0.889076    0.889076  0.726828      0.726828\n",
       "BBC Train                    0.993820    0.993820  1.000000      1.000000\n",
       "BBC Test                     0.973034    0.973034  0.941573      0.941573\n",
       "NOS Train                    0.712266    0.712266  0.338108      0.338108\n",
       "NOS Test                     0.684452    0.684452  0.337377      0.337377\n",
       "Geeks4Geeks Train            0.451302    0.451302  0.464436      0.464436\n",
       "Geeks4Geeks Test             0.357112    0.357112  0.353494      0.353494"
      ]
     },
     "execution_count": 139,
     "metadata": {},
     "output_type": "execute_result"
    }
   ],
   "source": [
    "accuracy"
   ]
  },
  {
   "attachments": {},
   "cell_type": "markdown",
   "metadata": {},
   "source": [
    "## Evaluation\n",
    "\n",
    "Here we can look deeper into the models. As an example, below I am printing the most important words (that have the highest conditonal probability given a class) for the Naive Bayes."
   ]
  },
  {
   "cell_type": "code",
   "execution_count": 23,
   "metadata": {},
   "outputs": [
    {
     "data": {
      "text/plain": [
       "(7, 7661)"
      ]
     },
     "execution_count": 23,
     "metadata": {},
     "output_type": "execute_result"
    }
   ],
   "source": [
    "sknbc = MultinomialNB()\n",
    "sknbc.fit(X_train, y_train)\n",
    "phi = sknbc.feature_log_prob_\n",
    "phi.shape"
   ]
  },
  {
   "cell_type": "code",
   "execution_count": 24,
   "metadata": {},
   "outputs": [
    {
     "name": "stdout",
     "output_type": "stream",
     "text": [
      "Most informative features for each class for Naive Bayes\n",
      "\n",
      "Alianzas:\t parte, presidente, año, mercado, empresas, 000, país, millones, alianza, colombia\n",
      "Innovacion:\t tecnología, forma, través, innovación, digital, empresas, banco, datos, clientes, bbva\n",
      "Macroeconomia:\t aumento, economía, alimentos, 2022, mayor, crecimiento, bbva, año, precios, inflación\n",
      "Otra:\t\t 000, crédito, financiera, entidad, año, clientes, colombia, millones, banco, bbva\n",
      "Regulaciones:\t año, si, servicios, gobierno, mercado, país, dijo, empresas, colombia, regulación\n",
      "Reputacion:\t mejor, puesto, colombia, país, 10, millones, posición, sector, reputación, empresas\n",
      "Sostenibilidad:\t puede, millones, cada, además, cambio, agua, sostenibilidad, sostenible, energía, bbva\n"
     ]
    }
   ],
   "source": [
    "print('Most informative features for each class for Naive Bayes', end='\\n\\n')\n",
    "for i, cls in enumerate(sknbc.classes_):\n",
    "    if cls == 'Otra':\n",
    "        print(f'{cls}:\\t\\t', end=' ')\n",
    "    else:\n",
    "        print(f'{cls}:\\t', end=' ')\n",
    "    print(', '.join([vectorizer.get_feature_names()[j] for j in phi[i].argsort()[-10:]]))"
   ]
  },
  {
   "cell_type": "code",
   "execution_count": 30,
   "metadata": {},
   "outputs": [],
   "source": [
    "import nbc # our own implementation of Naive Bayes\n",
    "\n",
    "cnbc    = nbc.ClassicalNaiveBayes() # Generic Naive Bayes with Laplace smoothing\n",
    "wnbc   = nbc.ClassicalNaiveBayes() # Naive Bayes with Laplace smoothing with word weights\n",
    "nbc_L2  = nbc.ClassicalNaiveBayes() # Naive Bayes with L2 regularization\n",
    "nbc_L2w = nbc.ClassicalNaiveBayes() # Naive Bayes with L2 regularization with word weights\n",
    "\n",
    "def fit_and_score(X_train, y_train, X_test, y_test):\n",
    "    # fit all classifiers\n",
    "    cnbc.fit(X_train, y_train)\n",
    "    wnbc.fit(X_train, y_train, weight=True)\n",
    "    nbc_L2.fit_L2(X_train, y_train)\n",
    "    nbc_L2w.fit_L2(X_train, y_train, weight=True)\n",
    "\n",
    "    training_acc = [cnbc.score(X_train, y_train), wnbc.score(X_train, y_train), nbc_L2.score(X_train, y_train), nbc_L2w.score(X_train, y_train)]\n",
    "    test_acc     = [cnbc.score(X_test, y_test), wnbc.score(X_test, y_test), nbc_L2.score(X_test, y_test), nbc_L2w.score(X_test, y_test)]\n",
    "\n",
    "    return training_acc, test_acc"
   ]
  },
  {
   "cell_type": "code",
   "execution_count": 32,
   "metadata": {},
   "outputs": [
    {
     "name": "stdout",
     "output_type": "stream",
     "text": [
      "Starting gradient ascent with alpha = 1e-06 and l2 = 1000\n",
      "Starting gradient ascent with alpha = 1e-06 and l2 = 1000\n"
     ]
    }
   ],
   "source": [
    "training_acc, test_acc = fit_and_score(X_train, y_train, X_test, y_test)"
   ]
  },
  {
   "cell_type": "code",
   "execution_count": 34,
   "metadata": {},
   "outputs": [
    {
     "data": {
      "text/html": [
       "<div>\n",
       "<style scoped>\n",
       "    .dataframe tbody tr th:only-of-type {\n",
       "        vertical-align: middle;\n",
       "    }\n",
       "\n",
       "    .dataframe tbody tr th {\n",
       "        vertical-align: top;\n",
       "    }\n",
       "\n",
       "    .dataframe thead th {\n",
       "        text-align: right;\n",
       "    }\n",
       "</style>\n",
       "<table border=\"1\" class=\"dataframe\">\n",
       "  <thead>\n",
       "    <tr style=\"text-align: right;\">\n",
       "      <th></th>\n",
       "      <th>ClassicalNB</th>\n",
       "      <th>WNBC</th>\n",
       "      <th>L2NBC</th>\n",
       "      <th>L2WNBC</th>\n",
       "    </tr>\n",
       "  </thead>\n",
       "  <tbody>\n",
       "    <tr>\n",
       "      <th>Bancolombia-training</th>\n",
       "      <td>0.951696</td>\n",
       "      <td>0.951696</td>\n",
       "      <td>0.996917</td>\n",
       "      <td>0.996917</td>\n",
       "    </tr>\n",
       "    <tr>\n",
       "      <th>Bancolombia-test</th>\n",
       "      <td>0.864754</td>\n",
       "      <td>0.864754</td>\n",
       "      <td>0.758197</td>\n",
       "      <td>0.758197</td>\n",
       "    </tr>\n",
       "  </tbody>\n",
       "</table>\n",
       "</div>"
      ],
      "text/plain": [
       "                      ClassicalNB      WNBC     L2NBC    L2WNBC\n",
       "Bancolombia-training     0.951696  0.951696  0.996917  0.996917\n",
       "Bancolombia-test         0.864754  0.864754  0.758197  0.758197"
      ]
     },
     "execution_count": 34,
     "metadata": {},
     "output_type": "execute_result"
    }
   ],
   "source": [
    "accuracy = pd.DataFrame(columns=['ClassicalNB', 'WNBC', 'L2NBC', 'L2WNBC'])\n",
    "\n",
    "accuracy.loc['Bancolombia-training'] = training_acc\n",
    "accuracy.loc['Bancolombia-test'] = test_acc\n",
    "\n",
    "accuracy"
   ]
  },
  {
   "cell_type": "code",
   "execution_count": 36,
   "metadata": {},
   "outputs": [
    {
     "name": "stdout",
     "output_type": "stream",
     "text": [
      "Most informative features for each class for Naive Bayes\n",
      "\n",
      "Alianzas:\t parte, presidente, año, mercado, empresas, 000, país, millones, alianza, colombia\n",
      "Alianzas:\t parte, año, presidente, mercado, empresas, 000, país, millones, alianza, colombia\n",
      "Innovacion:\t tecnología, forma, través, innovación, digital, empresas, banco, datos, clientes, bbva\n",
      "Innovacion:\t tecnología, forma, través, innovación, digital, empresas, banco, datos, clientes, bbva\n",
      "Macroeconomia:\t aumento, economía, alimentos, 2022, mayor, crecimiento, bbva, año, precios, inflación\n",
      "Macroeconomia:\t economía, aumento, alimentos, 2022, mayor, crecimiento, bbva, año, precios, inflación\n",
      "Otra:\t\t 000, crédito, financiera, entidad, año, clientes, colombia, millones, banco, bbva\n",
      "Otra:\t\t 000, crédito, financiera, entidad, año, colombia, clientes, millones, banco, bbva\n",
      "Regulaciones:\t año, si, servicios, gobierno, mercado, país, dijo, empresas, colombia, regulación\n",
      "Regulaciones:\t sector, si, servicios, gobierno, mercado, país, dijo, empresas, colombia, regulación\n",
      "Reputacion:\t mejor, puesto, colombia, país, 10, millones, posición, sector, reputación, empresas\n",
      "Reputacion:\t ranking, colombia, país, puesto, millones, 10, posición, sector, reputación, empresas\n",
      "Sostenibilidad:\t puede, millones, cada, además, cambio, agua, sostenibilidad, sostenible, energía, bbva\n",
      "Sostenibilidad:\t puede, emisiones, cada, además, cambio, agua, sostenibilidad, sostenible, energía, bbva\n"
     ]
    }
   ],
   "source": [
    "print('Most informative features for each class for Naive Bayes', end='\\n\\n')\n",
    "for i, cls in enumerate(wnbc.classes):\n",
    "    if cls == 'Otra':\n",
    "        print(f'{cls}:\\t\\t', end=' ')\n",
    "    else:\n",
    "        print(f'{cls}:\\t', end=' ')\n",
    "    print(', '.join([vectorizer.get_feature_names()[j] for j in cnbc.phi.T[i].argsort()[-10:]]))\n",
    "\n",
    "    if cls == 'Otra':\n",
    "        print(f'{cls}:\\t\\t', end=' ')\n",
    "    else:\n",
    "        print(f'{cls}:\\t', end=' ')\n",
    "        \n",
    "    print(', '.join([vectorizer.get_feature_names()[j] for j in wnbc.phi.T[i].argsort()[-10:]]))"
   ]
  }
 ],
 "metadata": {
  "kernelspec": {
   "display_name": "Python 3.9.12 ('base')",
   "language": "python",
   "name": "python3"
  },
  "language_info": {
   "codemirror_mode": {
    "name": "ipython",
    "version": 3
   },
   "file_extension": ".py",
   "mimetype": "text/x-python",
   "name": "python",
   "nbconvert_exporter": "python",
   "pygments_lexer": "ipython3",
   "version": "3.9.12 (main, Apr  5 2022, 01:53:17) \n[Clang 12.0.0 ]"
  },
  "orig_nbformat": 4,
  "vscode": {
   "interpreter": {
    "hash": "782117f08ed859aa13a701b87eaecaa1d2e6c59a6ebb52301f0d1b251c4747e4"
   }
  }
 },
 "nbformat": 4,
 "nbformat_minor": 2
}
