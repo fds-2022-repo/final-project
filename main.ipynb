{
 "cells": [
  {
   "attachments": {},
   "cell_type": "markdown",
   "metadata": {},
   "source": [
    "# FDS Final Project - Cemplate\n",
    "Ima drop some template here for easy implementation"
   ]
  },
  {
   "cell_type": "code",
   "execution_count": 1,
   "metadata": {},
   "outputs": [],
   "source": [
    "import pandas as pd\n",
    "import numpy as np\n",
    "\n",
    "import pickle\n",
    "import time\n",
    "\n",
    "# surpess warnings\n",
    "import warnings\n",
    "warnings.filterwarnings('ignore')"
   ]
  },
  {
   "attachments": {},
   "cell_type": "markdown",
   "metadata": {},
   "source": [
    "## Datasets\n",
    "\n",
    "So here, we can prepare the datasets to test out the models. We can use several of them during our analysis, and see how the models perform on different datasets. If there is no variation in the performance, then we may remove all but one before the final submission. Or use it as an evidence of robustness. \n",
    "\n",
    "I am intentionally not changing the columns for now, so you can see the data as it is. Later on, we will have one column of **text** and one column of **label**."
   ]
  },
  {
   "cell_type": "code",
   "execution_count": 331,
   "metadata": {},
   "outputs": [
    {
     "data": {
      "text/html": [
       "<div>\n",
       "<style scoped>\n",
       "    .dataframe tbody tr th:only-of-type {\n",
       "        vertical-align: middle;\n",
       "    }\n",
       "\n",
       "    .dataframe tbody tr th {\n",
       "        vertical-align: top;\n",
       "    }\n",
       "\n",
       "    .dataframe thead th {\n",
       "        text-align: right;\n",
       "    }\n",
       "</style>\n",
       "<table border=\"1\" class=\"dataframe\">\n",
       "  <thead>\n",
       "    <tr style=\"text-align: right;\">\n",
       "      <th></th>\n",
       "      <th>text</th>\n",
       "      <th>label</th>\n",
       "    </tr>\n",
       "  </thead>\n",
       "  <tbody>\n",
       "    <tr>\n",
       "      <th>0</th>\n",
       "      <td>Health experts said it is too early to predict...</td>\n",
       "      <td>U.S. NEWS</td>\n",
       "    </tr>\n",
       "  </tbody>\n",
       "</table>\n",
       "</div>"
      ],
      "text/plain": [
       "                                                text      label\n",
       "0  Health experts said it is too early to predict...  U.S. NEWS"
      ]
     },
     "execution_count": 331,
     "metadata": {},
     "output_type": "execute_result"
    }
   ],
   "source": [
    "# Dataset 1 from Huffington Post\n",
    "huffpost = pd.read_json('data/huff_post.json', lines=True).dropna().reset_index()\n",
    "huffpost = huffpost[['short_description', 'category']]\n",
    "huffpost.columns = ['text', 'label']\n",
    "huffpost.head(1)"
   ]
  },
  {
   "cell_type": "code",
   "execution_count": 332,
   "metadata": {},
   "outputs": [
    {
     "data": {
      "text/html": [
       "<div>\n",
       "<style scoped>\n",
       "    .dataframe tbody tr th:only-of-type {\n",
       "        vertical-align: middle;\n",
       "    }\n",
       "\n",
       "    .dataframe tbody tr th {\n",
       "        vertical-align: top;\n",
       "    }\n",
       "\n",
       "    .dataframe thead th {\n",
       "        text-align: right;\n",
       "    }\n",
       "</style>\n",
       "<table border=\"1\" class=\"dataframe\">\n",
       "  <thead>\n",
       "    <tr style=\"text-align: right;\">\n",
       "      <th></th>\n",
       "      <th>text</th>\n",
       "      <th>label</th>\n",
       "    </tr>\n",
       "  </thead>\n",
       "  <tbody>\n",
       "    <tr>\n",
       "      <th>0</th>\n",
       "      <td>Durante el foro La banca articulador empresari...</td>\n",
       "      <td>Otra</td>\n",
       "    </tr>\n",
       "  </tbody>\n",
       "</table>\n",
       "</div>"
      ],
      "text/plain": [
       "                                                text label\n",
       "0  Durante el foro La banca articulador empresari...  Otra"
      ]
     },
     "execution_count": 332,
     "metadata": {},
     "output_type": "execute_result"
    }
   ],
   "source": [
    "# Dataset 2 from Bancolombia\n",
    "bancolombia = pd.read_csv('data/bancolombia.csv').dropna().reset_index()\n",
    "bancolombia = bancolombia[['news', 'Type']]\n",
    "bancolombia.columns = ['text', 'label']\n",
    "bancolombia.head(1)"
   ]
  },
  {
   "cell_type": "code",
   "execution_count": 345,
   "metadata": {},
   "outputs": [
    {
     "data": {
      "text/html": [
       "<div>\n",
       "<style scoped>\n",
       "    .dataframe tbody tr th:only-of-type {\n",
       "        vertical-align: middle;\n",
       "    }\n",
       "\n",
       "    .dataframe tbody tr th {\n",
       "        vertical-align: top;\n",
       "    }\n",
       "\n",
       "    .dataframe thead th {\n",
       "        text-align: right;\n",
       "    }\n",
       "</style>\n",
       "<table border=\"1\" class=\"dataframe\">\n",
       "  <thead>\n",
       "    <tr style=\"text-align: right;\">\n",
       "      <th></th>\n",
       "      <th>text</th>\n",
       "      <th>label</th>\n",
       "    </tr>\n",
       "  </thead>\n",
       "  <tbody>\n",
       "    <tr>\n",
       "      <th>0</th>\n",
       "      <td>DA BBC BRASIL  O trimestre de maio a julho des...</td>\n",
       "      <td>sobretudo</td>\n",
       "    </tr>\n",
       "  </tbody>\n",
       "</table>\n",
       "</div>"
      ],
      "text/plain": [
       "                                                text      label\n",
       "0  DA BBC BRASIL  O trimestre de maio a julho des...  sobretudo"
      ]
     },
     "execution_count": 345,
     "metadata": {},
     "output_type": "execute_result"
    }
   ],
   "source": [
    "# Dataset 3 from Folha de Sao Paulo\n",
    "# https://www.kaggle.com/datasets/marlesson/news-of-the-site-folhauol\n",
    "folha = pd.read_csv('data/folha.csv').dropna().reset_index()\n",
    "folha = folha[['text', 'category']]\n",
    "folha.columns = ['text', 'label']\n",
    "folha.head(1)"
   ]
  },
  {
   "cell_type": "code",
   "execution_count": 334,
   "metadata": {},
   "outputs": [
    {
     "data": {
      "text/html": [
       "<div>\n",
       "<style scoped>\n",
       "    .dataframe tbody tr th:only-of-type {\n",
       "        vertical-align: middle;\n",
       "    }\n",
       "\n",
       "    .dataframe tbody tr th {\n",
       "        vertical-align: top;\n",
       "    }\n",
       "\n",
       "    .dataframe thead th {\n",
       "        text-align: right;\n",
       "    }\n",
       "</style>\n",
       "<table border=\"1\" class=\"dataframe\">\n",
       "  <thead>\n",
       "    <tr style=\"text-align: right;\">\n",
       "      <th></th>\n",
       "      <th>text</th>\n",
       "      <th>label</th>\n",
       "    </tr>\n",
       "  </thead>\n",
       "  <tbody>\n",
       "    <tr>\n",
       "      <th>0</th>\n",
       "      <td>Quarterly profits at US media giant TimeWarner...</td>\n",
       "      <td>business</td>\n",
       "    </tr>\n",
       "  </tbody>\n",
       "</table>\n",
       "</div>"
      ],
      "text/plain": [
       "                                                text     label\n",
       "0  Quarterly profits at US media giant TimeWarner...  business"
      ]
     },
     "execution_count": 334,
     "metadata": {},
     "output_type": "execute_result"
    }
   ],
   "source": [
    "# Dataset 4 from BBC, no null values\n",
    "bbc = pd.read_csv('data/bbc.csv').dropna().reset_index()\n",
    "bbc = bbc[['content', 'category']]\n",
    "bbc.columns = ['text', 'label']\n",
    "bbc.head(1)"
   ]
  },
  {
   "cell_type": "code",
   "execution_count": 335,
   "metadata": {},
   "outputs": [
    {
     "data": {
      "text/html": [
       "<div>\n",
       "<style scoped>\n",
       "    .dataframe tbody tr th:only-of-type {\n",
       "        vertical-align: middle;\n",
       "    }\n",
       "\n",
       "    .dataframe tbody tr th {\n",
       "        vertical-align: top;\n",
       "    }\n",
       "\n",
       "    .dataframe thead th {\n",
       "        text-align: right;\n",
       "    }\n",
       "</style>\n",
       "<table border=\"1\" class=\"dataframe\">\n",
       "  <thead>\n",
       "    <tr style=\"text-align: right;\">\n",
       "      <th></th>\n",
       "      <th>text</th>\n",
       "      <th>label</th>\n",
       "    </tr>\n",
       "  </thead>\n",
       "  <tbody>\n",
       "    <tr>\n",
       "      <th>0</th>\n",
       "      <td>De enige kerncentrale van Litouwen is oudjaars...</td>\n",
       "      <td>Buitenland</td>\n",
       "    </tr>\n",
       "  </tbody>\n",
       "</table>\n",
       "</div>"
      ],
      "text/plain": [
       "                                                text       label\n",
       "0  De enige kerncentrale van Litouwen is oudjaars...  Buitenland"
      ]
     },
     "execution_count": 335,
     "metadata": {},
     "output_type": "execute_result"
    }
   ],
   "source": [
    "# Dataset 4 from NOS\n",
    "# https://www.kaggle.com/datasets/maxscheijen/dutch-news-articles\n",
    "nos = pd.read_csv('data/nos.csv').dropna().reset_index()\n",
    "nos = nos[['content', 'category']]\n",
    "nos.columns = ['text', 'label']\n",
    "nos.head(1)"
   ]
  },
  {
   "cell_type": "code",
   "execution_count": 336,
   "metadata": {},
   "outputs": [
    {
     "data": {
      "text/html": [
       "<div>\n",
       "<style scoped>\n",
       "    .dataframe tbody tr th:only-of-type {\n",
       "        vertical-align: middle;\n",
       "    }\n",
       "\n",
       "    .dataframe tbody tr th {\n",
       "        vertical-align: top;\n",
       "    }\n",
       "\n",
       "    .dataframe thead th {\n",
       "        text-align: right;\n",
       "    }\n",
       "</style>\n",
       "<table border=\"1\" class=\"dataframe\">\n",
       "  <thead>\n",
       "    <tr style=\"text-align: right;\">\n",
       "      <th></th>\n",
       "      <th>text</th>\n",
       "      <th>label</th>\n",
       "    </tr>\n",
       "  </thead>\n",
       "  <tbody>\n",
       "    <tr>\n",
       "      <th>0</th>\n",
       "      <td>5 Best Practices For Writing SQL Joins</td>\n",
       "      <td>easy</td>\n",
       "    </tr>\n",
       "  </tbody>\n",
       "</table>\n",
       "</div>"
      ],
      "text/plain": [
       "                                     text label\n",
       "0  5 Best Practices For Writing SQL Joins  easy"
      ]
     },
     "execution_count": 336,
     "metadata": {},
     "output_type": "execute_result"
    }
   ],
   "source": [
    "# Dataset 5 from Geeks4Geeks\n",
    "# https://www.kaggle.com/datasets/ashishjangra27/geeksforgeeks-articles\n",
    "geeks4geeks = pd.read_csv('data/geeks4geeks.csv').dropna().reset_index()\n",
    "geeks4geeks = geeks4geeks[['title', 'category']]\n",
    "geeks4geeks.columns = ['text', 'label']\n",
    "geeks4geeks.head(1)"
   ]
  },
  {
   "cell_type": "code",
   "execution_count": 337,
   "metadata": {},
   "outputs": [],
   "source": [
    "# Now we put the datasets in a list\n",
    "datasets = [huffpost, bancolombia, folha, bbc, nos, geeks4geeks]\n",
    "dataset_names = ['huffpost', 'bancolombia', 'folha', 'bbc', 'nos', 'geeks4geeks']\n",
    "dataset_names = ['Huffington Post', 'Bancolombia', 'Folha de Sao Paolo', 'BBC', 'NOS', 'Geeks4Geeks']"
   ]
  },
  {
   "cell_type": "code",
   "execution_count": 344,
   "metadata": {},
   "outputs": [
    {
     "data": {
      "text/plain": [
       "colunas                  21619\n",
       "esporte                   2859\n",
       "tv                        2123\n",
       "sobretudo                 1057\n",
       "poder                      939\n",
       "saopaulo                   471\n",
       "paineldoleitor             260\n",
       "empreendedorsocial         150\n",
       "o-melhor-de-sao-paulo       71\n",
       "cotidiano                   35\n",
       "multimidia                  27\n",
       "Name: label, dtype: int64"
      ]
     },
     "execution_count": 344,
     "metadata": {},
     "output_type": "execute_result"
    }
   ],
   "source": [
    "folha['label'].value_counts()"
   ]
  },
  {
   "cell_type": "code",
   "execution_count": 339,
   "metadata": {},
   "outputs": [
    {
     "name": "stdout",
     "output_type": "stream",
     "text": [
      "Huffington Post (209527, 2) 42\n",
      "Bancolombia (1217, 2) 7\n",
      "Folha de Sao Paolo (29611, 2) 11\n",
      "BBC (2225, 2) 5\n",
      "NOS (246457, 2) 11\n",
      "Geeks4Geeks (34551, 2) 5\n"
     ]
    }
   ],
   "source": [
    "for i in range(len(datasets)):\n",
    "    print(dataset_names[i], datasets[i].shape, len(datasets[i]['label'].value_counts()))"
   ]
  },
  {
   "cell_type": "code",
   "execution_count": 346,
   "metadata": {},
   "outputs": [
    {
     "data": {
      "application/vnd.plotly.v1+json": {
       "config": {
        "plotlyServerURL": "https://plot.ly"
       },
       "data": [
        {
         "domain": {
          "x": [
           0,
           0.2888888888888889
          ],
          "y": [
           0.625,
           1
          ]
         },
         "labels": [
          "POLITICS",
          "WELLNESS",
          "ENTERTAINMENT",
          "TRAVEL",
          "STYLE & BEAUTY",
          "PARENTING",
          "HEALTHY LIVING",
          "QUEER VOICES",
          "FOOD & DRINK",
          "BUSINESS",
          "COMEDY",
          "SPORTS",
          "BLACK VOICES",
          "HOME & LIVING",
          "PARENTS",
          "THE WORLDPOST",
          "WEDDINGS",
          "WOMEN",
          "CRIME",
          "IMPACT",
          "DIVORCE",
          "WORLD NEWS",
          "MEDIA",
          "WEIRD NEWS",
          "GREEN",
          "WORLDPOST",
          "RELIGION",
          "STYLE",
          "SCIENCE",
          "TECH",
          "TASTE",
          "MONEY",
          "ARTS",
          "ENVIRONMENT",
          "FIFTY",
          "GOOD NEWS",
          "U.S. NEWS",
          "ARTS & CULTURE",
          "COLLEGE",
          "LATINO VOICES",
          "CULTURE & ARTS",
          "EDUCATION"
         ],
         "name": "Huffington Post",
         "textinfo": "percent+label",
         "textposition": "inside",
         "title": {
          "font": {
           "size": 10
          },
          "text": "Average text length: 19.67 words"
         },
         "type": "pie",
         "values": [
          35602,
          17945,
          17362,
          9900,
          9814,
          8791,
          6694,
          6347,
          6340,
          5992,
          5400,
          5077,
          4583,
          4320,
          3955,
          3664,
          3653,
          3572,
          3562,
          3484,
          3426,
          3299,
          2944,
          2777,
          2622,
          2579,
          2577,
          2254,
          2206,
          2104,
          2096,
          1756,
          1509,
          1444,
          1401,
          1398,
          1377,
          1339,
          1144,
          1130,
          1074,
          1014
         ]
        },
        {
         "domain": {
          "x": [
           0.35555555555555557,
           0.6444444444444445
          ],
          "y": [
           0.625,
           1
          ]
         },
         "labels": [
          "Macroeconomia",
          "Alianzas",
          "Innovacion",
          "Regulaciones",
          "Sostenibilidad",
          "Otra",
          "Reputacion"
         ],
         "name": "Bancolombia",
         "textinfo": "percent+label",
         "textposition": "inside",
         "title": {
          "font": {
           "size": 10
          },
          "text": "Average text length: 516.55 words"
         },
         "type": "pie",
         "values": [
          340,
          247,
          195,
          142,
          137,
          130,
          26
         ]
        },
        {
         "domain": {
          "x": [
           0.7111111111111111,
           1
          ],
          "y": [
           0.625,
           1
          ]
         },
         "labels": [
          "colunas",
          "esporte",
          "tv",
          "sobretudo",
          "poder",
          "saopaulo",
          "paineldoleitor",
          "empreendedorsocial",
          "o-melhor-de-sao-paulo",
          "cotidiano",
          "multimidia"
         ],
         "name": "Folha de Sao Paolo",
         "textinfo": "percent+label",
         "textposition": "inside",
         "title": {
          "font": {
           "size": 10
          },
          "text": "Average text length: 451.11 words"
         },
         "type": "pie",
         "values": [
          21619,
          2859,
          2123,
          1057,
          939,
          471,
          260,
          150,
          71,
          35,
          27
         ]
        },
        {
         "domain": {
          "x": [
           0,
           0.2888888888888889
          ],
          "y": [
           0,
           0.375
          ]
         },
         "labels": [
          "sport",
          "business",
          "politics",
          "tech",
          "entertainment"
         ],
         "name": "BBC",
         "textinfo": "percent+label",
         "textposition": "inside",
         "title": {
          "font": {
           "size": 10
          },
          "text": "Average text length: 378.84 words"
         },
         "type": "pie",
         "values": [
          511,
          510,
          417,
          401,
          386
         ]
        },
        {
         "domain": {
          "x": [
           0.35555555555555557,
           0.6444444444444445
          ],
          "y": [
           0,
           0.375
          ]
         },
         "labels": [
          "Buitenland",
          "Binnenland",
          "Politiek",
          "Economie",
          "Regionaal nieuws",
          "Koningshuis",
          "Opmerkelijk",
          "Cultuur & Media",
          "Tech",
          "Cultuur-En-Media",
          "Regio"
         ],
         "name": "NOS",
         "textinfo": "percent+label",
         "textposition": "inside",
         "title": {
          "font": {
           "size": 10
          },
          "text": "Average text length: 253.22 words"
         },
         "type": "pie",
         "values": [
          94592,
          83298,
          22273,
          20120,
          16657,
          3076,
          2766,
          2433,
          1035,
          139,
          68
         ]
        },
        {
         "domain": {
          "x": [
           0.7111111111111111,
           1
          ],
          "y": [
           0,
           0.375
          ]
         },
         "labels": [
          "medium",
          "easy",
          "basic",
          "hard",
          "expert"
         ],
         "name": "Geeks4Geeks",
         "textinfo": "percent+label",
         "textposition": "inside",
         "title": {
          "font": {
           "size": 10
          },
          "text": "Average text length: 7.83 words"
         },
         "type": "pie",
         "values": [
          10431,
          9654,
          8140,
          4232,
          2094
         ]
        }
       ],
       "layout": {
        "annotations": [
         {
          "font": {
           "size": 16
          },
          "showarrow": false,
          "text": "Huffington Post",
          "x": 0.14444444444444446,
          "xanchor": "center",
          "xref": "paper",
          "y": 1,
          "yanchor": "bottom",
          "yref": "paper"
         },
         {
          "font": {
           "size": 16
          },
          "showarrow": false,
          "text": "Bancolombia",
          "x": 0.5,
          "xanchor": "center",
          "xref": "paper",
          "y": 1,
          "yanchor": "bottom",
          "yref": "paper"
         },
         {
          "font": {
           "size": 16
          },
          "showarrow": false,
          "text": "Folha de Sao Paolo",
          "x": 0.8555555555555556,
          "xanchor": "center",
          "xref": "paper",
          "y": 1,
          "yanchor": "bottom",
          "yref": "paper"
         },
         {
          "font": {
           "size": 16
          },
          "showarrow": false,
          "text": "BBC",
          "x": 0.14444444444444446,
          "xanchor": "center",
          "xref": "paper",
          "y": 0.375,
          "yanchor": "bottom",
          "yref": "paper"
         },
         {
          "font": {
           "size": 16
          },
          "showarrow": false,
          "text": "NOS",
          "x": 0.5,
          "xanchor": "center",
          "xref": "paper",
          "y": 0.375,
          "yanchor": "bottom",
          "yref": "paper"
         },
         {
          "font": {
           "size": 16
          },
          "showarrow": false,
          "text": "Geeks4Geeks",
          "x": 0.8555555555555556,
          "xanchor": "center",
          "xref": "paper",
          "y": 0.375,
          "yanchor": "bottom",
          "yref": "paper"
         }
        ],
        "showlegend": false,
        "template": {
         "data": {
          "bar": [
           {
            "error_x": {
             "color": "#2a3f5f"
            },
            "error_y": {
             "color": "#2a3f5f"
            },
            "marker": {
             "line": {
              "color": "#E5ECF6",
              "width": 0.5
             },
             "pattern": {
              "fillmode": "overlay",
              "size": 10,
              "solidity": 0.2
             }
            },
            "type": "bar"
           }
          ],
          "barpolar": [
           {
            "marker": {
             "line": {
              "color": "#E5ECF6",
              "width": 0.5
             },
             "pattern": {
              "fillmode": "overlay",
              "size": 10,
              "solidity": 0.2
             }
            },
            "type": "barpolar"
           }
          ],
          "carpet": [
           {
            "aaxis": {
             "endlinecolor": "#2a3f5f",
             "gridcolor": "white",
             "linecolor": "white",
             "minorgridcolor": "white",
             "startlinecolor": "#2a3f5f"
            },
            "baxis": {
             "endlinecolor": "#2a3f5f",
             "gridcolor": "white",
             "linecolor": "white",
             "minorgridcolor": "white",
             "startlinecolor": "#2a3f5f"
            },
            "type": "carpet"
           }
          ],
          "choropleth": [
           {
            "colorbar": {
             "outlinewidth": 0,
             "ticks": ""
            },
            "type": "choropleth"
           }
          ],
          "contour": [
           {
            "colorbar": {
             "outlinewidth": 0,
             "ticks": ""
            },
            "colorscale": [
             [
              0,
              "#0d0887"
             ],
             [
              0.1111111111111111,
              "#46039f"
             ],
             [
              0.2222222222222222,
              "#7201a8"
             ],
             [
              0.3333333333333333,
              "#9c179e"
             ],
             [
              0.4444444444444444,
              "#bd3786"
             ],
             [
              0.5555555555555556,
              "#d8576b"
             ],
             [
              0.6666666666666666,
              "#ed7953"
             ],
             [
              0.7777777777777778,
              "#fb9f3a"
             ],
             [
              0.8888888888888888,
              "#fdca26"
             ],
             [
              1,
              "#f0f921"
             ]
            ],
            "type": "contour"
           }
          ],
          "contourcarpet": [
           {
            "colorbar": {
             "outlinewidth": 0,
             "ticks": ""
            },
            "type": "contourcarpet"
           }
          ],
          "heatmap": [
           {
            "colorbar": {
             "outlinewidth": 0,
             "ticks": ""
            },
            "colorscale": [
             [
              0,
              "#0d0887"
             ],
             [
              0.1111111111111111,
              "#46039f"
             ],
             [
              0.2222222222222222,
              "#7201a8"
             ],
             [
              0.3333333333333333,
              "#9c179e"
             ],
             [
              0.4444444444444444,
              "#bd3786"
             ],
             [
              0.5555555555555556,
              "#d8576b"
             ],
             [
              0.6666666666666666,
              "#ed7953"
             ],
             [
              0.7777777777777778,
              "#fb9f3a"
             ],
             [
              0.8888888888888888,
              "#fdca26"
             ],
             [
              1,
              "#f0f921"
             ]
            ],
            "type": "heatmap"
           }
          ],
          "heatmapgl": [
           {
            "colorbar": {
             "outlinewidth": 0,
             "ticks": ""
            },
            "colorscale": [
             [
              0,
              "#0d0887"
             ],
             [
              0.1111111111111111,
              "#46039f"
             ],
             [
              0.2222222222222222,
              "#7201a8"
             ],
             [
              0.3333333333333333,
              "#9c179e"
             ],
             [
              0.4444444444444444,
              "#bd3786"
             ],
             [
              0.5555555555555556,
              "#d8576b"
             ],
             [
              0.6666666666666666,
              "#ed7953"
             ],
             [
              0.7777777777777778,
              "#fb9f3a"
             ],
             [
              0.8888888888888888,
              "#fdca26"
             ],
             [
              1,
              "#f0f921"
             ]
            ],
            "type": "heatmapgl"
           }
          ],
          "histogram": [
           {
            "marker": {
             "pattern": {
              "fillmode": "overlay",
              "size": 10,
              "solidity": 0.2
             }
            },
            "type": "histogram"
           }
          ],
          "histogram2d": [
           {
            "colorbar": {
             "outlinewidth": 0,
             "ticks": ""
            },
            "colorscale": [
             [
              0,
              "#0d0887"
             ],
             [
              0.1111111111111111,
              "#46039f"
             ],
             [
              0.2222222222222222,
              "#7201a8"
             ],
             [
              0.3333333333333333,
              "#9c179e"
             ],
             [
              0.4444444444444444,
              "#bd3786"
             ],
             [
              0.5555555555555556,
              "#d8576b"
             ],
             [
              0.6666666666666666,
              "#ed7953"
             ],
             [
              0.7777777777777778,
              "#fb9f3a"
             ],
             [
              0.8888888888888888,
              "#fdca26"
             ],
             [
              1,
              "#f0f921"
             ]
            ],
            "type": "histogram2d"
           }
          ],
          "histogram2dcontour": [
           {
            "colorbar": {
             "outlinewidth": 0,
             "ticks": ""
            },
            "colorscale": [
             [
              0,
              "#0d0887"
             ],
             [
              0.1111111111111111,
              "#46039f"
             ],
             [
              0.2222222222222222,
              "#7201a8"
             ],
             [
              0.3333333333333333,
              "#9c179e"
             ],
             [
              0.4444444444444444,
              "#bd3786"
             ],
             [
              0.5555555555555556,
              "#d8576b"
             ],
             [
              0.6666666666666666,
              "#ed7953"
             ],
             [
              0.7777777777777778,
              "#fb9f3a"
             ],
             [
              0.8888888888888888,
              "#fdca26"
             ],
             [
              1,
              "#f0f921"
             ]
            ],
            "type": "histogram2dcontour"
           }
          ],
          "mesh3d": [
           {
            "colorbar": {
             "outlinewidth": 0,
             "ticks": ""
            },
            "type": "mesh3d"
           }
          ],
          "parcoords": [
           {
            "line": {
             "colorbar": {
              "outlinewidth": 0,
              "ticks": ""
             }
            },
            "type": "parcoords"
           }
          ],
          "pie": [
           {
            "automargin": true,
            "type": "pie"
           }
          ],
          "scatter": [
           {
            "marker": {
             "colorbar": {
              "outlinewidth": 0,
              "ticks": ""
             }
            },
            "type": "scatter"
           }
          ],
          "scatter3d": [
           {
            "line": {
             "colorbar": {
              "outlinewidth": 0,
              "ticks": ""
             }
            },
            "marker": {
             "colorbar": {
              "outlinewidth": 0,
              "ticks": ""
             }
            },
            "type": "scatter3d"
           }
          ],
          "scattercarpet": [
           {
            "marker": {
             "colorbar": {
              "outlinewidth": 0,
              "ticks": ""
             }
            },
            "type": "scattercarpet"
           }
          ],
          "scattergeo": [
           {
            "marker": {
             "colorbar": {
              "outlinewidth": 0,
              "ticks": ""
             }
            },
            "type": "scattergeo"
           }
          ],
          "scattergl": [
           {
            "marker": {
             "colorbar": {
              "outlinewidth": 0,
              "ticks": ""
             }
            },
            "type": "scattergl"
           }
          ],
          "scattermapbox": [
           {
            "marker": {
             "colorbar": {
              "outlinewidth": 0,
              "ticks": ""
             }
            },
            "type": "scattermapbox"
           }
          ],
          "scatterpolar": [
           {
            "marker": {
             "colorbar": {
              "outlinewidth": 0,
              "ticks": ""
             }
            },
            "type": "scatterpolar"
           }
          ],
          "scatterpolargl": [
           {
            "marker": {
             "colorbar": {
              "outlinewidth": 0,
              "ticks": ""
             }
            },
            "type": "scatterpolargl"
           }
          ],
          "scatterternary": [
           {
            "marker": {
             "colorbar": {
              "outlinewidth": 0,
              "ticks": ""
             }
            },
            "type": "scatterternary"
           }
          ],
          "surface": [
           {
            "colorbar": {
             "outlinewidth": 0,
             "ticks": ""
            },
            "colorscale": [
             [
              0,
              "#0d0887"
             ],
             [
              0.1111111111111111,
              "#46039f"
             ],
             [
              0.2222222222222222,
              "#7201a8"
             ],
             [
              0.3333333333333333,
              "#9c179e"
             ],
             [
              0.4444444444444444,
              "#bd3786"
             ],
             [
              0.5555555555555556,
              "#d8576b"
             ],
             [
              0.6666666666666666,
              "#ed7953"
             ],
             [
              0.7777777777777778,
              "#fb9f3a"
             ],
             [
              0.8888888888888888,
              "#fdca26"
             ],
             [
              1,
              "#f0f921"
             ]
            ],
            "type": "surface"
           }
          ],
          "table": [
           {
            "cells": {
             "fill": {
              "color": "#EBF0F8"
             },
             "line": {
              "color": "white"
             }
            },
            "header": {
             "fill": {
              "color": "#C8D4E3"
             },
             "line": {
              "color": "white"
             }
            },
            "type": "table"
           }
          ]
         },
         "layout": {
          "annotationdefaults": {
           "arrowcolor": "#2a3f5f",
           "arrowhead": 0,
           "arrowwidth": 1
          },
          "autotypenumbers": "strict",
          "coloraxis": {
           "colorbar": {
            "outlinewidth": 0,
            "ticks": ""
           }
          },
          "colorscale": {
           "diverging": [
            [
             0,
             "#8e0152"
            ],
            [
             0.1,
             "#c51b7d"
            ],
            [
             0.2,
             "#de77ae"
            ],
            [
             0.3,
             "#f1b6da"
            ],
            [
             0.4,
             "#fde0ef"
            ],
            [
             0.5,
             "#f7f7f7"
            ],
            [
             0.6,
             "#e6f5d0"
            ],
            [
             0.7,
             "#b8e186"
            ],
            [
             0.8,
             "#7fbc41"
            ],
            [
             0.9,
             "#4d9221"
            ],
            [
             1,
             "#276419"
            ]
           ],
           "sequential": [
            [
             0,
             "#0d0887"
            ],
            [
             0.1111111111111111,
             "#46039f"
            ],
            [
             0.2222222222222222,
             "#7201a8"
            ],
            [
             0.3333333333333333,
             "#9c179e"
            ],
            [
             0.4444444444444444,
             "#bd3786"
            ],
            [
             0.5555555555555556,
             "#d8576b"
            ],
            [
             0.6666666666666666,
             "#ed7953"
            ],
            [
             0.7777777777777778,
             "#fb9f3a"
            ],
            [
             0.8888888888888888,
             "#fdca26"
            ],
            [
             1,
             "#f0f921"
            ]
           ],
           "sequentialminus": [
            [
             0,
             "#0d0887"
            ],
            [
             0.1111111111111111,
             "#46039f"
            ],
            [
             0.2222222222222222,
             "#7201a8"
            ],
            [
             0.3333333333333333,
             "#9c179e"
            ],
            [
             0.4444444444444444,
             "#bd3786"
            ],
            [
             0.5555555555555556,
             "#d8576b"
            ],
            [
             0.6666666666666666,
             "#ed7953"
            ],
            [
             0.7777777777777778,
             "#fb9f3a"
            ],
            [
             0.8888888888888888,
             "#fdca26"
            ],
            [
             1,
             "#f0f921"
            ]
           ]
          },
          "colorway": [
           "#636efa",
           "#EF553B",
           "#00cc96",
           "#ab63fa",
           "#FFA15A",
           "#19d3f3",
           "#FF6692",
           "#B6E880",
           "#FF97FF",
           "#FECB52"
          ],
          "font": {
           "color": "#2a3f5f"
          },
          "geo": {
           "bgcolor": "white",
           "lakecolor": "white",
           "landcolor": "#E5ECF6",
           "showlakes": true,
           "showland": true,
           "subunitcolor": "white"
          },
          "hoverlabel": {
           "align": "left"
          },
          "hovermode": "closest",
          "mapbox": {
           "style": "light"
          },
          "paper_bgcolor": "white",
          "plot_bgcolor": "#E5ECF6",
          "polar": {
           "angularaxis": {
            "gridcolor": "white",
            "linecolor": "white",
            "ticks": ""
           },
           "bgcolor": "#E5ECF6",
           "radialaxis": {
            "gridcolor": "white",
            "linecolor": "white",
            "ticks": ""
           }
          },
          "scene": {
           "xaxis": {
            "backgroundcolor": "#E5ECF6",
            "gridcolor": "white",
            "gridwidth": 2,
            "linecolor": "white",
            "showbackground": true,
            "ticks": "",
            "zerolinecolor": "white"
           },
           "yaxis": {
            "backgroundcolor": "#E5ECF6",
            "gridcolor": "white",
            "gridwidth": 2,
            "linecolor": "white",
            "showbackground": true,
            "ticks": "",
            "zerolinecolor": "white"
           },
           "zaxis": {
            "backgroundcolor": "#E5ECF6",
            "gridcolor": "white",
            "gridwidth": 2,
            "linecolor": "white",
            "showbackground": true,
            "ticks": "",
            "zerolinecolor": "white"
           }
          },
          "shapedefaults": {
           "line": {
            "color": "#2a3f5f"
           }
          },
          "ternary": {
           "aaxis": {
            "gridcolor": "white",
            "linecolor": "white",
            "ticks": ""
           },
           "baxis": {
            "gridcolor": "white",
            "linecolor": "white",
            "ticks": ""
           },
           "bgcolor": "#E5ECF6",
           "caxis": {
            "gridcolor": "white",
            "linecolor": "white",
            "ticks": ""
           }
          },
          "title": {
           "x": 0.05
          },
          "xaxis": {
           "automargin": true,
           "gridcolor": "white",
           "linecolor": "white",
           "ticks": "",
           "title": {
            "standoff": 15
           },
           "zerolinecolor": "white",
           "zerolinewidth": 2
          },
          "yaxis": {
           "automargin": true,
           "gridcolor": "white",
           "linecolor": "white",
           "ticks": "",
           "title": {
            "standoff": 15
           },
           "zerolinecolor": "white",
           "zerolinewidth": 2
          }
         }
        },
        "title": {
         "text": "Distribution of classes in the datasets"
        }
       }
      }
     },
     "metadata": {},
     "output_type": "display_data"
    }
   ],
   "source": [
    "from plotly.subplots import make_subplots\n",
    "import plotly.graph_objects as go\n",
    "import itertools\n",
    "\n",
    "fig = make_subplots(rows=2, cols=3, specs=[[{'type':'pie'}, {'type':'pie'}, {'type':'pie'}], [{'type':'pie'}, {'type':'pie'},{'type':'pie'}]],\n",
    "                    subplot_titles=dataset_names)\n",
    "\n",
    "k = 0\n",
    "for i,j in itertools.product(range(2), range(3)):\n",
    "    fig.add_trace(go.Pie(\n",
    "        labels=datasets[k]['label'].value_counts().index, \n",
    "        values=datasets[k]['label'].value_counts().values,\n",
    "        name=dataset_names[k],\n",
    "        textposition='inside', textinfo='percent+label',\n",
    "        title={'text': f'Average text length: {datasets[k][\"text\"].apply(lambda x: len(str(x).split())).mean():.2f} words',\n",
    "               'font': {'size': 10}}\n",
    "            ),\n",
    "        row = i+1, col = j+1)\n",
    "\n",
    "    fig.update\n",
    "    k += 1\n",
    "\n",
    "\n",
    "fig.update_layout(title_text='Distribution of classes in the datasets',\n",
    "                    showlegend=False)\n",
    "\n",
    "fig.write_html('plots/distribution_of_classes.html')\n",
    "fig.show()"
   ]
  },
  {
   "attachments": {},
   "cell_type": "markdown",
   "metadata": {},
   "source": [
    "## Classifiers"
   ]
  },
  {
   "attachments": {},
   "cell_type": "markdown",
   "metadata": {},
   "source": [
    "So here we set up the classifiers we are going to use. Since SKLearn has a constant interface, we can just use a list of classifiers and iterate over them. For example, they all have a `fit` method, and a `predict` method. So we can just call them in a loop, and get the results. That is what I've seen in the other notebooks."
   ]
  },
  {
   "cell_type": "code",
   "execution_count": 44,
   "metadata": {},
   "outputs": [],
   "source": [
    "import nbc\n",
    "\n",
    "cnbc = nbc.ClassicalNaiveBayes() # Classical Naive Bayes\n",
    "wnbc = nbc.ClassicalNaiveBayes() # Weighted Naive Bayes\n",
    "nbL2 = nbc.ClassicalNaiveBayes() # Naive Bayes with L2 regularization\n",
    "wnbL2 = nbc.ClassicalNaiveBayes() # Weighted Naive Bayes with L2 regularization\n",
    "\n",
    "classifiers = [cnbc, wnbc, nbL2, wnbL2]\n",
    "classifier_names = ['ClassicalNB', 'WeightedNB', 'NBL2', 'WeightedNBL2']\n",
    "\n",
    "def fit_and_score(X_train, y_train, X_test, y_test):\n",
    "    # fit all classifiers\n",
    "    cnbc.fit(X_train, y_train)\n",
    "    wnbc.fit(X_train, y_train, weight=True)\n",
    "    nbL2.fit_L2(X_train, y_train)\n",
    "    wnbL2.fit_L2(X_train, y_train, weight=True)\n",
    "\n",
    "    training_acc = [cls.score(X_train, y_train) for cls in classifiers]\n",
    "    test_acc     = [cls.score(X_test, y_test) for cls in classifiers]\n",
    "\n",
    "    return training_acc, test_acc"
   ]
  },
  {
   "attachments": {},
   "cell_type": "markdown",
   "metadata": {},
   "source": [
    "## Fit and Predict\n",
    "\n",
    "So here we fit the model, and predict the results. I am just printint the accuracy for the training set, and the test set. But we can also print other metrics. Also SKLearn has a `classification_report` function that can be used to print the precision, recall, and f1-score for each class, just writing this down so I don't forget."
   ]
  },
  {
   "cell_type": "code",
   "execution_count": 45,
   "metadata": {},
   "outputs": [],
   "source": [
    "# we will import train_test_split to split our data\n",
    "from sklearn.model_selection import train_test_split"
   ]
  },
  {
   "cell_type": "code",
   "execution_count": 46,
   "metadata": {},
   "outputs": [],
   "source": [
    "# load stopwords\n",
    "with open('stopwords/spanish', 'rb') as f:\n",
    "    spanish_stopwords = pickle.load(f)\n",
    "\n",
    "with open('stopwords/english', 'rb') as f:\n",
    "    english_stopwords = pickle.load(f)\n",
    "\n",
    "with open('stopwords/portuguese.pkl', 'rb') as f:\n",
    "    portuguese_stopwords = pickle.load(f)\n",
    "\n",
    "with open('stopwords/dutch.pkl', 'rb') as f:\n",
    "    dutch_stopwords = pickle.load(f)"
   ]
  },
  {
   "cell_type": "code",
   "execution_count": 47,
   "metadata": {},
   "outputs": [
    {
     "data": {
      "text/plain": [
       "['Huffington Post',\n",
       " 'Bancolombia',\n",
       " 'Folha de Sao Paolo',\n",
       " 'BBC',\n",
       " 'NOS',\n",
       " 'Geeks4Geeks']"
      ]
     },
     "execution_count": 47,
     "metadata": {},
     "output_type": "execute_result"
    }
   ],
   "source": [
    "for dataset in datasets:\n",
    "    dataset['text'] = dataset['text'].astype(str)\n",
    "dataset_names"
   ]
  },
  {
   "attachments": {},
   "cell_type": "markdown",
   "metadata": {},
   "source": [
    "### Term Frequency"
   ]
  },
  {
   "cell_type": "code",
   "execution_count": 70,
   "metadata": {},
   "outputs": [],
   "source": [
    "# we will import CountVectorizer to vectorize our text\n",
    "from sklearn.feature_extraction.text import CountVectorizer\n",
    "\n",
    "vectorizer_huffpost    = CountVectorizer(min_df=10, max_df=0.2, max_features=10000, stop_words=english_stopwords)\n",
    "vectorizer_bancolombia = CountVectorizer(min_df=10, max_df=0.2, max_features=10000, stop_words=spanish_stopwords)\n",
    "vectorizer_folha       = CountVectorizer(min_df=10, max_df=0.2, max_features=10000, stop_words=portuguese_stopwords)\n",
    "vectorizer_bbc         = CountVectorizer(min_df=10, max_df=0.2, max_features=10000, stop_words=english_stopwords)\n",
    "vectorizer_nos         = CountVectorizer(min_df=10, max_df=0.2, max_features=10000, stop_words=dutch_stopwords)\n",
    "vectorizer_geeks4geeks = CountVectorizer(min_df=10, max_df=0.2, max_features=10000, stop_words=english_stopwords)\n",
    "\n",
    "vectorizers = [vectorizer_huffpost, vectorizer_bancolombia, vectorizer_folha, vectorizer_bbc, vectorizer_nos, vectorizer_geeks4geeks]\n",
    "\n",
    "X = [vect.fit_transform(dataset['text']) for vect, dataset in zip(vectorizers, datasets)]\n",
    "Y = [dataset['label'] for dataset in datasets]\n",
    "\n",
    "# save vectorizers and X\n",
    "with open('vectorizers.pkl', 'wb') as f:\n",
    "    pickle.dump(vectorizers, f)\n",
    "\n",
    "with open('X.pkl', 'wb') as f:\n",
    "    pickle.dump(X, f)"
   ]
  },
  {
   "cell_type": "code",
   "execution_count": 71,
   "metadata": {},
   "outputs": [
    {
     "name": "stdout",
     "output_type": "stream",
     "text": [
      "(209527, 10000)\n",
      "(1217, 4435)\n",
      "(942, 4022)\n",
      "(2225, 5636)\n",
      "(246457, 10000)\n",
      "(34551, 2092)\n"
     ]
    }
   ],
   "source": [
    "for x in X:\n",
    "    print(x.shape)"
   ]
  },
  {
   "cell_type": "code",
   "execution_count": 91,
   "metadata": {},
   "outputs": [
    {
     "name": "stderr",
     "output_type": "stream",
     "text": [
      "Fitting Huffington Post dataset: 100%|██████████| 10/10 [39:47<00:00, 238.76s/it]\n",
      "Fitting Bancolombia dataset: 100%|██████████| 10/10 [00:20<00:00,  2.09s/it]\n",
      "Fitting Folha de Sao Paolo dataset: 100%|██████████| 10/10 [00:19<00:00,  1.90s/it]\n",
      "Fitting BBC dataset: 100%|██████████| 10/10 [00:21<00:00,  2.11s/it]\n",
      "Fitting NOS dataset: 100%|██████████| 10/10 [42:38<00:00, 255.86s/it]\n",
      "Fitting Geeks4Geeks dataset: 100%|██████████| 10/10 [00:55<00:00,  5.57s/it]\n"
     ]
    }
   ],
   "source": [
    "# we will import train_test_split to split our data\n",
    "from sklearn.model_selection import train_test_split\n",
    "from sklearn.feature_extraction.text import TfidfTransformer as tfidf\n",
    "from tqdm import tqdm\n",
    "# Number of simulations for each dataset\n",
    "M = 10\n",
    "\n",
    "accuracy = pd.DataFrame(columns=[*classifier_names, 'dataset', 'train/test', 'simulation', 'vectorizer'])\n",
    "\n",
    "k = 0\n",
    "for x, y, dataset_name in zip(X, Y, dataset_names):\n",
    "    for i in (pbar := tqdm(range(M))):\n",
    "        pbar.set_description(f'Fitting {dataset_name} dataset')\n",
    "\n",
    "        # split the data into training and testing sets\n",
    "        X_train, X_test, y_train, y_test = train_test_split(x, y, test_size=0.2, random_state=i+1)\n",
    "\n",
    "        # fit and score for count\n",
    "        training_acc, test_acc = fit_and_score(X_train, y_train, X_test, y_test)\n",
    "\n",
    "        # save results\n",
    "        accuracy.loc[k] = [*training_acc, dataset_name, 'train', i+1, 'count']; k += 1\n",
    "        accuracy.loc[k] = [*test_acc, dataset_name, 'test', i+1, 'count']; k += 1\n",
    "\n",
    "        # transform X to tfidf\n",
    "        X_train_idf, X_test_idf = tfidf().fit_transform(X_train), tfidf().fit_transform(X_test)\n",
    "\n",
    "        # fit and score for tfidf\n",
    "        training_acc, test_acc = fit_and_score(X_train_idf, y_train, X_test_idf, y_test)\n",
    "\n",
    "        # save results\n",
    "        accuracy.loc[k] = [*training_acc, dataset_name, 'train', i+1, 'tfidf']; k += 1\n",
    "        accuracy.loc[k] = [*test_acc, dataset_name, 'test', i+1, 'tfidf']; k += 1"
   ]
  },
  {
   "cell_type": "code",
   "execution_count": 93,
   "metadata": {},
   "outputs": [],
   "source": [
    "accuracy\n",
    "\n",
    "# save results\n",
    "accuracy.to_csv('results/accuracy.csv', index=False)"
   ]
  },
  {
   "cell_type": "code",
   "execution_count": 96,
   "metadata": {},
   "outputs": [
    {
     "data": {
      "text/html": [
       "<div>\n",
       "<style scoped>\n",
       "    .dataframe tbody tr th:only-of-type {\n",
       "        vertical-align: middle;\n",
       "    }\n",
       "\n",
       "    .dataframe tbody tr th {\n",
       "        vertical-align: top;\n",
       "    }\n",
       "\n",
       "    .dataframe thead th {\n",
       "        text-align: right;\n",
       "    }\n",
       "</style>\n",
       "<table border=\"1\" class=\"dataframe\">\n",
       "  <thead>\n",
       "    <tr style=\"text-align: right;\">\n",
       "      <th></th>\n",
       "      <th></th>\n",
       "      <th>ClassicalNB</th>\n",
       "      <th>WeightedNB</th>\n",
       "      <th>NBL2</th>\n",
       "      <th>WeightedNBL2</th>\n",
       "      <th>simulation</th>\n",
       "    </tr>\n",
       "    <tr>\n",
       "      <th>dataset</th>\n",
       "      <th>vectorizer</th>\n",
       "      <th></th>\n",
       "      <th></th>\n",
       "      <th></th>\n",
       "      <th></th>\n",
       "      <th></th>\n",
       "    </tr>\n",
       "  </thead>\n",
       "  <tbody>\n",
       "    <tr>\n",
       "      <th rowspan=\"2\" valign=\"top\">BBC</th>\n",
       "      <th>count</th>\n",
       "      <td>0.990169</td>\n",
       "      <td>0.990169</td>\n",
       "      <td>0.999157</td>\n",
       "      <td>0.999157</td>\n",
       "      <td>5.5</td>\n",
       "    </tr>\n",
       "    <tr>\n",
       "      <th>tfidf</th>\n",
       "      <td>0.985000</td>\n",
       "      <td>0.985000</td>\n",
       "      <td>0.999551</td>\n",
       "      <td>0.999551</td>\n",
       "      <td>5.5</td>\n",
       "    </tr>\n",
       "    <tr>\n",
       "      <th rowspan=\"2\" valign=\"top\">Bancolombia</th>\n",
       "      <th>count</th>\n",
       "      <td>0.937205</td>\n",
       "      <td>0.937205</td>\n",
       "      <td>0.992395</td>\n",
       "      <td>0.992395</td>\n",
       "      <td>5.5</td>\n",
       "    </tr>\n",
       "    <tr>\n",
       "      <th>tfidf</th>\n",
       "      <td>0.843371</td>\n",
       "      <td>0.843371</td>\n",
       "      <td>0.992497</td>\n",
       "      <td>0.992497</td>\n",
       "      <td>5.5</td>\n",
       "    </tr>\n",
       "    <tr>\n",
       "      <th rowspan=\"2\" valign=\"top\">Folha de Sao Paolo</th>\n",
       "      <th>count</th>\n",
       "      <td>0.971713</td>\n",
       "      <td>0.971713</td>\n",
       "      <td>0.999070</td>\n",
       "      <td>0.999070</td>\n",
       "      <td>5.5</td>\n",
       "    </tr>\n",
       "    <tr>\n",
       "      <th>tfidf</th>\n",
       "      <td>0.902125</td>\n",
       "      <td>0.902125</td>\n",
       "      <td>1.000000</td>\n",
       "      <td>1.000000</td>\n",
       "      <td>5.5</td>\n",
       "    </tr>\n",
       "    <tr>\n",
       "      <th rowspan=\"2\" valign=\"top\">Geeks4Geeks</th>\n",
       "      <th>count</th>\n",
       "      <td>0.430090</td>\n",
       "      <td>0.430090</td>\n",
       "      <td>0.437051</td>\n",
       "      <td>0.437051</td>\n",
       "      <td>5.5</td>\n",
       "    </tr>\n",
       "    <tr>\n",
       "      <th>tfidf</th>\n",
       "      <td>0.437786</td>\n",
       "      <td>0.437786</td>\n",
       "      <td>0.437066</td>\n",
       "      <td>0.437066</td>\n",
       "      <td>5.5</td>\n",
       "    </tr>\n",
       "    <tr>\n",
       "      <th rowspan=\"2\" valign=\"top\">Huffington Post</th>\n",
       "      <th>count</th>\n",
       "      <td>0.508921</td>\n",
       "      <td>0.508921</td>\n",
       "      <td>0.169982</td>\n",
       "      <td>0.020094</td>\n",
       "      <td>5.5</td>\n",
       "    </tr>\n",
       "    <tr>\n",
       "      <th>tfidf</th>\n",
       "      <td>0.421451</td>\n",
       "      <td>0.421451</td>\n",
       "      <td>0.472270</td>\n",
       "      <td>0.472270</td>\n",
       "      <td>5.5</td>\n",
       "    </tr>\n",
       "    <tr>\n",
       "      <th rowspan=\"2\" valign=\"top\">NOS</th>\n",
       "      <th>count</th>\n",
       "      <td>0.639129</td>\n",
       "      <td>0.639129</td>\n",
       "      <td>0.337759</td>\n",
       "      <td>0.337759</td>\n",
       "      <td>5.5</td>\n",
       "    </tr>\n",
       "    <tr>\n",
       "      <th>tfidf</th>\n",
       "      <td>0.761653</td>\n",
       "      <td>0.761653</td>\n",
       "      <td>0.337759</td>\n",
       "      <td>0.337759</td>\n",
       "      <td>5.5</td>\n",
       "    </tr>\n",
       "  </tbody>\n",
       "</table>\n",
       "</div>"
      ],
      "text/plain": [
       "                               ClassicalNB  WeightedNB      NBL2  \\\n",
       "dataset            vectorizer                                      \n",
       "BBC                count          0.990169    0.990169  0.999157   \n",
       "                   tfidf          0.985000    0.985000  0.999551   \n",
       "Bancolombia        count          0.937205    0.937205  0.992395   \n",
       "                   tfidf          0.843371    0.843371  0.992497   \n",
       "Folha de Sao Paolo count          0.971713    0.971713  0.999070   \n",
       "                   tfidf          0.902125    0.902125  1.000000   \n",
       "Geeks4Geeks        count          0.430090    0.430090  0.437051   \n",
       "                   tfidf          0.437786    0.437786  0.437066   \n",
       "Huffington Post    count          0.508921    0.508921  0.169982   \n",
       "                   tfidf          0.421451    0.421451  0.472270   \n",
       "NOS                count          0.639129    0.639129  0.337759   \n",
       "                   tfidf          0.761653    0.761653  0.337759   \n",
       "\n",
       "                               WeightedNBL2  simulation  \n",
       "dataset            vectorizer                            \n",
       "BBC                count           0.999157         5.5  \n",
       "                   tfidf           0.999551         5.5  \n",
       "Bancolombia        count           0.992395         5.5  \n",
       "                   tfidf           0.992497         5.5  \n",
       "Folha de Sao Paolo count           0.999070         5.5  \n",
       "                   tfidf           1.000000         5.5  \n",
       "Geeks4Geeks        count           0.437051         5.5  \n",
       "                   tfidf           0.437066         5.5  \n",
       "Huffington Post    count           0.020094         5.5  \n",
       "                   tfidf           0.472270         5.5  \n",
       "NOS                count           0.337759         5.5  \n",
       "                   tfidf           0.337759         5.5  "
      ]
     },
     "execution_count": 96,
     "metadata": {},
     "output_type": "execute_result"
    }
   ],
   "source": [
    "accuracy[accuracy['train/test'] == 'train'].groupby(['dataset', 'vectorizer']).mean()"
   ]
  },
  {
   "cell_type": "code",
   "execution_count": 101,
   "metadata": {},
   "outputs": [
    {
     "data": {
      "text/html": [
       "<div>\n",
       "<style scoped>\n",
       "    .dataframe tbody tr th:only-of-type {\n",
       "        vertical-align: middle;\n",
       "    }\n",
       "\n",
       "    .dataframe tbody tr th {\n",
       "        vertical-align: top;\n",
       "    }\n",
       "\n",
       "    .dataframe thead th {\n",
       "        text-align: right;\n",
       "    }\n",
       "</style>\n",
       "<table border=\"1\" class=\"dataframe\">\n",
       "  <thead>\n",
       "    <tr style=\"text-align: right;\">\n",
       "      <th></th>\n",
       "      <th></th>\n",
       "      <th>ClassicalNB</th>\n",
       "      <th>WeightedNB</th>\n",
       "      <th>NBL2</th>\n",
       "      <th>WeightedNBL2</th>\n",
       "      <th>simulation</th>\n",
       "    </tr>\n",
       "    <tr>\n",
       "      <th>dataset</th>\n",
       "      <th>vectorizer</th>\n",
       "      <th></th>\n",
       "      <th></th>\n",
       "      <th></th>\n",
       "      <th></th>\n",
       "      <th></th>\n",
       "    </tr>\n",
       "  </thead>\n",
       "  <tbody>\n",
       "    <tr>\n",
       "      <th rowspan=\"2\" valign=\"top\">BBC</th>\n",
       "      <th>count</th>\n",
       "      <td>0.975506</td>\n",
       "      <td>0.975506</td>\n",
       "      <td>0.940674</td>\n",
       "      <td>0.940674</td>\n",
       "      <td>5.5</td>\n",
       "    </tr>\n",
       "    <tr>\n",
       "      <th>tfidf</th>\n",
       "      <td>0.973933</td>\n",
       "      <td>0.973933</td>\n",
       "      <td>0.940899</td>\n",
       "      <td>0.940899</td>\n",
       "      <td>5.5</td>\n",
       "    </tr>\n",
       "    <tr>\n",
       "      <th rowspan=\"2\" valign=\"top\">Bancolombia</th>\n",
       "      <th>count</th>\n",
       "      <td>0.844262</td>\n",
       "      <td>0.844262</td>\n",
       "      <td>0.738115</td>\n",
       "      <td>0.738115</td>\n",
       "      <td>5.5</td>\n",
       "    </tr>\n",
       "    <tr>\n",
       "      <th>tfidf</th>\n",
       "      <td>0.754918</td>\n",
       "      <td>0.754918</td>\n",
       "      <td>0.750820</td>\n",
       "      <td>0.750820</td>\n",
       "      <td>5.5</td>\n",
       "    </tr>\n",
       "    <tr>\n",
       "      <th rowspan=\"2\" valign=\"top\">Folha de Sao Paolo</th>\n",
       "      <th>count</th>\n",
       "      <td>0.863492</td>\n",
       "      <td>0.863492</td>\n",
       "      <td>0.848677</td>\n",
       "      <td>0.848677</td>\n",
       "      <td>5.5</td>\n",
       "    </tr>\n",
       "    <tr>\n",
       "      <th>tfidf</th>\n",
       "      <td>0.859259</td>\n",
       "      <td>0.859259</td>\n",
       "      <td>0.859259</td>\n",
       "      <td>0.859259</td>\n",
       "      <td>5.5</td>\n",
       "    </tr>\n",
       "    <tr>\n",
       "      <th rowspan=\"2\" valign=\"top\">Geeks4Geeks</th>\n",
       "      <th>count</th>\n",
       "      <td>0.354464</td>\n",
       "      <td>0.354464</td>\n",
       "      <td>0.359239</td>\n",
       "      <td>0.359239</td>\n",
       "      <td>5.5</td>\n",
       "    </tr>\n",
       "    <tr>\n",
       "      <th>tfidf</th>\n",
       "      <td>0.369006</td>\n",
       "      <td>0.369006</td>\n",
       "      <td>0.367950</td>\n",
       "      <td>0.367950</td>\n",
       "      <td>5.5</td>\n",
       "    </tr>\n",
       "    <tr>\n",
       "      <th rowspan=\"2\" valign=\"top\">Huffington Post</th>\n",
       "      <th>count</th>\n",
       "      <td>0.422567</td>\n",
       "      <td>0.422567</td>\n",
       "      <td>0.169651</td>\n",
       "      <td>0.019801</td>\n",
       "      <td>5.5</td>\n",
       "    </tr>\n",
       "    <tr>\n",
       "      <th>tfidf</th>\n",
       "      <td>0.390190</td>\n",
       "      <td>0.390190</td>\n",
       "      <td>0.362146</td>\n",
       "      <td>0.362146</td>\n",
       "      <td>5.5</td>\n",
       "    </tr>\n",
       "    <tr>\n",
       "      <th rowspan=\"2\" valign=\"top\">NOS</th>\n",
       "      <th>count</th>\n",
       "      <td>0.630743</td>\n",
       "      <td>0.630743</td>\n",
       "      <td>0.338753</td>\n",
       "      <td>0.338753</td>\n",
       "      <td>5.5</td>\n",
       "    </tr>\n",
       "    <tr>\n",
       "      <th>tfidf</th>\n",
       "      <td>0.754705</td>\n",
       "      <td>0.754705</td>\n",
       "      <td>0.338753</td>\n",
       "      <td>0.338753</td>\n",
       "      <td>5.5</td>\n",
       "    </tr>\n",
       "  </tbody>\n",
       "</table>\n",
       "</div>"
      ],
      "text/plain": [
       "                               ClassicalNB  WeightedNB      NBL2  \\\n",
       "dataset            vectorizer                                      \n",
       "BBC                count          0.975506    0.975506  0.940674   \n",
       "                   tfidf          0.973933    0.973933  0.940899   \n",
       "Bancolombia        count          0.844262    0.844262  0.738115   \n",
       "                   tfidf          0.754918    0.754918  0.750820   \n",
       "Folha de Sao Paolo count          0.863492    0.863492  0.848677   \n",
       "                   tfidf          0.859259    0.859259  0.859259   \n",
       "Geeks4Geeks        count          0.354464    0.354464  0.359239   \n",
       "                   tfidf          0.369006    0.369006  0.367950   \n",
       "Huffington Post    count          0.422567    0.422567  0.169651   \n",
       "                   tfidf          0.390190    0.390190  0.362146   \n",
       "NOS                count          0.630743    0.630743  0.338753   \n",
       "                   tfidf          0.754705    0.754705  0.338753   \n",
       "\n",
       "                               WeightedNBL2  simulation  \n",
       "dataset            vectorizer                            \n",
       "BBC                count           0.940674         5.5  \n",
       "                   tfidf           0.940899         5.5  \n",
       "Bancolombia        count           0.738115         5.5  \n",
       "                   tfidf           0.750820         5.5  \n",
       "Folha de Sao Paolo count           0.848677         5.5  \n",
       "                   tfidf           0.859259         5.5  \n",
       "Geeks4Geeks        count           0.359239         5.5  \n",
       "                   tfidf           0.367950         5.5  \n",
       "Huffington Post    count           0.019801         5.5  \n",
       "                   tfidf           0.362146         5.5  \n",
       "NOS                count           0.338753         5.5  \n",
       "                   tfidf           0.338753         5.5  "
      ]
     },
     "execution_count": 101,
     "metadata": {},
     "output_type": "execute_result"
    }
   ],
   "source": [
    "accuracy[accuracy['train/test'] == 'test'].groupby(['dataset', 'vectorizer']).mean()"
   ]
  },
  {
   "attachments": {},
   "cell_type": "markdown",
   "metadata": {},
   "source": [
    "## Evaluation\n",
    "\n",
    "Here we can look deeper into the models. As an example, below I am printing the most important words (that have the highest conditonal probability given a class) for the Naive Bayes."
   ]
  },
  {
   "cell_type": "code",
   "execution_count": 110,
   "metadata": {},
   "outputs": [
    {
     "data": {
      "text/plain": [
       "(1,\n",
       " ['Huffington Post',\n",
       "  'Bancolombia',\n",
       "  'Folha de Sao Paolo',\n",
       "  'BBC',\n",
       "  'NOS',\n",
       "  'Geeks4Geeks'])"
      ]
     },
     "execution_count": 110,
     "metadata": {},
     "output_type": "execute_result"
    }
   ],
   "source": [
    "# index of Bancolombia\n",
    "dataset_names.index('Bancolombia'), dataset_names"
   ]
  },
  {
   "cell_type": "code",
   "execution_count": 111,
   "metadata": {},
   "outputs": [],
   "source": [
    "cnbc.fit(X[1], Y[1])\n",
    "nbL2.fit_L2(X[1], Y[1])"
   ]
  },
  {
   "cell_type": "code",
   "execution_count": 164,
   "metadata": {},
   "outputs": [
    {
     "name": "stdout",
     "output_type": "stream",
     "text": [
      "Most informative features for each class for Naive Bayes\n",
      "\n",
      "Alianzas:\t grupo, dijo, acceso, programa, medio, digital, empresa, compañía, usuarios, alianza\n",
      "Innovacion:\t cliente, soluciones, capital, seguridad, permite, digitales, tecnología, españa, innovación, digital\n",
      "Macroeconomia:\t tasas, alza, variación, anual, economista, méxico, puntos, ipc, tasa, alimentos\n",
      "Otra:\t\t sostenibilidad, digitales, sostenible, 2019, banca, tasa, grupo, consumo, tarjetas, crédito\n",
      "Regulaciones:\t comisión, usuarios, uber, ley, industria, trabajo, plataformas, gobierno, dijo, regulación\n",
      "Reputacion:\t lugar, compañías, ranking, empresa, grupo, 10, puesto, posición, marca, reputación\n",
      "Sostenibilidad:\t uso, climático, consumo, carbono, españa, emisiones, sostenibilidad, agua, sostenible, energía\n"
     ]
    }
   ],
   "source": [
    "print('Most informative features for each class for Naive Bayes', end='\\n\\n')\n",
    "important_words = set()\n",
    "\n",
    "for i, cls in enumerate(cnbc.classes):\n",
    "    if cls == 'Otra':\n",
    "        print(f'{cls}:\\t\\t', end=' ')\n",
    "    else:\n",
    "        print(f'{cls}:\\t', end=' ')\n",
    "\n",
    "    if cls in ['Innovacion', 'Macroeconomia']:\n",
    "        important_words.update([(j, vectorizer_bancolombia.get_feature_names()[j]) for j in cnbc.phi.T[i].argsort()[-10:]])\n",
    "        important_words.update([(j, vectorizer_bancolombia.get_feature_names()[j]) for j in nbL2.phi.T[i].argsort()[-10:]])\n",
    "\n",
    "    print(', '.join([vectorizer_bancolombia.get_feature_names()[j] for j in cnbc.phi.T[i].argsort()[-10:]]))"
   ]
  },
  {
   "cell_type": "code",
   "execution_count": 241,
   "metadata": {},
   "outputs": [
    {
     "data": {
      "text/plain": [
       "[1, 2]"
      ]
     },
     "execution_count": 241,
     "metadata": {},
     "output_type": "execute_result"
    }
   ],
   "source": [
    "# Get indexes of Macroeconomia and Innovacion\n",
    "def get_idx(l, items):\n",
    "    return [i for i, x in enumerate(l) if x in items]\n",
    "\n",
    "# Get indexes of Macroeconomia and Innovacion\n",
    "get_idx(cnbc.classes, ['Macroeconomia', 'Innovacion'])"
   ]
  },
  {
   "cell_type": "code",
   "execution_count": 357,
   "metadata": {},
   "outputs": [
    {
     "name": "stdout",
     "output_type": "stream",
     "text": [
      "50.47038261939856 45.02810810045058\n"
     ]
    },
    {
     "ename": "ValueError",
     "evalue": "The truth value of an array with more than one element is ambiguous. Use a.any() or a.all()",
     "output_type": "error",
     "traceback": [
      "\u001b[0;31m---------------------------------------------------------------------------\u001b[0m",
      "\u001b[0;31mValueError\u001b[0m                                Traceback (most recent call last)",
      "\u001b[1;32m/Users/cemsirin/Documents/GitHub/final-project/main.ipynb Cell 33\u001b[0m in \u001b[0;36m<cell line: 43>\u001b[0;34m()\u001b[0m\n\u001b[1;32m     <a href='vscode-notebook-cell:/Users/cemsirin/Documents/GitHub/final-project/main.ipynb#Y115sZmlsZQ%3D%3D?line=40'>41</a>\u001b[0m \u001b[39mprint\u001b[39m(maxchange, minchange)\n\u001b[1;32m     <a href='vscode-notebook-cell:/Users/cemsirin/Documents/GitHub/final-project/main.ipynb#Y115sZmlsZQ%3D%3D?line=42'>43</a>\u001b[0m \u001b[39mfor\u001b[39;00m j, (i, word) \u001b[39min\u001b[39;00m \u001b[39menumerate\u001b[39m(important_words):\n\u001b[0;32m---> <a href='vscode-notebook-cell:/Users/cemsirin/Documents/GitHub/final-project/main.ipynb#Y115sZmlsZQ%3D%3D?line=43'>44</a>\u001b[0m     \u001b[39mif\u001b[39;00m changes[j] \u001b[39m<\u001b[39m\u001b[39m=\u001b[39m minchange \u001b[39mor\u001b[39;00m changes[j] \u001b[39m>\u001b[39m\u001b[39m=\u001b[39m maxchange:\n\u001b[1;32m     <a href='vscode-notebook-cell:/Users/cemsirin/Documents/GitHub/final-project/main.ipynb#Y115sZmlsZQ%3D%3D?line=44'>45</a>\u001b[0m         G\u001b[39m.\u001b[39madd_node(word, color\u001b[39m=\u001b[39msns\u001b[39m.\u001b[39mcolor_palette(\u001b[39m\"\u001b[39m\u001b[39mrocket\u001b[39m\u001b[39m\"\u001b[39m, n_colors\u001b[39m=\u001b[39m\u001b[39m100\u001b[39m)\u001b[39m.\u001b[39mas_hex()[\n\u001b[1;32m     <a href='vscode-notebook-cell:/Users/cemsirin/Documents/GitHub/final-project/main.ipynb#Y115sZmlsZQ%3D%3D?line=45'>46</a>\u001b[0m             \u001b[39mint\u001b[39m(\u001b[39m99\u001b[39m \u001b[39m*\u001b[39m (weights1[j] \u001b[39m-\u001b[39m \u001b[39mmin\u001b[39m(weights1)) \u001b[39m/\u001b[39m (\u001b[39mmax\u001b[39m(weights1) \u001b[39m-\u001b[39m \u001b[39mmin\u001b[39m(weights1)))])\n\u001b[1;32m     <a href='vscode-notebook-cell:/Users/cemsirin/Documents/GitHub/final-project/main.ipynb#Y115sZmlsZQ%3D%3D?line=47'>48</a>\u001b[0m G\u001b[39m.\u001b[39madd_nodes_from(classes, color\u001b[39m=\u001b[39m\u001b[39m'\u001b[39m\u001b[39m#00FF00\u001b[39m\u001b[39m'\u001b[39m)\n",
      "\u001b[0;31mValueError\u001b[0m: The truth value of an array with more than one element is ambiguous. Use a.any() or a.all()"
     ]
    }
   ],
   "source": [
    "import networkx as nx\n",
    "from pyvis.network import Network\n",
    "import seaborn as sns\n",
    "\n",
    "important_words = set()\n",
    "\n",
    "top_words = 5\n",
    "\n",
    "allword = True\n",
    "\n",
    "classes = ['Macroeconomia', 'Innovacion', 'Sostenibilidad']\n",
    "clidx = get_idx(cnbc.classes, classes)\n",
    "\n",
    "if allword:\n",
    "    important_words = set([(j, word) for j, word in enumerate(vectorizer_bancolombia.get_feature_names())])\n",
    "else:\n",
    "    for i, cls in enumerate(cnbc.classes):\n",
    "\n",
    "        if cls in ['Macroeconomia']:\n",
    "            important_words.update([(j, vectorizer_bancolombia.get_feature_names()[j]) for j in cnbc.phi.T[i].argsort()[-top_words:]])\n",
    "            important_words.update([(j, vectorizer_bancolombia.get_feature_names()[j]) for j in nbL2.phi.T[i].argsort()[-top_words:]])\n",
    "\n",
    "G = nx.Graph()\n",
    "\n",
    "# add important words and classes as nodes\n",
    "\n",
    "weights1 = np.array([[cnbc.phi[i, j] for i, word in important_words] for j, cls in enumerate(cnbc.classes) if cls in classes])\n",
    "weights2 = np.array([[nbL2.phi[i, j] for i, word in important_words] for j, cls in enumerate(cnbc.classes) if cls in classes])\n",
    "changes = weights2 - weights1\n",
    "\n",
    "maxchange = np.max(np.abs(changes))\n",
    "minchange = np.min(np.abs(changes))\n",
    "\n",
    "changes[changes > 0] = 50 + 48 * (changes[changes > 0] - minchange) / (maxchange - minchange)\n",
    "changes[changes < 0] = 50 + 48 * (changes[changes < 0] + minchange) / (maxchange - minchange)\n",
    "\n",
    "# filter the changes with top 10% and bottom 10%\n",
    "maxchange = np.percentile(np.abs(changes), 99)\n",
    "minchange = np.percentile(np.abs(changes), 1)\n",
    "\n",
    "print(maxchange, minchange)\n",
    "\n",
    "for j, (i, word) in enumerate(important_words):\n",
    "    G.add_node(word, color=sns.color_palette(\"rocket\", n_colors=100).as_hex()[\n",
    "        int(99 * max((weights1[:,j] - np.min(weights1, axis=1)) / (np.max(weights1,axis=1) - np.min(weights1,axis=1))))\n",
    "        ]\n",
    "        )\n",
    "\n",
    "G.add_nodes_from(classes, color='#00FF00')\n",
    "\n",
    "print('Finished adding nodes')\n",
    "change_bool = True\n",
    "\n",
    "# add edges between important words and classes from cnbc.phi\n",
    "for k, (i, word) in enumerate(important_words):\n",
    "\n",
    "    for j, cls in enumerate(cnbc.classes):\n",
    "        if j not in clidx:\n",
    "            continue\n",
    "\n",
    "        if change_bool:\n",
    "            G.add_edge(word, cls, color=sns.color_palette(\"Spectral_r\", n_colors=100).as_hex()[int(changes[k])])\n",
    "\n",
    "print('Finished adding edges')\n",
    "\n",
    "net = Network(bgcolor='#222222', font_color='white')\n",
    "net.from_nx(G)\n",
    "net.set_edge_smooth('dynamic')\n",
    "net.show_buttons(filter_=['physics'])\n",
    "net.show(f'important_words.html')"
   ]
  },
  {
   "cell_type": "code",
   "execution_count": 364,
   "metadata": {},
   "outputs": [
    {
     "data": {
      "text/plain": [
       "(3, 3, 4435, array([2.19630581e-05, 1.44402247e-05, 2.37574836e-05]))"
      ]
     },
     "execution_count": 364,
     "metadata": {},
     "output_type": "execute_result"
    }
   ],
   "source": [
    "len(weights1), len(weights2), len(weights1[0]), np.min(weights1, axis=1)"
   ]
  },
  {
   "cell_type": "code",
   "execution_count": 328,
   "metadata": {},
   "outputs": [
    {
     "data": {
      "text/plain": [
       "(-0.00867074655143806, 0.00021467967422580578)"
      ]
     },
     "execution_count": 328,
     "metadata": {},
     "output_type": "execute_result"
    }
   ],
   "source": [
    "change = nbL2.phi - cnbc.phi\n",
    " \n",
    "np.min(change), np.max(change)"
   ]
  },
  {
   "cell_type": "code",
   "execution_count": 315,
   "metadata": {},
   "outputs": [
    {
     "data": {
      "text/plain": [
       "MultinomialNB()"
      ]
     },
     "execution_count": 315,
     "metadata": {},
     "output_type": "execute_result"
    }
   ],
   "source": [
    "# import nbc from sklearn\n",
    "from sklearn.naive_bayes import MultinomialNB as skNBC\n",
    "\n",
    "# create a new NBC\n",
    "skNBC = skNBC()\n",
    "\n",
    "# fit the model\n",
    "skNBC.fit(X[1], bancolombia['label'])"
   ]
  }
 ],
 "metadata": {
  "kernelspec": {
   "display_name": "Python 3.9.12 ('base')",
   "language": "python",
   "name": "python3"
  },
  "language_info": {
   "codemirror_mode": {
    "name": "ipython",
    "version": 3
   },
   "file_extension": ".py",
   "mimetype": "text/x-python",
   "name": "python",
   "nbconvert_exporter": "python",
   "pygments_lexer": "ipython3",
   "version": "3.9.12"
  },
  "orig_nbformat": 4,
  "vscode": {
   "interpreter": {
    "hash": "782117f08ed859aa13a701b87eaecaa1d2e6c59a6ebb52301f0d1b251c4747e4"
   }
  }
 },
 "nbformat": 4,
 "nbformat_minor": 2
}
