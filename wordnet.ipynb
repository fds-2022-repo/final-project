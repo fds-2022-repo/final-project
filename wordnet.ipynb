{
 "cells": [
  {
   "attachments": {},
   "cell_type": "markdown",
   "metadata": {},
   "source": [
    "# FDS Final Project\n",
    "Ima drop some template here for easy implementation"
   ]
  },
  {
   "cell_type": "code",
   "execution_count": 1,
   "metadata": {},
   "outputs": [],
   "source": [
    "import pandas as pd\n",
    "import numpy as np\n",
    "\n",
    "import pickle\n",
    "import time\n",
    "\n",
    "# surpess warnings\n",
    "import warnings\n",
    "warnings.filterwarnings('ignore')\n",
    "\n",
    "import matplotlib.pyplot as plt"
   ]
  },
  {
   "cell_type": "code",
   "execution_count": 17,
   "metadata": {},
   "outputs": [
    {
     "data": {
      "text/html": [
       "<div>\n",
       "<style scoped>\n",
       "    .dataframe tbody tr th:only-of-type {\n",
       "        vertical-align: middle;\n",
       "    }\n",
       "\n",
       "    .dataframe tbody tr th {\n",
       "        vertical-align: top;\n",
       "    }\n",
       "\n",
       "    .dataframe thead th {\n",
       "        text-align: right;\n",
       "    }\n",
       "</style>\n",
       "<table border=\"1\" class=\"dataframe\">\n",
       "  <thead>\n",
       "    <tr style=\"text-align: right;\">\n",
       "      <th></th>\n",
       "      <th>text</th>\n",
       "      <th>label</th>\n",
       "    </tr>\n",
       "  </thead>\n",
       "  <tbody>\n",
       "    <tr>\n",
       "      <th>0</th>\n",
       "      <td>Health experts said it is too early to predict...</td>\n",
       "      <td>U.S. NEWS</td>\n",
       "    </tr>\n",
       "  </tbody>\n",
       "</table>\n",
       "</div>"
      ],
      "text/plain": [
       "                                                text      label\n",
       "0  Health experts said it is too early to predict...  U.S. NEWS"
      ]
     },
     "execution_count": 17,
     "metadata": {},
     "output_type": "execute_result"
    }
   ],
   "source": [
    "# Dataset 1 from Huffington Post\n",
    "huffpost = pd.read_json('data/huff_post.json', lines=True).dropna().reset_index()\n",
    "huffpost = huffpost[['short_description', 'category']]\n",
    "huffpost.columns = ['text', 'label']\n",
    "huffpost.head(1)"
   ]
  },
  {
   "cell_type": "code",
   "execution_count": 16,
   "metadata": {},
   "outputs": [
    {
     "data": {
      "text/html": [
       "<div>\n",
       "<style scoped>\n",
       "    .dataframe tbody tr th:only-of-type {\n",
       "        vertical-align: middle;\n",
       "    }\n",
       "\n",
       "    .dataframe tbody tr th {\n",
       "        vertical-align: top;\n",
       "    }\n",
       "\n",
       "    .dataframe thead th {\n",
       "        text-align: right;\n",
       "    }\n",
       "</style>\n",
       "<table border=\"1\" class=\"dataframe\">\n",
       "  <thead>\n",
       "    <tr style=\"text-align: right;\">\n",
       "      <th></th>\n",
       "      <th>text</th>\n",
       "      <th>label</th>\n",
       "    </tr>\n",
       "  </thead>\n",
       "  <tbody>\n",
       "    <tr>\n",
       "      <th>0</th>\n",
       "      <td>Durante el foro La banca articulador empresari...</td>\n",
       "      <td>Otra</td>\n",
       "    </tr>\n",
       "  </tbody>\n",
       "</table>\n",
       "</div>"
      ],
      "text/plain": [
       "                                                text label\n",
       "0  Durante el foro La banca articulador empresari...  Otra"
      ]
     },
     "execution_count": 16,
     "metadata": {},
     "output_type": "execute_result"
    }
   ],
   "source": [
    "# Dataset 2 from Bancolombia\n",
    "bancolombia = pd.read_csv('data/bancolombia.csv').dropna().reset_index()\n",
    "bancolombia = bancolombia[['news', 'Type']]\n",
    "bancolombia.columns = ['text', 'label']\n",
    "bancolombia.head(1)"
   ]
  },
  {
   "cell_type": "code",
   "execution_count": 5,
   "metadata": {},
   "outputs": [
    {
     "data": {
      "text/html": [
       "<div>\n",
       "<style scoped>\n",
       "    .dataframe tbody tr th:only-of-type {\n",
       "        vertical-align: middle;\n",
       "    }\n",
       "\n",
       "    .dataframe tbody tr th {\n",
       "        vertical-align: top;\n",
       "    }\n",
       "\n",
       "    .dataframe thead th {\n",
       "        text-align: right;\n",
       "    }\n",
       "</style>\n",
       "<table border=\"1\" class=\"dataframe\">\n",
       "  <thead>\n",
       "    <tr style=\"text-align: right;\">\n",
       "      <th></th>\n",
       "      <th>text</th>\n",
       "      <th>label</th>\n",
       "    </tr>\n",
       "  </thead>\n",
       "  <tbody>\n",
       "    <tr>\n",
       "      <th>0</th>\n",
       "      <td>DA BBC BRASIL  O trimestre de maio a julho des...</td>\n",
       "      <td>sobretudo</td>\n",
       "    </tr>\n",
       "  </tbody>\n",
       "</table>\n",
       "</div>"
      ],
      "text/plain": [
       "                                                text      label\n",
       "0  DA BBC BRASIL  O trimestre de maio a julho des...  sobretudo"
      ]
     },
     "execution_count": 5,
     "metadata": {},
     "output_type": "execute_result"
    }
   ],
   "source": [
    "# Dataset 3 from Folha de Sao Paulo\n",
    "folha = pd.read_csv('data/folha.csv').dropna().reset_index()\n",
    "folha = folha[['text', 'category']]\n",
    "folha.columns = ['text', 'label']\n",
    "folha.head(1)"
   ]
  },
  {
   "cell_type": "code",
   "execution_count": 6,
   "metadata": {},
   "outputs": [
    {
     "data": {
      "text/html": [
       "<div>\n",
       "<style scoped>\n",
       "    .dataframe tbody tr th:only-of-type {\n",
       "        vertical-align: middle;\n",
       "    }\n",
       "\n",
       "    .dataframe tbody tr th {\n",
       "        vertical-align: top;\n",
       "    }\n",
       "\n",
       "    .dataframe thead th {\n",
       "        text-align: right;\n",
       "    }\n",
       "</style>\n",
       "<table border=\"1\" class=\"dataframe\">\n",
       "  <thead>\n",
       "    <tr style=\"text-align: right;\">\n",
       "      <th></th>\n",
       "      <th>text</th>\n",
       "      <th>label</th>\n",
       "    </tr>\n",
       "  </thead>\n",
       "  <tbody>\n",
       "    <tr>\n",
       "      <th>0</th>\n",
       "      <td>Quarterly profits at US media giant TimeWarner...</td>\n",
       "      <td>business</td>\n",
       "    </tr>\n",
       "  </tbody>\n",
       "</table>\n",
       "</div>"
      ],
      "text/plain": [
       "                                                text     label\n",
       "0  Quarterly profits at US media giant TimeWarner...  business"
      ]
     },
     "execution_count": 6,
     "metadata": {},
     "output_type": "execute_result"
    }
   ],
   "source": [
    "# Dataset 4 from BBC, no null values\n",
    "bbc = pd.read_csv('data/bbc.csv').dropna().reset_index()\n",
    "bbc = bbc[['content', 'category']]\n",
    "bbc.columns = ['text', 'label']\n",
    "bbc.head(1)"
   ]
  },
  {
   "cell_type": "code",
   "execution_count": 7,
   "metadata": {},
   "outputs": [
    {
     "data": {
      "text/html": [
       "<div>\n",
       "<style scoped>\n",
       "    .dataframe tbody tr th:only-of-type {\n",
       "        vertical-align: middle;\n",
       "    }\n",
       "\n",
       "    .dataframe tbody tr th {\n",
       "        vertical-align: top;\n",
       "    }\n",
       "\n",
       "    .dataframe thead th {\n",
       "        text-align: right;\n",
       "    }\n",
       "</style>\n",
       "<table border=\"1\" class=\"dataframe\">\n",
       "  <thead>\n",
       "    <tr style=\"text-align: right;\">\n",
       "      <th></th>\n",
       "      <th>text</th>\n",
       "      <th>label</th>\n",
       "    </tr>\n",
       "  </thead>\n",
       "  <tbody>\n",
       "    <tr>\n",
       "      <th>0</th>\n",
       "      <td>De enige kerncentrale van Litouwen is oudjaars...</td>\n",
       "      <td>Buitenland</td>\n",
       "    </tr>\n",
       "  </tbody>\n",
       "</table>\n",
       "</div>"
      ],
      "text/plain": [
       "                                                text       label\n",
       "0  De enige kerncentrale van Litouwen is oudjaars...  Buitenland"
      ]
     },
     "execution_count": 7,
     "metadata": {},
     "output_type": "execute_result"
    }
   ],
   "source": [
    "# Dataset 4 from NOS, no null values\n",
    "nos = pd.read_csv('data/nos.csv').dropna().reset_index()\n",
    "nos = nos[['content', 'category']]\n",
    "nos.columns = ['text', 'label']\n",
    "nos.head(1)"
   ]
  },
  {
   "cell_type": "code",
   "execution_count": 8,
   "metadata": {},
   "outputs": [
    {
     "data": {
      "text/html": [
       "<div>\n",
       "<style scoped>\n",
       "    .dataframe tbody tr th:only-of-type {\n",
       "        vertical-align: middle;\n",
       "    }\n",
       "\n",
       "    .dataframe tbody tr th {\n",
       "        vertical-align: top;\n",
       "    }\n",
       "\n",
       "    .dataframe thead th {\n",
       "        text-align: right;\n",
       "    }\n",
       "</style>\n",
       "<table border=\"1\" class=\"dataframe\">\n",
       "  <thead>\n",
       "    <tr style=\"text-align: right;\">\n",
       "      <th></th>\n",
       "      <th>text</th>\n",
       "      <th>label</th>\n",
       "    </tr>\n",
       "  </thead>\n",
       "  <tbody>\n",
       "    <tr>\n",
       "      <th>0</th>\n",
       "      <td>5 Best Practices For Writing SQL Joins</td>\n",
       "      <td>easy</td>\n",
       "    </tr>\n",
       "  </tbody>\n",
       "</table>\n",
       "</div>"
      ],
      "text/plain": [
       "                                     text label\n",
       "0  5 Best Practices For Writing SQL Joins  easy"
      ]
     },
     "execution_count": 8,
     "metadata": {},
     "output_type": "execute_result"
    }
   ],
   "source": [
    "# Dataset 5 from Geeks4Geeks, no null values\n",
    "geeks4geeks = pd.read_csv('data/geeks4geeks.csv').dropna().reset_index()\n",
    "geeks4geeks = geeks4geeks[['title', 'category']]\n",
    "geeks4geeks.columns = ['text', 'label']\n",
    "geeks4geeks.head(1)"
   ]
  },
  {
   "cell_type": "code",
   "execution_count": 20,
   "metadata": {},
   "outputs": [],
   "source": [
    "# Now we put the datasets in a list\n",
    "datasets = [huffpost, bancolombia, folha, bbc, nos, geeks4geeks]\n",
    "dataset_names = ['huffpost', 'bancolombia', 'folha', 'bbc', 'nos', 'geeks4geeks']\n",
    "dataset_names = ['Huffington Post', 'Bancolombia', 'Folha de Sao Paolo', 'BBC', 'NOS', 'Geeks4Geeks']"
   ]
  },
  {
   "cell_type": "code",
   "execution_count": null,
   "metadata": {},
   "outputs": [],
   "source": []
  },
  {
   "cell_type": "code",
   "execution_count": 13,
   "metadata": {},
   "outputs": [],
   "source": [
    "# we will import Naive Bayes, softmax classifier, and svm\n",
    "from sklearn.naive_bayes import MultinomialNB"
   ]
  },
  {
   "cell_type": "code",
   "execution_count": 36,
   "metadata": {},
   "outputs": [],
   "source": [
    "# we will import CountVectorizer to vectorize our text\n",
    "from sklearn.feature_extraction.text import CountVectorizer\n",
    "\n",
    "# we will import train_test_split to split our data\n",
    "from sklearn.model_selection import train_test_split\n",
    "\n",
    "from sklearn.preprocessing import LabelEncoder"
   ]
  },
  {
   "cell_type": "code",
   "execution_count": 27,
   "metadata": {},
   "outputs": [],
   "source": [
    "# \n",
    "def get_data(df, info, type, lang = None, min_df=1, max_df=1.0, ng_range=(1, 1), ret_only_X = False): # name of info , type column, language as in stopwords_files\n",
    "    \n",
    "    stopwords = lang\n",
    "    if stopwords != None:\n",
    "        with open(f'stopwords/{lang}', 'rb') as f:\n",
    "            stopwords = pickle.load(f)\n",
    "        \n",
    "    vectorizer = CountVectorizer(min_df=min_df, stop_words=stopwords, max_df=max_df, ngram_range=ng_range)\n",
    "    X = vectorizer.fit_transform(df[f'{info}'])\n",
    "    if ret_only_X:\n",
    "        return X\n",
    "\n",
    "    # train test split\n",
    "    X_train, X_test, y_train, y_test = train_test_split(X, df[f'{type}'], test_size=0.2, random_state=42)\n",
    "    X_train.shape, X_test.shape, y_train.shape, y_test.shape\n",
    "    return X_train, X_test, y_train, y_test, vectorizer, X"
   ]
  },
  {
   "cell_type": "code",
   "execution_count": null,
   "metadata": {},
   "outputs": [],
   "source": []
  },
  {
   "cell_type": "code",
   "execution_count": 16,
   "metadata": {},
   "outputs": [],
   "source": [
    "'''\n",
    "losses = ['hinge', 'log', 'modified_huber', 'squared_hinge', 'perceptron', 'squared_error']\n",
    "\n",
    "def plot_perf(classif_perf):\n",
    "    fig, ax = plt.subplots(1,3, figsize=(12,4))\n",
    "    for i,n in enumerate(['t', 'train_acc', 'test_acc']):  \n",
    "        ax[i].plot(np.arange(1, 9, 1), classif_perf[:,:,i], label = losses)\n",
    "        ax[i].set_title(n)\n",
    "        ax[i].legend()#bbox_to_anchor=(1,1), loc='upper left')\n",
    "    fig.tight_layout()\n",
    "'''\n",
    "\n",
    "'''\n",
    "def score_single_clf(classifiers, i, data):\n",
    "    X_train, X_test, y_train, y_test = data\n",
    "    clf = classifiers[i]\n",
    "\n",
    "    start = time.time()\n",
    "    clf.fit(X_train, y_train)\n",
    "    end = time.time()\n",
    "    print(f'Classifier:\\t\\t {classifier_names[i]}')\n",
    "    print(f'Training time:\\t\\t {end - start:.3f} seconds')\n",
    "    print(f'Training data accuracy:\\t {clf.score(X_train, y_train):.3f}')\n",
    "    print(f'Test data accuracy:\\t {clf.score(X_test, y_test):.3f}')\n",
    "    print()\n",
    "'''"
   ]
  },
  {
   "cell_type": "code",
   "execution_count": null,
   "metadata": {},
   "outputs": [],
   "source": []
  },
  {
   "cell_type": "code",
   "execution_count": 282,
   "metadata": {},
   "outputs": [],
   "source": [
    "X_train, X_test, y_train, y_test, vectorizer, X = get_data(folha, 'text', 'label', 'portuguese.pkl', ret_only_X = False)\n",
    "\n",
    "clfnb = MultinomialNB()\n",
    "\n",
    "start = time.time()\n",
    "clfnb.fit(X_train, y_train)\n",
    "end = time.time()\n",
    "\n",
    "out = [round(end - start, 3), round(clfnb.score(X_train, y_train), 3), round(clfnb.score(X_test, y_test), 3)]"
   ]
  },
  {
   "cell_type": "code",
   "execution_count": 323,
   "metadata": {},
   "outputs": [],
   "source": [
    "import nbc_cp as nbc\n",
    "\n",
    "cnbc = nbc.ClassicalNaiveBayes() # Classical Naive Bayes\n",
    "nbL2 = nbc.ClassicalNaiveBayes() # Weighted Naive Bayes\n",
    "\n",
    "\n",
    "classifiers = [cnbc, nbL2]\n",
    "classifier_names = ['ClassicalNB', 'NBL2']\n",
    "\n",
    "def fit_and_score(X_train, y_train, X_test, y_test):\n",
    "    # fit all classifiers\n",
    "    print(f'Fitting {classifier_names[0]}')\n",
    "    cnbc.fit(X_train, y_train)\n",
    "    print(f'Fitting {classifier_names[1]}')\n",
    "    nbL2.fit_L2(X_train, y_train)\n",
    "\n",
    "    training_acc = [cls.score(X_train, y_train) for cls in classifiers]\n",
    "    test_acc     = [cls.score(X_test, y_test) for cls in classifiers]\n",
    "\n",
    "    return training_acc, test_acc"
   ]
  },
  {
   "cell_type": "code",
   "execution_count": null,
   "metadata": {},
   "outputs": [],
   "source": []
  },
  {
   "cell_type": "code",
   "execution_count": 324,
   "metadata": {},
   "outputs": [
    {
     "name": "stdout",
     "output_type": "stream",
     "text": [
      "Fitting ClassicalNB\n",
      "Fitting NBL2\n"
     ]
    }
   ],
   "source": [
    "X_train, X_test, y_train, y_test, vectorizer, X = get_data(folha, 'text', 'label', 'portuguese.pkl', ret_only_X = False)\n",
    "training_acc, test_acc = fit_and_score(X_train, y_train, X_test, y_test)"
   ]
  },
  {
   "cell_type": "code",
   "execution_count": 325,
   "metadata": {},
   "outputs": [
    {
     "data": {
      "text/plain": [
       "([0.9149780479567714, 0.730918608578183],\n",
       " [0.886206314367719, 0.7268276211379369])"
      ]
     },
     "execution_count": 325,
     "metadata": {},
     "output_type": "execute_result"
    }
   ],
   "source": [
    "training_acc, test_acc"
   ]
  },
  {
   "cell_type": "code",
   "execution_count": 326,
   "metadata": {},
   "outputs": [
    {
     "data": {
      "text/plain": [
       "\"\\ndef clf_diff_parms(classifiers, data):\\n    X_train, X_test, y_train, y_test = data\\n    \\n    losses = ['hinge', 'log', 'modified_huber', 'squared_hinge', 'perceptron', 'squared_error']\\n    classif_perf = np.zeros((8, 6, 3))\\n    \\n    for j in range(len(losses)):\\n        for i in np.arange(1,9,1):\\n            clf = SGDClassifier(loss = losses[j], alpha=i*0.0001)\\n\\n            start = time.time()\\n            clf.fit(X_train, y_train)\\n            end = time.time()\\n\\n            classif_perf[i-1, j] = [round(end - start, 3), round(clf.score(X_train, y_train), 3), round(clf.score(X_test, y_test), 3)]\\n    return classif_perf\\n\""
      ]
     },
     "execution_count": 326,
     "metadata": {},
     "output_type": "execute_result"
    }
   ],
   "source": [
    "'''\n",
    "def clf_diff_parms(classifiers, data):\n",
    "    X_train, X_test, y_train, y_test = data\n",
    "    \n",
    "    losses = ['hinge', 'log', 'modified_huber', 'squared_hinge', 'perceptron', 'squared_error']\n",
    "    classif_perf = np.zeros((8, 6, 3))\n",
    "    \n",
    "    for j in range(len(losses)):\n",
    "        for i in np.arange(1,9,1):\n",
    "            clf = SGDClassifier(loss = losses[j], alpha=i*0.0001)\n",
    "\n",
    "            start = time.time()\n",
    "            clf.fit(X_train, y_train)\n",
    "            end = time.time()\n",
    "\n",
    "            classif_perf[i-1, j] = [round(end - start, 3), round(clf.score(X_train, y_train), 3), round(clf.score(X_test, y_test), 3)]\n",
    "    return classif_perf\n",
    "'''\n"
   ]
  },
  {
   "cell_type": "code",
   "execution_count": 338,
   "metadata": {},
   "outputs": [],
   "source": [
    "nb_words = {}\n",
    "ids = [j for j in nbL2.phi.T.argsort(axis = 1)[:, -10:]]\n",
    "for i, name in enumerate(np.unique(y_train)):\n",
    "    words = [vectorizer.get_feature_names()[j] for j in ids[i]]\n",
    "    nb_words[name] = words"
   ]
  },
  {
   "cell_type": "code",
   "execution_count": 339,
   "metadata": {},
   "outputs": [
    {
     "data": {
      "text/plain": [
       "{'colunas': ['dnas',\n",
       "  'dndi',\n",
       "  'dng',\n",
       "  'dnit',\n",
       "  'dnocs',\n",
       "  'dns',\n",
       "  'doa',\n",
       "  'doaa',\n",
       "  'dmab',\n",
       "  '행복'],\n",
       " 'cotidiano': ['acordo',\n",
       "  'ano',\n",
       "  'disse',\n",
       "  'preto',\n",
       "  'anos',\n",
       "  'segundo',\n",
       "  'ribeirão',\n",
       "  'km',\n",
       "  'polícia',\n",
       "  'paulo'],\n",
       " 'empreendedorsocial': ['ainda',\n",
       "  'vida',\n",
       "  'gente',\n",
       "  'porque',\n",
       "  'casa',\n",
       "  'pessoas',\n",
       "  'fazer',\n",
       "  'brasil',\n",
       "  'anos',\n",
       "  'social'],\n",
       " 'esporte': ['dnas',\n",
       "  'dndi',\n",
       "  'dng',\n",
       "  'dnit',\n",
       "  'dnocs',\n",
       "  'dns',\n",
       "  'doa',\n",
       "  'doaa',\n",
       "  'dmab',\n",
       "  '행복'],\n",
       " 'multimidia': ['paulo',\n",
       "  'cidade',\n",
       "  'teatro',\n",
       "  'feira',\n",
       "  'sobre',\n",
       "  'vídeo',\n",
       "  'nesta',\n",
       "  'gente',\n",
       "  'jogadores',\n",
       "  'folha'],\n",
       " 'o-melhor-de-sao-paulo': ['paulo',\n",
       "  '10h',\n",
       "  'sex',\n",
       "  'partir',\n",
       "  'cc',\n",
       "  'sáb',\n",
       "  'região',\n",
       "  'seg',\n",
       "  'br',\n",
       "  'tel'],\n",
       " 'paineldoleitor': ['entrou',\n",
       "  'leitor',\n",
       "  'afirma',\n",
       "  'após',\n",
       "  'empresa',\n",
       "  'contato',\n",
       "  'diz',\n",
       "  'queixa',\n",
       "  'cliente',\n",
       "  'resposta'],\n",
       " 'poder': ['dnas',\n",
       "  'dndi',\n",
       "  'dng',\n",
       "  'dnit',\n",
       "  'dnocs',\n",
       "  'dns',\n",
       "  'doa',\n",
       "  'doaa',\n",
       "  'dmab',\n",
       "  '행복'],\n",
       " 'saopaulo': ['partir',\n",
       "  'obras',\n",
       "  'zona',\n",
       "  'deve',\n",
       "  'nesta',\n",
       "  'aqui',\n",
       "  'veja',\n",
       "  'rua',\n",
       "  'paulo',\n",
       "  'dia'],\n",
       " 'sobretudo': ['dnas',\n",
       "  'dndi',\n",
       "  'dng',\n",
       "  'dnit',\n",
       "  'dnocs',\n",
       "  'dns',\n",
       "  'doa',\n",
       "  'doaa',\n",
       "  'dmab',\n",
       "  '행복'],\n",
       " 'tv': ['dnas',\n",
       "  'dndi',\n",
       "  'dng',\n",
       "  'dnit',\n",
       "  'dnocs',\n",
       "  'dns',\n",
       "  'doa',\n",
       "  'doaa',\n",
       "  'dmab',\n",
       "  '행복']}"
      ]
     },
     "execution_count": 339,
     "metadata": {},
     "output_type": "execute_result"
    }
   ],
   "source": [
    "nb_words"
   ]
  },
  {
   "cell_type": "code",
   "execution_count": 387,
   "metadata": {},
   "outputs": [],
   "source": [
    "nb_words2 = {}\n",
    "ids = [j for j in cnbc.phi.T.argsort(axis = 1)[:, -10:]]\n",
    "for i, name in enumerate(np.unique(y_train)):\n",
    "    words = [vectorizer.get_feature_names()[j] for j in ids[i]]\n",
    "    nb_words[name] = words"
   ]
  },
  {
   "cell_type": "code",
   "execution_count": 388,
   "metadata": {},
   "outputs": [
    {
     "data": {
      "text/plain": [
       "{}"
      ]
     },
     "execution_count": 388,
     "metadata": {},
     "output_type": "execute_result"
    }
   ],
   "source": [
    "nb_words2"
   ]
  },
  {
   "cell_type": "code",
   "execution_count": 389,
   "metadata": {},
   "outputs": [],
   "source": [
    "import networkx as nx\n",
    "\n",
    "n = nx.Graph()\n",
    "n.add_nodes_from(list(nb_words.keys())) # adding classes names\n",
    "n_classes = len(n.nodes())\n",
    "nx.set_node_attributes(n, 'class', 'type') # setting attribute type as class\n",
    "\n",
    "\n",
    "main_w = set([w for l in list(nb_words.values()) for w in l]) # set of list(most freq words)\n",
    "# from 420 to 416\n",
    "\n",
    "word_freq = np.array(X.sum(axis = 0)) \n",
    "words_sum = X.sum() \n",
    "main_w_freq_id = [vectorizer.vocabulary_[w] for w in list(main_w)] # get index\n",
    "main_w_freq = [word_freq[0][i] for i in main_w_freq_id] # get freq of most freq words\n",
    "\n",
    "d_f_nodes = [(list(main_w)[i], {'type' : 'words', 'freq' : main_w_freq[i]}) for i in range(len(main_w))] # df containing text words with freq attribute\n",
    "n.add_nodes_from(d_f_nodes)"
   ]
  },
  {
   "cell_type": "code",
   "execution_count": 390,
   "metadata": {},
   "outputs": [],
   "source": [
    "# it isn't actually word freq, but count, other scaling didn't work with dot size"
   ]
  },
  {
   "cell_type": "code",
   "execution_count": 391,
   "metadata": {},
   "outputs": [],
   "source": [
    "edges = [(key, el) for key in list(nb_words.keys()) for el in nb_words[key]]\n",
    "n.add_edges_from(edges)"
   ]
  },
  {
   "cell_type": "code",
   "execution_count": 392,
   "metadata": {},
   "outputs": [],
   "source": [
    "node_type = nx.get_node_attributes(n, 'type')\n",
    "node_freq = nx.get_node_attributes(n, 'freq')"
   ]
  },
  {
   "cell_type": "code",
   "execution_count": 345,
   "metadata": {},
   "outputs": [
    {
     "data": {
      "image/png": "[encoded data removed]",
      "text/plain": [
       "<Figure size 640x480 with 1 Axes>"
      ]
     },
     "metadata": {},
     "output_type": "display_data"
    }
   ],
   "source": [
    "# plotting with nx\n",
    "le = LabelEncoder()\n",
    "nx.draw(n, node_color=le.fit_transform(list(node_type.values()) ) )"
   ]
  },
  {
   "cell_type": "code",
   "execution_count": 393,
   "metadata": {},
   "outputs": [
    {
     "data": {
      "image/png": "[encoded data removed]",
      "text/plain": [
       "<Figure size 640x480 with 1 Axes>"
      ]
     },
     "metadata": {},
     "output_type": "display_data"
    }
   ],
   "source": [
    "# plotting with nx\n",
    "le = LabelEncoder()\n",
    "nx.draw(n, node_color=le.fit_transform(list(node_type.values()) ) )"
   ]
  },
  {
   "cell_type": "code",
   "execution_count": 346,
   "metadata": {},
   "outputs": [],
   "source": [
    "import plotly.graph_objects as go"
   ]
  },
  {
   "cell_type": "code",
   "execution_count": 420,
   "metadata": {},
   "outputs": [],
   "source": [
    "\n",
    "pos = nx.spring_layout(n) # some formula calc positional layout i guess most ideal for plotting\n",
    "nx.set_node_attributes(n, pos, name = 'pos')\n",
    "\n",
    "edge_x = []\n",
    "edge_y = []\n",
    "for edge in n.edges():\n",
    "    x0, y0 = n.nodes[edge[0]]['pos']\n",
    "    x1, y1 = n.nodes[edge[1]]['pos']\n",
    "    edge_x.append(x0)\n",
    "    edge_x.append(x1)\n",
    "    edge_x.append(None)\n",
    "    edge_y.append(y0)\n",
    "    edge_y.append(y1)\n",
    "    edge_y.append(None)\n",
    "\n",
    "edge_trace = go.Scatter(\n",
    "    x=edge_x, y=edge_y,\n",
    "    line=dict(width=0.5, color='#888'),\n",
    "    hoverinfo='none',\n",
    "    mode='lines')\n",
    "\n",
    "node_x = []\n",
    "node_y = []\n",
    "for node in n.nodes():\n",
    "    x, y = n.nodes[node]['pos']\n",
    "    node_x.append(x)\n",
    "    node_y.append(y)\n",
    "\n",
    "node_trace = go.Scatter(\n",
    "    x=node_x, y=node_y,\n",
    "    mode='markers+text',\n",
    "    hoverinfo='text',\n",
    "    marker=dict(\n",
    "        showscale=True,\n",
    "        # colorscale options\n",
    "        #'Reds' | 'Blues' | 'Picnic' | 'Rainbow' | 'Portland' | 'Jet' |\n",
    "        #'Hot' | 'Blackbody' | 'Earth' | 'Electric' | 'Viridis' |\n",
    "        colorscale='Blackbody',\n",
    "        cmin = 0,\n",
    "        cmax= 1000,\n",
    "\n",
    "\n",
    "        reversescale=True,\n",
    "        color=[],\n",
    "        size=10,\n",
    "        colorbar=dict(\n",
    "            thickness=15,\n",
    "            title='Word Count',\n",
    "            xanchor='left',\n",
    "            titleside='right'\n",
    "        ),\n",
    "        line_width=2))"
   ]
  },
  {
   "cell_type": "code",
   "execution_count": 421,
   "metadata": {},
   "outputs": [],
   "source": [
    "# these first size values are for plotting\n",
    "\n",
    "m = np.array([20 for i in range(n_classes)]) # setting const freq for class words\n",
    "w = np.power(np.array(list(node_freq.values()))*0.001 , -1)*10 # inverse word freq and some scaling for how distinct word is for class\n",
    "sizes = np.concatenate((m,w), axis = 0) \n",
    "\n",
    "# these are the actual frequencies of the terms\n",
    "freq = [1 for i in range(n_classes)]+(list(node_freq.values()))"
   ]
  },
  {
   "cell_type": "code",
   "execution_count": 422,
   "metadata": {},
   "outputs": [],
   "source": [
    "le = LabelEncoder()\n",
    "#node_trace.marker.color = le.fit_transform(list(node_type.values()))\n",
    "node_trace.marker.color = freq\n",
    "node_trace.marker.size =  sizes\n",
    "\n",
    "hoverinfo = []\n",
    "nnames = list(n.nodes())\n",
    "for node, adjacencies in enumerate(n.adjacency()):\n",
    "    hoverinfo.append(str(nnames[node]) + ' \\n Term Count: '+ str(freq[node]) + ' \\n # of connections: '+str(len(adjacencies[1])))\n",
    "\n",
    "#node_trace.text = hoverinfo\n",
    "names = list(n.nodes())\n",
    "node_trace.text = [name.upper()  if i<n_classes else name for i,name in enumerate(names)]"
   ]
  },
  {
   "cell_type": "code",
   "execution_count": 386,
   "metadata": {},
   "outputs": [
    {
     "data": {
      "application/vnd.plotly.v1+json": {
       "config": {
        "plotlyServerURL": "https://plot.ly"
       },
       "data": [
        {
         "hoverinfo": "none",
         "line": {
          "color": "#888",
          "width": 0.5
         },
         "mode": "lines",
         "type": "scatter",
         "x": [
          0.9175703431884112,
          1,
          null,
          0.9175703431884112,
          0.8312489464544964,
          null,
          0.9175703431884112,
          0.9977173693299883,
          null,
          0.9175703431884112,
          0.9169406277731028,
          null,
          0.9175703431884112,
          0.8715948488410284,
          null,
          0.9175703431884112,
          0.8566051146123284,
          null,
          0.9175703431884112,
          0.8274027003757736,
          null,
          0.9175703431884112,
          0.965571453990618,
          null,
          0.9175703431884112,
          0.919743430304985,
          null,
          0.9175703431884112,
          0.9627921877323563,
          null,
          -0.024638266472245686,
          0.08903439662488458,
          null,
          -0.024638266472245686,
          0.08642254274731663,
          null,
          -0.024638266472245686,
          -0.13141124564162923,
          null,
          -0.024638266472245686,
          0.11455663836409599,
          null,
          -0.024638266472245686,
          -0.08121614810970257,
          null,
          -0.024638266472245686,
          -0.08925136152890506,
          null,
          -0.024638266472245686,
          0.01719143047742066,
          null,
          -0.024638266472245686,
          -0.08829206870749975,
          null,
          -0.024638266472245686,
          0.0033882130041062043,
          null,
          -0.024638266472245686,
          -0.066264163957346,
          null,
          -0.14864772265810378,
          -0.2600300757419317,
          null,
          -0.14864772265810378,
          -0.06721618082931415,
          null,
          -0.14864772265810378,
          -0.2637895873338528,
          null,
          -0.14864772265810378,
          -0.04171782151952766,
          null,
          -0.14864772265810378,
          -0.1854547253725477,
          null,
          -0.14864772265810378,
          -0.23672305512653602,
          null,
          -0.14864772265810378,
          -0.02892861322636972,
          null,
          -0.14864772265810378,
          -0.11774954781542582,
          null,
          -0.14864772265810378,
          -0.08121614810970257,
          null,
          -0.14864772265810378,
          -0.14876795993107345,
          null,
          0.9322374126857242,
          1,
          null,
          0.9322374126857242,
          0.8312489464544964,
          null,
          0.9322374126857242,
          0.9977173693299883,
          null,
          0.9322374126857242,
          0.9169406277731028,
          null,
          0.9322374126857242,
          0.8715948488410284,
          null,
          0.9322374126857242,
          0.8566051146123284,
          null,
          0.9322374126857242,
          0.8274027003757736,
          null,
          0.9322374126857242,
          0.965571453990618,
          null,
          0.9322374126857242,
          0.919743430304985,
          null,
          0.9322374126857242,
          0.9627921877323563,
          null,
          -0.34780385343429415,
          -0.066264163957346,
          null,
          -0.34780385343429415,
          -0.49623607202363407,
          null,
          -0.34780385343429415,
          -0.42910552348742265,
          null,
          -0.34780385343429415,
          -0.42002817578387325,
          null,
          -0.34780385343429415,
          -0.45337697521947723,
          null,
          -0.34780385343429415,
          -0.49593127656973557,
          null,
          -0.34780385343429415,
          -0.27862866190813257,
          null,
          -0.34780385343429415,
          -0.2637895873338528,
          null,
          -0.34780385343429415,
          -0.532003956178885,
          null,
          -0.34780385343429415,
          -0.4995494350644226,
          null,
          0.24158191854622268,
          -0.066264163957346,
          null,
          0.24158191854622268,
          0.3350918976247853,
          null,
          0.24158191854622268,
          0.34521730155350394,
          null,
          0.24158191854622268,
          0.04244859142329068,
          null,
          0.24158191854622268,
          0.38771561325863807,
          null,
          0.24158191854622268,
          0.29751590404405936,
          null,
          0.24158191854622268,
          0.42229139732118304,
          null,
          0.24158191854622268,
          0.4090305527208916,
          null,
          0.24158191854622268,
          0.24487093761359127,
          null,
          0.24158191854622268,
          0.3574125078772767,
          null,
          -0.8382089270102766,
          -0.8574539614044003,
          null,
          -0.8382089270102766,
          -0.9255039543999866,
          null,
          -0.8382089270102766,
          -0.9504864527059843,
          null,
          -0.8382089270102766,
          -0.9211720547376089,
          null,
          -0.8382089270102766,
          -0.8331748306254513,
          null,
          -0.8382089270102766,
          -0.722453355574476,
          null,
          -0.8382089270102766,
          -0.9683440628084917,
          null,
          -0.8382089270102766,
          -0.9866004243254362,
          null,
          -0.8382089270102766,
          -0.7382504258161218,
          null,
          -0.8382089270102766,
          -0.7048848774374817,
          null,
          0.8889312487778878,
          1,
          null,
          0.8889312487778878,
          0.8312489464544964,
          null,
          0.8889312487778878,
          0.9977173693299883,
          null,
          0.8889312487778878,
          0.9169406277731028,
          null,
          0.8889312487778878,
          0.8715948488410284,
          null,
          0.8889312487778878,
          0.8566051146123284,
          null,
          0.8889312487778878,
          0.8274027003757736,
          null,
          0.8889312487778878,
          0.965571453990618,
          null,
          0.8889312487778878,
          0.919743430304985,
          null,
          0.8889312487778878,
          0.9627921877323563,
          null,
          -0.17278978998343308,
          0.04244859142329068,
          null,
          -0.17278978998343308,
          -0.19515479072071318,
          null,
          -0.17278978998343308,
          -0.28485641100825015,
          null,
          -0.17278978998343308,
          -0.324092008541247,
          null,
          -0.17278978998343308,
          -0.27862866190813257,
          null,
          -0.17278978998343308,
          -0.27374221751996186,
          null,
          -0.17278978998343308,
          -0.21783817753341558,
          null,
          -0.17278978998343308,
          -0.09899512080517185,
          null,
          -0.17278978998343308,
          -0.066264163957346,
          null,
          -0.17278978998343308,
          -0.1404063716534671,
          null,
          0.8904435253301642,
          1,
          null,
          0.8904435253301642,
          0.8312489464544964,
          null,
          0.8904435253301642,
          0.9977173693299883,
          null,
          0.8904435253301642,
          0.9169406277731028,
          null,
          0.8904435253301642,
          0.8715948488410284,
          null,
          0.8904435253301642,
          0.8566051146123284,
          null,
          0.8904435253301642,
          0.8274027003757736,
          null,
          0.8904435253301642,
          0.965571453990618,
          null,
          0.8904435253301642,
          0.919743430304985,
          null,
          0.8904435253301642,
          0.9627921877323563,
          null,
          0.9146016356551336,
          1,
          null,
          0.9146016356551336,
          0.8312489464544964,
          null,
          0.9146016356551336,
          0.9977173693299883,
          null,
          0.9146016356551336,
          0.9169406277731028,
          null,
          0.9146016356551336,
          0.8715948488410284,
          null,
          0.9146016356551336,
          0.8566051146123284,
          null,
          0.9146016356551336,
          0.8274027003757736,
          null,
          0.9146016356551336,
          0.965571453990618,
          null,
          0.9146016356551336,
          0.919743430304985,
          null,
          0.9146016356551336,
          0.9627921877323563,
          null
         ],
         "y": [
          0.3222294022293901,
          0.3275210762862683,
          null,
          0.3222294022293901,
          0.377611690246379,
          null,
          0.3222294022293901,
          0.377606194279523,
          null,
          0.3222294022293901,
          0.25555209460750017,
          null,
          0.3222294022293901,
          0.2701460357881223,
          null,
          0.3222294022293901,
          0.4167640724967927,
          null,
          0.3222294022293901,
          0.3162276424160897,
          null,
          0.3222294022293901,
          0.27744844210237907,
          null,
          0.3222294022293901,
          0.4344225878212824,
          null,
          0.3222294022293901,
          0.41383138336069974,
          null,
          -0.13500950945362,
          -0.059361680756771874,
          null,
          -0.13500950945362,
          -0.20094672210766248,
          null,
          -0.13500950945362,
          -0.11984487969356494,
          null,
          -0.13500950945362,
          -0.1301179789610552,
          null,
          -0.13500950945362,
          0.14968300989542693,
          null,
          -0.13500950945362,
          -0.21794948837857683,
          null,
          -0.13500950945362,
          -0.020256730123072098,
          null,
          -0.13500950945362,
          -0.03600129092660805,
          null,
          -0.13500950945362,
          -0.23988689813208838,
          null,
          -0.13500950945362,
          -0.4479408305956975,
          null,
          0.4055975162020162,
          0.4711953527937893,
          null,
          0.4055975162020162,
          0.5550791142748347,
          null,
          0.4055975162020162,
          0.08919036356908305,
          null,
          0.4055975162020162,
          0.44211488033381363,
          null,
          0.4055975162020162,
          0.5858279004293643,
          null,
          0.4055975162020162,
          0.5406839434732251,
          null,
          0.4055975162020162,
          0.5073284662687799,
          null,
          0.4055975162020162,
          0.5902972804296935,
          null,
          0.4055975162020162,
          0.14968300989542693,
          null,
          0.4055975162020162,
          0.5213467602195045,
          null,
          0.34529030612727535,
          0.3275210762862683,
          null,
          0.34529030612727535,
          0.377611690246379,
          null,
          0.34529030612727535,
          0.377606194279523,
          null,
          0.34529030612727535,
          0.25555209460750017,
          null,
          0.34529030612727535,
          0.2701460357881223,
          null,
          0.34529030612727535,
          0.4167640724967927,
          null,
          0.34529030612727535,
          0.3162276424160897,
          null,
          0.34529030612727535,
          0.27744844210237907,
          null,
          0.34529030612727535,
          0.4344225878212824,
          null,
          0.34529030612727535,
          0.41383138336069974,
          null,
          -0.25739533168009926,
          -0.4479408305956975,
          null,
          -0.25739533168009926,
          -0.23272293807535993,
          null,
          -0.25739533168009926,
          -0.16209729481834412,
          null,
          -0.25739533168009926,
          -0.38262298600381256,
          null,
          -0.25739533168009926,
          -0.30242323468588944,
          null,
          -0.25739533168009926,
          -0.3556996290733889,
          null,
          -0.25739533168009926,
          -0.5054032684436738,
          null,
          -0.25739533168009926,
          0.08919036356908305,
          null,
          -0.25739533168009926,
          -0.28322987122088167,
          null,
          -0.25739533168009926,
          -0.17535201266399164,
          null,
          -0.6469445764935668,
          -0.4479408305956975,
          null,
          -0.6469445764935668,
          -0.8050267481612631,
          null,
          -0.6469445764935668,
          -0.5843677198944229,
          null,
          -0.6469445764935668,
          -0.7104541086504902,
          null,
          -0.6469445764935668,
          -0.7514972945585793,
          null,
          -0.6469445764935668,
          -0.7531481195028453,
          null,
          -0.6469445764935668,
          -0.6944838281796517,
          null,
          -0.6469445764935668,
          -0.6214801491037178,
          null,
          -0.6469445764935668,
          -0.8054437843245248,
          null,
          -0.6469445764935668,
          -0.6731105493104539,
          null,
          0.7130992293118541,
          0.8669935534007567,
          null,
          0.7130992293118541,
          0.8561229815400535,
          null,
          0.7130992293118541,
          0.8002488144943805,
          null,
          0.7130992293118541,
          0.6143282989575148,
          null,
          0.7130992293118541,
          0.6006859715782447,
          null,
          0.7130992293118541,
          0.7090612662395172,
          null,
          0.7130992293118541,
          0.6769653016558113,
          null,
          0.7130992293118541,
          0.7459201177602739,
          null,
          0.7130992293118541,
          0.7949303803570716,
          null,
          0.7130992293118541,
          0.6008875237512821,
          null,
          0.3570224386210608,
          0.3275210762862683,
          null,
          0.3570224386210608,
          0.377611690246379,
          null,
          0.3570224386210608,
          0.377606194279523,
          null,
          0.3570224386210608,
          0.25555209460750017,
          null,
          0.3570224386210608,
          0.2701460357881223,
          null,
          0.3570224386210608,
          0.4167640724967927,
          null,
          0.3570224386210608,
          0.3162276424160897,
          null,
          0.3570224386210608,
          0.27744844210237907,
          null,
          0.3570224386210608,
          0.4344225878212824,
          null,
          0.3570224386210608,
          0.41383138336069974,
          null,
          -0.7278370892704865,
          -0.7104541086504902,
          null,
          -0.7278370892704865,
          -0.8509447524271182,
          null,
          -0.7278370892704865,
          -0.8765168156299769,
          null,
          -0.7278370892704865,
          -0.7840488235780932,
          null,
          -0.7278370892704865,
          -0.5054032684436738,
          null,
          -0.7278370892704865,
          -0.8176774701484476,
          null,
          -0.7278370892704865,
          -0.9109908128441002,
          null,
          -0.7278370892704865,
          -0.8460722120532691,
          null,
          -0.7278370892704865,
          -0.4479408305956975,
          null,
          -0.7278370892704865,
          -0.9020199154789819,
          null,
          0.32956564395392246,
          0.3275210762862683,
          null,
          0.32956564395392246,
          0.377611690246379,
          null,
          0.32956564395392246,
          0.377606194279523,
          null,
          0.32956564395392246,
          0.25555209460750017,
          null,
          0.32956564395392246,
          0.2701460357881223,
          null,
          0.32956564395392246,
          0.4167640724967927,
          null,
          0.32956564395392246,
          0.3162276424160897,
          null,
          0.32956564395392246,
          0.27744844210237907,
          null,
          0.32956564395392246,
          0.4344225878212824,
          null,
          0.32956564395392246,
          0.41383138336069974,
          null,
          0.36750030813117146,
          0.3275210762862683,
          null,
          0.36750030813117146,
          0.377611690246379,
          null,
          0.36750030813117146,
          0.377606194279523,
          null,
          0.36750030813117146,
          0.25555209460750017,
          null,
          0.36750030813117146,
          0.2701460357881223,
          null,
          0.36750030813117146,
          0.4167640724967927,
          null,
          0.36750030813117146,
          0.3162276424160897,
          null,
          0.36750030813117146,
          0.27744844210237907,
          null,
          0.36750030813117146,
          0.4344225878212824,
          null,
          0.36750030813117146,
          0.41383138336069974,
          null
         ]
        },
        {
         "hoverinfo": "text",
         "marker": {
          "cmax": 2,
          "cmin": 0,
          "color": [
           1,
           1,
           1,
           1,
           1,
           1,
           1,
           1,
           1,
           1,
           1,
           6864,
           17625,
           1769,
           1,
           18429,
           1167,
           5141,
           364,
           12619,
           333,
           614,
           1134,
           7,
           6945,
           11,
           3294,
           1882,
           6767,
           7425,
           1684,
           6810,
           1708,
           8267,
           988,
           13963,
           9955,
           25152,
           4835,
           3845,
           1908,
           2,
           20794,
           9810,
           1807,
           655,
           10442,
           8478,
           21957,
           3101,
           1,
           12782,
           16232,
           4194,
           3771,
           12074,
           233,
           359,
           1460,
           39,
           1,
           21958,
           1,
           1655,
           4,
           9723,
           6950,
           25174,
           286,
           3017,
           8036,
           1070,
           3099,
           1
          ],
          "colorbar": {
           "thickness": 15,
           "title": {
            "side": "right",
            "text": "Word Count"
           },
           "xanchor": "left"
          },
          "colorscale": [
           [
            0,
            "rgb(0,0,0)"
           ],
           [
            0.25,
            "rgb(230,0,0)"
           ],
           [
            0.5,
            "rgb(230,210,0)"
           ],
           [
            0.75,
            "rgb(255,255,255)"
           ],
           [
            1,
            "rgb(160,200,255)"
           ]
          ],
          "line": {
           "width": 2
          },
          "reversescale": true,
          "showscale": true,
          "size": [
           20,
           20,
           20,
           20,
           20,
           20,
           20,
           20,
           20,
           20,
           20,
           0.02093385780885781,
           0.008152624113475178,
           0.08122668174109667,
           143.69,
           0.007796950458516468,
           0.12312767780634104,
           0.02794981521104843,
           0.3947527472527472,
           0.011386797686029005,
           0.43150150150150157,
           0.2340228013029316,
           0.12671075837742504,
           20.52714285714286,
           0.02068970482361411,
           13.062727272727273,
           0.04362173649058895,
           0.07634962805526035,
           0.021233929363085564,
           0.01935218855218855,
           0.08532660332541568,
           0.02109985315712188,
           0.08412763466042154,
           0.017381153985726382,
           0.14543522267206477,
           0.010290768459500109,
           0.014433952787543948,
           0.005712865776081425,
           0.029718717683557393,
           0.037370611183355,
           0.07530922431865827,
           71.845,
           0.006910166394152159,
           0.014647298674821611,
           0.0795185390149419,
           0.21937404580152675,
           0.013760773798122966,
           0.016948572776598256,
           0.00654415448376372,
           0.0463366655917446,
           143.69,
           0.011241589735565638,
           0.008852267126663382,
           0.03426084883166428,
           0.0381039512065765,
           0.011900778532383636,
           0.616695278969957,
           0.4002506963788301,
           0.09841780821917809,
           3.684358974358975,
           143.69,
           0.006543856453228892,
           143.69,
           0.08682175226586102,
           35.9225,
           0.014778360588295793,
           0.02067482014388489,
           0.005707873202510527,
           0.5024125874125874,
           0.047626781571097114,
           0.01788078646092583,
           0.13428971962616823,
           0.046366569861245564,
           143.69
          ]
         },
         "mode": "markers+text",
         "text": [
          "COLUNAS",
          "COTIDIANO",
          "EMPREENDEDORSOCIAL",
          "ESPORTE",
          "MULTIMIDIA",
          "O-MELHOR-DE-SAO-PAULO",
          "PAINELDOLEITOR",
          "PODER",
          "SAOPAULO",
          "SOBRETUDO",
          "TV",
          "após",
          "diz",
          "br",
          "dng",
          "paulo",
          "contato",
          "acordo",
          "seg",
          "fazer",
          "sex",
          "10h",
          "km",
          "dnit",
          "gente",
          "doaa",
          "polícia",
          "teatro",
          "afirma",
          "empresa",
          "leitor",
          "folha",
          "vídeo",
          "aqui",
          "queixa",
          "dia",
          "nesta",
          "brasil",
          "partir",
          "região",
          "veja",
          "dnas",
          "ano",
          "vida",
          "jogadores",
          "preto",
          "disse",
          "deve",
          "sobre",
          "resposta",
          "dmab",
          "porque",
          "segundo",
          "social",
          "rua",
          "pessoas",
          "cc",
          "sáb",
          "entrou",
          "doa",
          "dndi",
          "ainda",
          "행복",
          "cliente",
          "dnocs",
          "casa",
          "feira",
          "anos",
          "ribeirão",
          "obras",
          "cidade",
          "tel",
          "zona",
          "dns"
         ],
         "type": "scatter",
         "x": [
          0.9175703431884112,
          -0.024638266472245686,
          -0.14864772265810378,
          0.9322374126857242,
          -0.34780385343429415,
          0.24158191854622268,
          -0.8382089270102766,
          0.8889312487778878,
          -0.17278978998343308,
          0.8904435253301642,
          0.9146016356551336,
          -0.9211720547376089,
          -0.9683440628084917,
          0.24487093761359127,
          0.9977173693299883,
          -0.066264163957346,
          -0.722453355574476,
          0.08903439662488458,
          0.4090305527208916,
          -0.02892861322636972,
          0.34521730155350394,
          0.3350918976247853,
          -0.08829206870749975,
          0.9169406277731028,
          -0.2637895873338528,
          0.965571453990618,
          0.0033882130041062043,
          -0.42910552348742265,
          -0.9504864527059843,
          -0.8331748306254513,
          -0.9255039543999866,
          -0.4995494350644226,
          -0.49593127656973557,
          -0.27374221751996186,
          -0.9866004243254362,
          -0.1404063716534671,
          -0.27862866190813257,
          -0.11774954781542582,
          0.04244859142329068,
          0.42229139732118304,
          -0.21783817753341558,
          1,
          0.08642254274731663,
          -0.06721618082931415,
          -0.532003956178885,
          0.11455663836409599,
          -0.13141124564162923,
          -0.324092008541247,
          -0.45337697521947723,
          -0.7048848774374817,
          0.919743430304985,
          -0.04171782151952766,
          -0.08925136152890506,
          -0.14876795993107345,
          -0.09899512080517185,
          -0.23672305512653602,
          0.38771561325863807,
          0.29751590404405936,
          -0.8574539614044003,
          0.8274027003757736,
          0.8312489464544964,
          -0.2600300757419317,
          0.9627921877323563,
          -0.7382504258161218,
          0.8715948488410284,
          -0.1854547253725477,
          -0.42002817578387325,
          -0.08121614810970257,
          0.01719143047742066,
          -0.19515479072071318,
          -0.49623607202363407,
          0.3574125078772767,
          -0.28485641100825015,
          0.8566051146123284
         ],
         "y": [
          0.3222294022293901,
          -0.13500950945362,
          0.4055975162020162,
          0.34529030612727535,
          -0.25739533168009926,
          -0.6469445764935668,
          0.7130992293118541,
          0.3570224386210608,
          -0.7278370892704865,
          0.32956564395392246,
          0.36750030813117146,
          0.6143282989575148,
          0.6769653016558113,
          -0.8054437843245248,
          0.377606194279523,
          -0.4479408305956975,
          0.7090612662395172,
          -0.059361680756771874,
          -0.6214801491037178,
          0.5073284662687799,
          -0.5843677198944229,
          -0.8050267481612631,
          -0.03600129092660805,
          0.25555209460750017,
          0.08919036356908305,
          0.27744844210237907,
          -0.23988689813208838,
          -0.16209729481834412,
          0.8002488144943805,
          0.6006859715782447,
          0.8561229815400535,
          -0.17535201266399164,
          -0.3556996290733889,
          -0.8176774701484476,
          0.7459201177602739,
          -0.9020199154789819,
          -0.5054032684436738,
          0.5902972804296935,
          -0.7104541086504902,
          -0.6944838281796517,
          -0.9109908128441002,
          0.3275210762862683,
          -0.20094672210766248,
          0.5550791142748347,
          -0.28322987122088167,
          -0.1301179789610552,
          -0.11984487969356494,
          -0.7840488235780932,
          -0.30242323468588944,
          0.6008875237512821,
          0.4344225878212824,
          0.44211488033381363,
          -0.21794948837857683,
          0.5213467602195045,
          -0.8460722120532691,
          0.5406839434732251,
          -0.7514972945585793,
          -0.7531481195028453,
          0.8669935534007567,
          0.3162276424160897,
          0.377611690246379,
          0.4711953527937893,
          0.41383138336069974,
          0.7949303803570716,
          0.2701460357881223,
          0.5858279004293643,
          -0.38262298600381256,
          0.14968300989542693,
          -0.020256730123072098,
          -0.8509447524271182,
          -0.23272293807535993,
          -0.6731105493104539,
          -0.8765168156299769,
          0.4167640724967927
         ]
        }
       ],
       "layout": {
        "annotations": [
         {
          "showarrow": false,
          "x": 0.005,
          "xref": "paper",
          "y": -0.002,
          "yref": "paper"
         }
        ],
        "hovermode": "closest",
        "margin": {
         "b": 20,
         "l": 5,
         "r": 5,
         "t": 40
        },
        "showlegend": false,
        "template": {
         "data": {
          "bar": [
           {
            "error_x": {
             "color": "#2a3f5f"
            },
            "error_y": {
             "color": "#2a3f5f"
            },
            "marker": {
             "line": {
              "color": "#E5ECF6",
              "width": 0.5
             },
             "pattern": {
              "fillmode": "overlay",
              "size": 10,
              "solidity": 0.2
             }
            },
            "type": "bar"
           }
          ],
          "barpolar": [
           {
            "marker": {
             "line": {
              "color": "#E5ECF6",
              "width": 0.5
             },
             "pattern": {
              "fillmode": "overlay",
              "size": 10,
              "solidity": 0.2
             }
            },
            "type": "barpolar"
           }
          ],
          "carpet": [
           {
            "aaxis": {
             "endlinecolor": "#2a3f5f",
             "gridcolor": "white",
             "linecolor": "white",
             "minorgridcolor": "white",
             "startlinecolor": "#2a3f5f"
            },
            "baxis": {
             "endlinecolor": "#2a3f5f",
             "gridcolor": "white",
             "linecolor": "white",
             "minorgridcolor": "white",
             "startlinecolor": "#2a3f5f"
            },
            "type": "carpet"
           }
          ],
          "choropleth": [
           {
            "colorbar": {
             "outlinewidth": 0,
             "ticks": ""
            },
            "type": "choropleth"
           }
          ],
          "contour": [
           {
            "colorbar": {
             "outlinewidth": 0,
             "ticks": ""
            },
            "colorscale": [
             [
              0,
              "#0d0887"
             ],
             [
              0.1111111111111111,
              "#46039f"
             ],
             [
              0.2222222222222222,
              "#7201a8"
             ],
             [
              0.3333333333333333,
              "#9c179e"
             ],
             [
              0.4444444444444444,
              "#bd3786"
             ],
             [
              0.5555555555555556,
              "#d8576b"
             ],
             [
              0.6666666666666666,
              "#ed7953"
             ],
             [
              0.7777777777777778,
              "#fb9f3a"
             ],
             [
              0.8888888888888888,
              "#fdca26"
             ],
             [
              1,
              "#f0f921"
             ]
            ],
            "type": "contour"
           }
          ],
          "contourcarpet": [
           {
            "colorbar": {
             "outlinewidth": 0,
             "ticks": ""
            },
            "type": "contourcarpet"
           }
          ],
          "heatmap": [
           {
            "colorbar": {
             "outlinewidth": 0,
             "ticks": ""
            },
            "colorscale": [
             [
              0,
              "#0d0887"
             ],
             [
              0.1111111111111111,
              "#46039f"
             ],
             [
              0.2222222222222222,
              "#7201a8"
             ],
             [
              0.3333333333333333,
              "#9c179e"
             ],
             [
              0.4444444444444444,
              "#bd3786"
             ],
             [
              0.5555555555555556,
              "#d8576b"
             ],
             [
              0.6666666666666666,
              "#ed7953"
             ],
             [
              0.7777777777777778,
              "#fb9f3a"
             ],
             [
              0.8888888888888888,
              "#fdca26"
             ],
             [
              1,
              "#f0f921"
             ]
            ],
            "type": "heatmap"
           }
          ],
          "heatmapgl": [
           {
            "colorbar": {
             "outlinewidth": 0,
             "ticks": ""
            },
            "colorscale": [
             [
              0,
              "#0d0887"
             ],
             [
              0.1111111111111111,
              "#46039f"
             ],
             [
              0.2222222222222222,
              "#7201a8"
             ],
             [
              0.3333333333333333,
              "#9c179e"
             ],
             [
              0.4444444444444444,
              "#bd3786"
             ],
             [
              0.5555555555555556,
              "#d8576b"
             ],
             [
              0.6666666666666666,
              "#ed7953"
             ],
             [
              0.7777777777777778,
              "#fb9f3a"
             ],
             [
              0.8888888888888888,
              "#fdca26"
             ],
             [
              1,
              "#f0f921"
             ]
            ],
            "type": "heatmapgl"
           }
          ],
          "histogram": [
           {
            "marker": {
             "pattern": {
              "fillmode": "overlay",
              "size": 10,
              "solidity": 0.2
             }
            },
            "type": "histogram"
           }
          ],
          "histogram2d": [
           {
            "colorbar": {
             "outlinewidth": 0,
             "ticks": ""
            },
            "colorscale": [
             [
              0,
              "#0d0887"
             ],
             [
              0.1111111111111111,
              "#46039f"
             ],
             [
              0.2222222222222222,
              "#7201a8"
             ],
             [
              0.3333333333333333,
              "#9c179e"
             ],
             [
              0.4444444444444444,
              "#bd3786"
             ],
             [
              0.5555555555555556,
              "#d8576b"
             ],
             [
              0.6666666666666666,
              "#ed7953"
             ],
             [
              0.7777777777777778,
              "#fb9f3a"
             ],
             [
              0.8888888888888888,
              "#fdca26"
             ],
             [
              1,
              "#f0f921"
             ]
            ],
            "type": "histogram2d"
           }
          ],
          "histogram2dcontour": [
           {
            "colorbar": {
             "outlinewidth": 0,
             "ticks": ""
            },
            "colorscale": [
             [
              0,
              "#0d0887"
             ],
             [
              0.1111111111111111,
              "#46039f"
             ],
             [
              0.2222222222222222,
              "#7201a8"
             ],
             [
              0.3333333333333333,
              "#9c179e"
             ],
             [
              0.4444444444444444,
              "#bd3786"
             ],
             [
              0.5555555555555556,
              "#d8576b"
             ],
             [
              0.6666666666666666,
              "#ed7953"
             ],
             [
              0.7777777777777778,
              "#fb9f3a"
             ],
             [
              0.8888888888888888,
              "#fdca26"
             ],
             [
              1,
              "#f0f921"
             ]
            ],
            "type": "histogram2dcontour"
           }
          ],
          "mesh3d": [
           {
            "colorbar": {
             "outlinewidth": 0,
             "ticks": ""
            },
            "type": "mesh3d"
           }
          ],
          "parcoords": [
           {
            "line": {
             "colorbar": {
              "outlinewidth": 0,
              "ticks": ""
             }
            },
            "type": "parcoords"
           }
          ],
          "pie": [
           {
            "automargin": true,
            "type": "pie"
           }
          ],
          "scatter": [
           {
            "fillpattern": {
             "fillmode": "overlay",
             "size": 10,
             "solidity": 0.2
            },
            "type": "scatter"
           }
          ],
          "scatter3d": [
           {
            "line": {
             "colorbar": {
              "outlinewidth": 0,
              "ticks": ""
             }
            },
            "marker": {
             "colorbar": {
              "outlinewidth": 0,
              "ticks": ""
             }
            },
            "type": "scatter3d"
           }
          ],
          "scattercarpet": [
           {
            "marker": {
             "colorbar": {
              "outlinewidth": 0,
              "ticks": ""
             }
            },
            "type": "scattercarpet"
           }
          ],
          "scattergeo": [
           {
            "marker": {
             "colorbar": {
              "outlinewidth": 0,
              "ticks": ""
             }
            },
            "type": "scattergeo"
           }
          ],
          "scattergl": [
           {
            "marker": {
             "colorbar": {
              "outlinewidth": 0,
              "ticks": ""
             }
            },
            "type": "scattergl"
           }
          ],
          "scattermapbox": [
           {
            "marker": {
             "colorbar": {
              "outlinewidth": 0,
              "ticks": ""
             }
            },
            "type": "scattermapbox"
           }
          ],
          "scatterpolar": [
           {
            "marker": {
             "colorbar": {
              "outlinewidth": 0,
              "ticks": ""
             }
            },
            "type": "scatterpolar"
           }
          ],
          "scatterpolargl": [
           {
            "marker": {
             "colorbar": {
              "outlinewidth": 0,
              "ticks": ""
             }
            },
            "type": "scatterpolargl"
           }
          ],
          "scatterternary": [
           {
            "marker": {
             "colorbar": {
              "outlinewidth": 0,
              "ticks": ""
             }
            },
            "type": "scatterternary"
           }
          ],
          "surface": [
           {
            "colorbar": {
             "outlinewidth": 0,
             "ticks": ""
            },
            "colorscale": [
             [
              0,
              "#0d0887"
             ],
             [
              0.1111111111111111,
              "#46039f"
             ],
             [
              0.2222222222222222,
              "#7201a8"
             ],
             [
              0.3333333333333333,
              "#9c179e"
             ],
             [
              0.4444444444444444,
              "#bd3786"
             ],
             [
              0.5555555555555556,
              "#d8576b"
             ],
             [
              0.6666666666666666,
              "#ed7953"
             ],
             [
              0.7777777777777778,
              "#fb9f3a"
             ],
             [
              0.8888888888888888,
              "#fdca26"
             ],
             [
              1,
              "#f0f921"
             ]
            ],
            "type": "surface"
           }
          ],
          "table": [
           {
            "cells": {
             "fill": {
              "color": "#EBF0F8"
             },
             "line": {
              "color": "white"
             }
            },
            "header": {
             "fill": {
              "color": "#C8D4E3"
             },
             "line": {
              "color": "white"
             }
            },
            "type": "table"
           }
          ]
         },
         "layout": {
          "annotationdefaults": {
           "arrowcolor": "#2a3f5f",
           "arrowhead": 0,
           "arrowwidth": 1
          },
          "autotypenumbers": "strict",
          "coloraxis": {
           "colorbar": {
            "outlinewidth": 0,
            "ticks": ""
           }
          },
          "colorscale": {
           "diverging": [
            [
             0,
             "#8e0152"
            ],
            [
             0.1,
             "#c51b7d"
            ],
            [
             0.2,
             "#de77ae"
            ],
            [
             0.3,
             "#f1b6da"
            ],
            [
             0.4,
             "#fde0ef"
            ],
            [
             0.5,
             "#f7f7f7"
            ],
            [
             0.6,
             "#e6f5d0"
            ],
            [
             0.7,
             "#b8e186"
            ],
            [
             0.8,
             "#7fbc41"
            ],
            [
             0.9,
             "#4d9221"
            ],
            [
             1,
             "#276419"
            ]
           ],
           "sequential": [
            [
             0,
             "#0d0887"
            ],
            [
             0.1111111111111111,
             "#46039f"
            ],
            [
             0.2222222222222222,
             "#7201a8"
            ],
            [
             0.3333333333333333,
             "#9c179e"
            ],
            [
             0.4444444444444444,
             "#bd3786"
            ],
            [
             0.5555555555555556,
             "#d8576b"
            ],
            [
             0.6666666666666666,
             "#ed7953"
            ],
            [
             0.7777777777777778,
             "#fb9f3a"
            ],
            [
             0.8888888888888888,
             "#fdca26"
            ],
            [
             1,
             "#f0f921"
            ]
           ],
           "sequentialminus": [
            [
             0,
             "#0d0887"
            ],
            [
             0.1111111111111111,
             "#46039f"
            ],
            [
             0.2222222222222222,
             "#7201a8"
            ],
            [
             0.3333333333333333,
             "#9c179e"
            ],
            [
             0.4444444444444444,
             "#bd3786"
            ],
            [
             0.5555555555555556,
             "#d8576b"
            ],
            [
             0.6666666666666666,
             "#ed7953"
            ],
            [
             0.7777777777777778,
             "#fb9f3a"
            ],
            [
             0.8888888888888888,
             "#fdca26"
            ],
            [
             1,
             "#f0f921"
            ]
           ]
          },
          "colorway": [
           "#636efa",
           "#EF553B",
           "#00cc96",
           "#ab63fa",
           "#FFA15A",
           "#19d3f3",
           "#FF6692",
           "#B6E880",
           "#FF97FF",
           "#FECB52"
          ],
          "font": {
           "color": "#2a3f5f"
          },
          "geo": {
           "bgcolor": "white",
           "lakecolor": "white",
           "landcolor": "#E5ECF6",
           "showlakes": true,
           "showland": true,
           "subunitcolor": "white"
          },
          "hoverlabel": {
           "align": "left"
          },
          "hovermode": "closest",
          "mapbox": {
           "style": "light"
          },
          "paper_bgcolor": "white",
          "plot_bgcolor": "#E5ECF6",
          "polar": {
           "angularaxis": {
            "gridcolor": "white",
            "linecolor": "white",
            "ticks": ""
           },
           "bgcolor": "#E5ECF6",
           "radialaxis": {
            "gridcolor": "white",
            "linecolor": "white",
            "ticks": ""
           }
          },
          "scene": {
           "xaxis": {
            "backgroundcolor": "#E5ECF6",
            "gridcolor": "white",
            "gridwidth": 2,
            "linecolor": "white",
            "showbackground": true,
            "ticks": "",
            "zerolinecolor": "white"
           },
           "yaxis": {
            "backgroundcolor": "#E5ECF6",
            "gridcolor": "white",
            "gridwidth": 2,
            "linecolor": "white",
            "showbackground": true,
            "ticks": "",
            "zerolinecolor": "white"
           },
           "zaxis": {
            "backgroundcolor": "#E5ECF6",
            "gridcolor": "white",
            "gridwidth": 2,
            "linecolor": "white",
            "showbackground": true,
            "ticks": "",
            "zerolinecolor": "white"
           }
          },
          "shapedefaults": {
           "line": {
            "color": "#2a3f5f"
           }
          },
          "ternary": {
           "aaxis": {
            "gridcolor": "white",
            "linecolor": "white",
            "ticks": ""
           },
           "baxis": {
            "gridcolor": "white",
            "linecolor": "white",
            "ticks": ""
           },
           "bgcolor": "#E5ECF6",
           "caxis": {
            "gridcolor": "white",
            "linecolor": "white",
            "ticks": ""
           }
          },
          "title": {
           "x": 0.05
          },
          "xaxis": {
           "automargin": true,
           "gridcolor": "white",
           "linecolor": "white",
           "ticks": "",
           "title": {
            "standoff": 15
           },
           "zerolinecolor": "white",
           "zerolinewidth": 2
          },
          "yaxis": {
           "automargin": true,
           "gridcolor": "white",
           "linecolor": "white",
           "ticks": "",
           "title": {
            "standoff": 15
           },
           "zerolinecolor": "white",
           "zerolinewidth": 2
          }
         }
        },
        "title": {
         "font": {
          "size": 16
         },
         "text": "<br>Word Net Weighted NB"
        },
        "xaxis": {
         "showgrid": false,
         "showticklabels": false,
         "zeroline": false
        },
        "yaxis": {
         "showgrid": false,
         "showticklabels": false,
         "zeroline": false
        }
       }
      }
     },
     "metadata": {},
     "output_type": "display_data"
    }
   ],
   "source": [
    "fig = go.Figure(data=[edge_trace, node_trace],\n",
    "             layout=go.Layout(\n",
    "                title='<br>Word Net Weighted NB',\n",
    "                titlefont_size=16,\n",
    "                showlegend=False,\n",
    "                hovermode='closest',\n",
    "                margin=dict(b=20,l=5,r=5,t=40),\n",
    "                annotations=[ dict(\n",
    "                    showarrow=False,\n",
    "                    xref=\"paper\", yref=\"paper\",\n",
    "                    x=0.005, y=-0.002 ) ],\n",
    "                xaxis=dict(showgrid=False, zeroline=False, showticklabels=False),\n",
    "                yaxis=dict(showgrid=False, zeroline=False, showticklabels=False))\n",
    "                )\n",
    "fig.show()"
   ]
  },
  {
   "cell_type": "code",
   "execution_count": 423,
   "metadata": {},
   "outputs": [
    {
     "data": {
      "application/vnd.plotly.v1+json": {
       "config": {
        "plotlyServerURL": "https://plot.ly"
       },
       "data": [
        {
         "hoverinfo": "none",
         "line": {
          "color": "#888",
          "width": 0.5
         },
         "mode": "lines",
         "type": "scatter",
         "x": [
          -0.1662493767436425,
          -0.3181245015422654,
          null,
          -0.1662493767436425,
          -0.2996282167421566,
          null,
          -0.1662493767436425,
          -0.3330064903407257,
          null,
          -0.1662493767436425,
          -0.17717691198234964,
          null,
          -0.1662493767436425,
          -0.27668014069808,
          null,
          -0.1662493767436425,
          -0.09239099215002092,
          null,
          -0.1662493767436425,
          -0.006018550375770873,
          null,
          -0.1662493767436425,
          -0.2053012997954189,
          null,
          -0.1662493767436425,
          0.0691850305749611,
          null,
          -0.1662493767436425,
          -0.11651184719082018,
          null,
          0.12405972643447102,
          0.14289723222043063,
          null,
          0.12405972643447102,
          -0.006018550375770873,
          null,
          0.12405972643447102,
          0.3185054003130861,
          null,
          0.12405972643447102,
          0.21416184319682072,
          null,
          0.12405972643447102,
          -0.11651184719082018,
          null,
          0.12405972643447102,
          0.009015591000724842,
          null,
          0.12405972643447102,
          0.2664382517415583,
          null,
          0.12405972643447102,
          0.205644666978152,
          null,
          0.12405972643447102,
          0.26381049541351215,
          null,
          0.12405972643447102,
          0.08226399739198031,
          null,
          -0.13904072787749996,
          -0.2053012997954189,
          null,
          -0.13904072787749996,
          -0.26531253173423003,
          null,
          -0.13904072787749996,
          -0.04500958870355992,
          null,
          -0.13904072787749996,
          -0.20607861948289144,
          null,
          -0.13904072787749996,
          -0.25785750632605187,
          null,
          -0.13904072787749996,
          -0.14077886535577036,
          null,
          -0.13904072787749996,
          -0.1984273531188744,
          null,
          -0.13904072787749996,
          0.0691850305749611,
          null,
          -0.13904072787749996,
          -0.11651184719082018,
          null,
          -0.13904072787749996,
          -0.09040129247230409,
          null,
          0.38841930869602354,
          0.48739133171420157,
          null,
          0.38841930869602354,
          0.3646775387902527,
          null,
          0.38841930869602354,
          0.5439971389062526,
          null,
          0.38841930869602354,
          0.5612511564471975,
          null,
          0.38841930869602354,
          0.3185054003130861,
          null,
          0.38841930869602354,
          0.4261151999300814,
          null,
          0.38841930869602354,
          0.0691850305749611,
          null,
          0.38841930869602354,
          0.43175112055818154,
          null,
          0.38841930869602354,
          0.4976442341174427,
          null,
          0.38841930869602354,
          0.536920528907645,
          null,
          0.041905799534067194,
          0.08226399739198031,
          null,
          0.041905799534067194,
          0.16326412364217213,
          null,
          0.041905799534067194,
          0.20601491876008773,
          null,
          0.041905799534067194,
          -0.05185651290562677,
          null,
          0.041905799534067194,
          -0.09239099215002092,
          null,
          0.041905799534067194,
          -0.056450411487657955,
          null,
          0.041905799534067194,
          -0.015468167186230727,
          null,
          0.041905799534067194,
          -0.04500958870355992,
          null,
          0.041905799534067194,
          0.171258550849908,
          null,
          0.041905799534067194,
          -0.002447337070105909,
          null,
          0.44903310463617885,
          0.08226399739198031,
          null,
          0.44903310463617885,
          0.6210690099356921,
          null,
          0.44903310463617885,
          0.5588458502600734,
          null,
          0.44903310463617885,
          0.236058838895781,
          null,
          0.44903310463617885,
          0.5415424425362403,
          null,
          0.44903310463617885,
          0.6277503956983,
          null,
          0.44903310463617885,
          0.5937346842316272,
          null,
          0.44903310463617885,
          0.5991795577913019,
          null,
          0.44903310463617885,
          0.48377417449185334,
          null,
          0.44903310463617885,
          0.6481605990648203,
          null,
          -0.8212275528690557,
          -0.939221752095873,
          null,
          -0.8212275528690557,
          -1,
          null,
          -0.8212275528690557,
          -0.5787121523937514,
          null,
          -0.8212275528690557,
          -0.940685456841571,
          null,
          -0.8212275528690557,
          -0.5802328952169149,
          null,
          -0.8212275528690557,
          -0.9952731953274372,
          null,
          -0.8212275528690557,
          -0.5794571540470488,
          null,
          -0.8212275528690557,
          -0.9459829809862053,
          null,
          -0.8212275528690557,
          -0.9330940488044042,
          null,
          -0.8212275528690557,
          -0.9983389988460211,
          null,
          0.2688988852578521,
          0.35721644074982306,
          null,
          0.2688988852578521,
          0.3698132860341739,
          null,
          0.2688988852578521,
          0.2753296146047078,
          null,
          0.2688988852578521,
          0.240161847837122,
          null,
          0.2688988852578521,
          0.3185054003130861,
          null,
          0.2688988852578521,
          0.4150045984107844,
          null,
          0.2688988852578521,
          0.4293284481895586,
          null,
          0.2688988852578521,
          0.009015591000724842,
          null,
          0.2688988852578521,
          0.3086994042433141,
          null,
          0.2688988852578521,
          0.08226399739198031,
          null,
          0.007479553914392722,
          0.236058838895781,
          null,
          0.007479553914392722,
          0.06249313019162922,
          null,
          0.007479553914392722,
          -0.12273947807821074,
          null,
          0.007479553914392722,
          -0.0613596473628083,
          null,
          0.007479553914392722,
          -0.015468167186230727,
          null,
          0.007479553914392722,
          -0.08005307564501858,
          null,
          0.007479553914392722,
          -0.016954911288851477,
          null,
          0.007479553914392722,
          -0.1030186393265071,
          null,
          0.007479553914392722,
          0.08226399739198031,
          null,
          0.007479553914392722,
          0.005776854959792794,
          null,
          -0.2956387863543214,
          0.009015591000724842,
          null,
          -0.2956387863543214,
          -0.25785750632605187,
          null,
          -0.2956387863543214,
          -0.43673723554668464,
          null,
          -0.2956387863543214,
          -0.5802328952169149,
          null,
          -0.2956387863543214,
          -0.41890940789707665,
          null,
          -0.2956387863543214,
          -0.11651184719082018,
          null,
          -0.2956387863543214,
          -0.2996282167421566,
          null,
          -0.2956387863543214,
          -0.5787121523937514,
          null,
          -0.2956387863543214,
          0.08226399739198031,
          null,
          -0.2956387863543214,
          -0.5794571540470488,
          null,
          -0.09122755098113104,
          -0.11651184719082018,
          null,
          -0.09122755098113104,
          -0.056450411487657955,
          null,
          -0.09122755098113104,
          -0.08005307564501858,
          null,
          -0.09122755098113104,
          -0.015468167186230727,
          null,
          -0.09122755098113104,
          0.08226399739198031,
          null,
          -0.09122755098113104,
          -0.17717691198234964,
          null,
          -0.09122755098113104,
          -0.05185651290562677,
          null,
          -0.09122755098113104,
          -0.09239099215002092,
          null,
          -0.09122755098113104,
          -0.2168617468632816,
          null,
          -0.09122755098113104,
          -0.002447337070105909,
          null
         ],
         "y": [
          -0.2738626837993664,
          -0.3750203664734267,
          null,
          -0.2738626837993664,
          -0.1478192996367727,
          null,
          -0.2738626837993664,
          -0.3240630349626776,
          null,
          -0.2738626837993664,
          -0.08288276732312379,
          null,
          -0.2738626837993664,
          -0.40838248515208275,
          null,
          -0.2738626837993664,
          -0.0646997195487779,
          null,
          -0.2738626837993664,
          -0.24994155928465797,
          null,
          -0.2738626837993664,
          -0.41352519147865346,
          null,
          -0.2738626837993664,
          -0.43969831657225245,
          null,
          -0.2738626837993664,
          -0.14155149708390247,
          null,
          -0.11655867905155608,
          -0.26248638882524905,
          null,
          -0.11655867905155608,
          -0.24994155928465797,
          null,
          -0.11655867905155608,
          -0.18009482280162967,
          null,
          -0.11655867905155608,
          -0.19886962335950178,
          null,
          -0.11655867905155608,
          -0.14155149708390247,
          null,
          -0.11655867905155608,
          0.03711492524474298,
          null,
          -0.11655867905155608,
          -0.22709081271594325,
          null,
          -0.11655867905155608,
          -0.2667899157492785,
          null,
          -0.11655867905155608,
          -0.14228361153001373,
          null,
          -0.11655867905155608,
          0.1962312835387595,
          null,
          -0.4155667027708203,
          -0.41352519147865346,
          null,
          -0.4155667027708203,
          -0.5563644775261045,
          null,
          -0.4155667027708203,
          -0.19601055761357367,
          null,
          -0.4155667027708203,
          -0.5589026987457166,
          null,
          -0.4155667027708203,
          -0.2193756304506961,
          null,
          -0.4155667027708203,
          -0.601513758515873,
          null,
          -0.4155667027708203,
          -0.6097893751503927,
          null,
          -0.4155667027708203,
          -0.43969831657225245,
          null,
          -0.4155667027708203,
          -0.14155149708390247,
          null,
          -0.4155667027708203,
          -0.5819328720634876,
          null,
          -0.5337050563941604,
          -0.6958455927949767,
          null,
          -0.5337050563941604,
          -0.6911691599121195,
          null,
          -0.5337050563941604,
          -0.5417321851979772,
          null,
          -0.5337050563941604,
          -0.5982913992110385,
          null,
          -0.5337050563941604,
          -0.18009482280162967,
          null,
          -0.5337050563941604,
          -0.7200424092732026,
          null,
          -0.5337050563941604,
          -0.43969831657225245,
          null,
          -0.5337050563941604,
          -0.6589313957099027,
          null,
          -0.5337050563941604,
          -0.6152558684409329,
          null,
          -0.5337050563941604,
          -0.6605601224759475,
          null,
          0.05033023487542111,
          0.1962312835387595,
          null,
          0.05033023487542111,
          0.09636606556862365,
          null,
          0.05033023487542111,
          0.04366507480409967,
          null,
          0.05033023487542111,
          0.15341308469300172,
          null,
          0.05033023487542111,
          -0.0646997195487779,
          null,
          0.05033023487542111,
          0.0395300464070457,
          null,
          0.05033023487542111,
          0.2604510136136059,
          null,
          0.05033023487542111,
          -0.19601055761357367,
          null,
          0.05033023487542111,
          -0.005053357533914498,
          null,
          0.05033023487542111,
          0.1325008038391655,
          null,
          0.4547658056134991,
          0.1962312835387595,
          null,
          0.4547658056134991,
          0.39893976497979605,
          null,
          0.4547658056134991,
          0.5440884671889733,
          null,
          0.4547658056134991,
          0.5172898724283649,
          null,
          0.4547658056134991,
          0.6129780453177787,
          null,
          0.4547658056134991,
          0.5254405327061976,
          null,
          0.4547658056134991,
          0.4557794706491991,
          null,
          0.4547658056134991,
          0.5857507809857327,
          null,
          0.4547658056134991,
          0.6249663771187223,
          null,
          0.4547658056134991,
          0.46670834406076706,
          null,
          0.023750993654063815,
          -0.08658109741518168,
          null,
          0.023750993654063815,
          0.08370135591920677,
          null,
          0.023750993654063815,
          0.053372229131097584,
          null,
          0.023750993654063815,
          -0.016449392624611273,
          null,
          0.023750993654063815,
          -0.01030768816968932,
          null,
          0.023750993654063815,
          -0.041871286941288374,
          null,
          0.023750993654063815,
          0.022500253192574933,
          null,
          0.023750993654063815,
          0.0850337246271784,
          null,
          0.023750993654063815,
          0.14289977891580405,
          null,
          0.023750993654063815,
          0.02156071679741445,
          null,
          0.16507294532507272,
          0.24915687596958483,
          null,
          0.16507294532507272,
          0.31196925593508545,
          null,
          0.16507294532507272,
          0.36758587202670806,
          null,
          0.16507294532507272,
          0.3063175046376306,
          null,
          0.16507294532507272,
          -0.18009482280162967,
          null,
          0.16507294532507272,
          0.25264046427541764,
          null,
          0.16507294532507272,
          0.17408577900713038,
          null,
          0.16507294532507272,
          0.03711492524474298,
          null,
          0.16507294532507272,
          0.3190823357166199,
          null,
          0.16507294532507272,
          0.1962312835387595,
          null,
          0.4935533691496732,
          0.5172898724283649,
          null,
          0.4935533691496732,
          0.6562373805573944,
          null,
          0.4935533691496732,
          0.5843356015503484,
          null,
          0.4935533691496732,
          0.6720920385023781,
          null,
          0.4935533691496732,
          0.2604510136136059,
          null,
          0.4935533691496732,
          0.3290626544490405,
          null,
          0.4935533691496732,
          0.6292049217367803,
          null,
          0.4935533691496732,
          0.6340348776527783,
          null,
          0.4935533691496732,
          0.1962312835387595,
          null,
          0.4935533691496732,
          0.683168565225718,
          null,
          0.013463996570504958,
          0.03711492524474298,
          null,
          0.013463996570504958,
          -0.2193756304506961,
          null,
          0.013463996570504958,
          0.036929610336701946,
          null,
          0.013463996570504958,
          -0.01030768816968932,
          null,
          0.013463996570504958,
          0.114103322052922,
          null,
          0.013463996570504958,
          -0.14155149708390247,
          null,
          0.013463996570504958,
          -0.1478192996367727,
          null,
          0.013463996570504958,
          0.053372229131097584,
          null,
          0.013463996570504958,
          0.1962312835387595,
          null,
          0.013463996570504958,
          0.022500253192574933,
          null,
          0.10238914716761033,
          -0.14155149708390247,
          null,
          0.10238914716761033,
          0.0395300464070457,
          null,
          0.10238914716761033,
          0.3290626544490405,
          null,
          0.10238914716761033,
          0.2604510136136059,
          null,
          0.10238914716761033,
          0.1962312835387595,
          null,
          0.10238914716761033,
          -0.08288276732312379,
          null,
          0.10238914716761033,
          0.15341308469300172,
          null,
          0.10238914716761033,
          -0.0646997195487779,
          null,
          0.10238914716761033,
          0.20725729656453973,
          null,
          0.10238914716761033,
          0.1325008038391655,
          null
         ]
        },
        {
         "hoverinfo": "text",
         "marker": {
          "cmax": 1000,
          "cmin": 0,
          "color": [
           1,
           1,
           1,
           1,
           1,
           1,
           1,
           1,
           1,
           1,
           1,
           6864,
           17625,
           2779,
           1769,
           18429,
           1167,
           5141,
           364,
           12619,
           333,
           7122,
           614,
           18287,
           1134,
           6945,
           4998,
           3294,
           1882,
           6767,
           7425,
           3569,
           1684,
           6810,
           1708,
           8267,
           988,
           1908,
           3881,
           13963,
           9955,
           25152,
           4835,
           17319,
           3845,
           6362,
           20794,
           9810,
           1807,
           1975,
           655,
           10442,
           8478,
           21957,
           16497,
           3101,
           12782,
           16232,
           4194,
           3771,
           12074,
           3767,
           4713,
           233,
           3382,
           359,
           7352,
           1460,
           21958,
           2452,
           1655,
           3408,
           18271,
           9723,
           17987,
           25174,
           286,
           3123,
           8036,
           6950,
           1070,
           17233,
           3017,
           3459,
           9973,
           3099,
           9148
          ],
          "colorbar": {
           "thickness": 15,
           "title": {
            "side": "right",
            "text": "Word Count"
           },
           "xanchor": "left"
          },
          "colorscale": [
           [
            0,
            "rgb(0,0,0)"
           ],
           [
            0.25,
            "rgb(230,0,0)"
           ],
           [
            0.5,
            "rgb(230,210,0)"
           ],
           [
            0.75,
            "rgb(255,255,255)"
           ],
           [
            1,
            "rgb(160,200,255)"
           ]
          ],
          "line": {
           "width": 2
          },
          "reversescale": true,
          "showscale": true,
          "size": [
           20,
           20,
           20,
           20,
           20,
           20,
           20,
           20,
           20,
           20,
           20,
           1.456876456876457,
           0.5673758865248226,
           3.5984166966534725,
           5.6529112492933855,
           0.5426230397742687,
           8.56898029134533,
           1.9451468585878233,
           27.472527472527474,
           0.7924558205880022,
           30.030030030030026,
           1.4040999719180005,
           16.286644951140065,
           0.5468365505550391,
           8.818342151675484,
           1.4398848092152627,
           2.000800320128051,
           3.035822707953855,
           5.313496280552603,
           1.4777597162701346,
           1.3468013468013469,
           2.8019052956010086,
           5.938242280285035,
           1.4684287812041115,
           5.85480093676815,
           1.2096286440062902,
           10.121457489878543,
           5.2410901467505235,
           2.576655501159495,
           0.7161784716751414,
           1.0045203415369162,
           0.3975826972010178,
           2.0682523267838677,
           0.5774005427565102,
           2.600780234070221,
           1.5718327569946557,
           0.4809079542175627,
           1.019367991845056,
           5.534034311012729,
           5.063291139240506,
           15.267175572519083,
           0.957670944263551,
           1.179523472517103,
           0.4554356241745229,
           0.6061708189367764,
           3.2247662044501775,
           0.7823501799405413,
           0.6160670280926566,
           2.384358607534573,
           2.6518164942985942,
           0.828225940036442,
           2.654632333421821,
           2.1217907914279652,
           42.918454935622314,
           2.956830277942046,
           27.85515320334262,
           1.3601741022850924,
           6.8493150684931505,
           0.45541488295837507,
           4.078303425774878,
           6.042296072507552,
           2.934272300469484,
           0.5473154178753216,
           1.0284891494394734,
           0.5559570801134152,
           0.39723524271073335,
           34.96503496503496,
           3.202049311559398,
           1.2444001991040319,
           1.4388489208633093,
           9.345794392523365,
           0.5802820170602913,
           3.314550878355983,
           2.891008962127782,
           1.002707309736288,
           3.226847370119393,
           1.0931351114997814
          ]
         },
         "mode": "markers+text",
         "text": [
          "COLUNAS",
          "COTIDIANO",
          "EMPREENDEDORSOCIAL",
          "ESPORTE",
          "MULTIMIDIA",
          "O-MELHOR-DE-SAO-PAULO",
          "PAINELDOLEITOR",
          "PODER",
          "SAOPAULO",
          "SOBRETUDO",
          "TV",
          "após",
          "diz",
          "leia",
          "br",
          "paulo",
          "contato",
          "acordo",
          "seg",
          "fazer",
          "sex",
          "trabalho",
          "10h",
          "governo",
          "km",
          "gente",
          "olimpíada",
          "polícia",
          "teatro",
          "afirma",
          "empresa",
          "of",
          "leitor",
          "folha",
          "vídeo",
          "aqui",
          "queixa",
          "veja",
          "prefeito",
          "dia",
          "nesta",
          "brasil",
          "partir",
          "rio",
          "região",
          "pt",
          "ano",
          "vida",
          "jogadores",
          "turno",
          "preto",
          "disse",
          "deve",
          "sobre",
          "vai",
          "resposta",
          "porque",
          "segundo",
          "social",
          "rua",
          "pessoas",
          "atletas",
          "campanha",
          "cc",
          "in",
          "sáb",
          "jogos",
          "entrou",
          "ainda",
          "doria",
          "cliente",
          "psdb",
          "presidente",
          "casa",
          "país",
          "anos",
          "ribeirão",
          "olímpico",
          "cidade",
          "feira",
          "tel",
          "pode",
          "obras",
          "candidato",
          "the",
          "zona",
          "mil"
         ],
         "type": "scatter",
         "x": [
          -0.1662493767436425,
          0.12405972643447102,
          -0.13904072787749996,
          0.38841930869602354,
          0.041905799534067194,
          0.44903310463617885,
          -0.8212275528690557,
          0.2688988852578521,
          0.007479553914392722,
          -0.2956387863543214,
          -0.09122755098113104,
          -0.940685456841571,
          -0.5794571540470488,
          -0.2168617468632816,
          0.48377417449185334,
          0.08226399739198031,
          -0.9952731953274372,
          0.14289723222043063,
          0.5991795577913019,
          -0.1984273531188744,
          0.5588458502600734,
          -0.43673723554668464,
          0.6210690099356921,
          -0.27668014069808,
          0.205644666978152,
          -0.04500958870355992,
          0.4261151999300814,
          0.26381049541351215,
          0.20601491876008773,
          -0.5787121523937514,
          -0.5802328952169149,
          0.3646775387902527,
          -1,
          -0.002447337070105909,
          -0.056450411487657955,
          -0.08005307564501858,
          -0.9459829809862053,
          -0.016954911288851477,
          0.3086994042433141,
          0.005776854959792794,
          -0.015468167186230727,
          0.0691850305749611,
          0.236058838895781,
          0.536920528907645,
          0.5937346842316272,
          0.240161847837122,
          -0.006018550375770873,
          -0.26531253173423003,
          0.171258550849908,
          0.2753296146047078,
          0.21416184319682072,
          0.3185054003130861,
          -0.0613596473628083,
          -0.09239099215002092,
          -0.3181245015422654,
          -0.9983389988460211,
          -0.20607861948289144,
          0.009015591000724842,
          -0.09040129247230409,
          -0.1030186393265071,
          -0.14077886535577036,
          0.5612511564471975,
          0.4150045984107844,
          0.5415424425362403,
          0.5439971389062526,
          0.6277503956983,
          0.43175112055818154,
          -0.939221752095873,
          -0.2053012997954189,
          0.35721644074982306,
          -0.9330940488044042,
          0.3698132860341739,
          -0.17717691198234964,
          -0.25785750632605187,
          -0.3330064903407257,
          -0.11651184719082018,
          0.2664382517415583,
          0.48739133171420157,
          0.16326412364217213,
          -0.05185651290562677,
          0.6481605990648203,
          -0.2996282167421566,
          0.06249313019162922,
          0.4293284481895586,
          0.4976442341174427,
          -0.12273947807821074,
          -0.41890940789707665
         ],
         "y": [
          -0.2738626837993664,
          -0.11655867905155608,
          -0.4155667027708203,
          -0.5337050563941604,
          0.05033023487542111,
          0.4547658056134991,
          0.023750993654063815,
          0.16507294532507272,
          0.4935533691496732,
          0.013463996570504958,
          0.10238914716761033,
          -0.016449392624611273,
          0.022500253192574933,
          0.20725729656453973,
          0.6249663771187223,
          0.1962312835387595,
          -0.041871286941288374,
          -0.26248638882524905,
          0.5857507809857327,
          -0.6097893751503927,
          0.5440884671889733,
          0.036929610336701946,
          0.39893976497979605,
          -0.40838248515208275,
          -0.2667899157492785,
          -0.19601055761357367,
          -0.7200424092732026,
          -0.14228361153001373,
          0.04366507480409967,
          0.053372229131097584,
          -0.01030768816968932,
          -0.6911691599121195,
          0.08370135591920677,
          0.1325008038391655,
          0.0395300464070457,
          0.3290626544490405,
          0.0850337246271784,
          0.6292049217367803,
          0.3190823357166199,
          0.683168565225718,
          0.2604510136136059,
          -0.43969831657225245,
          0.5172898724283649,
          -0.6605601224759475,
          0.4557794706491991,
          0.3063175046376306,
          -0.24994155928465797,
          -0.5563644775261045,
          -0.005053357533914498,
          0.36758587202670806,
          -0.19886962335950178,
          -0.18009482280162967,
          0.6720920385023781,
          -0.0646997195487779,
          -0.3750203664734267,
          0.02156071679741445,
          -0.5589026987457166,
          0.03711492524474298,
          -0.5819328720634876,
          0.6340348776527783,
          -0.601513758515873,
          -0.5982913992110385,
          0.25264046427541764,
          0.6129780453177787,
          -0.5417321851979772,
          0.5254405327061976,
          -0.6589313957099027,
          -0.08658109741518168,
          -0.41352519147865346,
          0.24915687596958483,
          0.14289977891580405,
          0.31196925593508545,
          -0.08288276732312379,
          -0.2193756304506961,
          -0.3240630349626776,
          -0.14155149708390247,
          -0.22709081271594325,
          -0.6958455927949767,
          0.09636606556862365,
          0.15341308469300172,
          0.46670834406076706,
          -0.1478192996367727,
          0.6562373805573944,
          0.17408577900713038,
          -0.6152558684409329,
          0.5843356015503484,
          0.114103322052922
         ]
        }
       ],
       "layout": {
        "annotations": [
         {
          "showarrow": false,
          "x": 0.005,
          "xref": "paper",
          "y": -0.002,
          "yref": "paper"
         }
        ],
        "hovermode": "closest",
        "margin": {
         "b": 20,
         "l": 5,
         "r": 5,
         "t": 40
        },
        "showlegend": false,
        "template": {
         "data": {
          "bar": [
           {
            "error_x": {
             "color": "#2a3f5f"
            },
            "error_y": {
             "color": "#2a3f5f"
            },
            "marker": {
             "line": {
              "color": "#E5ECF6",
              "width": 0.5
             },
             "pattern": {
              "fillmode": "overlay",
              "size": 10,
              "solidity": 0.2
             }
            },
            "type": "bar"
           }
          ],
          "barpolar": [
           {
            "marker": {
             "line": {
              "color": "#E5ECF6",
              "width": 0.5
             },
             "pattern": {
              "fillmode": "overlay",
              "size": 10,
              "solidity": 0.2
             }
            },
            "type": "barpolar"
           }
          ],
          "carpet": [
           {
            "aaxis": {
             "endlinecolor": "#2a3f5f",
             "gridcolor": "white",
             "linecolor": "white",
             "minorgridcolor": "white",
             "startlinecolor": "#2a3f5f"
            },
            "baxis": {
             "endlinecolor": "#2a3f5f",
             "gridcolor": "white",
             "linecolor": "white",
             "minorgridcolor": "white",
             "startlinecolor": "#2a3f5f"
            },
            "type": "carpet"
           }
          ],
          "choropleth": [
           {
            "colorbar": {
             "outlinewidth": 0,
             "ticks": ""
            },
            "type": "choropleth"
           }
          ],
          "contour": [
           {
            "colorbar": {
             "outlinewidth": 0,
             "ticks": ""
            },
            "colorscale": [
             [
              0,
              "#0d0887"
             ],
             [
              0.1111111111111111,
              "#46039f"
             ],
             [
              0.2222222222222222,
              "#7201a8"
             ],
             [
              0.3333333333333333,
              "#9c179e"
             ],
             [
              0.4444444444444444,
              "#bd3786"
             ],
             [
              0.5555555555555556,
              "#d8576b"
             ],
             [
              0.6666666666666666,
              "#ed7953"
             ],
             [
              0.7777777777777778,
              "#fb9f3a"
             ],
             [
              0.8888888888888888,
              "#fdca26"
             ],
             [
              1,
              "#f0f921"
             ]
            ],
            "type": "contour"
           }
          ],
          "contourcarpet": [
           {
            "colorbar": {
             "outlinewidth": 0,
             "ticks": ""
            },
            "type": "contourcarpet"
           }
          ],
          "heatmap": [
           {
            "colorbar": {
             "outlinewidth": 0,
             "ticks": ""
            },
            "colorscale": [
             [
              0,
              "#0d0887"
             ],
             [
              0.1111111111111111,
              "#46039f"
             ],
             [
              0.2222222222222222,
              "#7201a8"
             ],
             [
              0.3333333333333333,
              "#9c179e"
             ],
             [
              0.4444444444444444,
              "#bd3786"
             ],
             [
              0.5555555555555556,
              "#d8576b"
             ],
             [
              0.6666666666666666,
              "#ed7953"
             ],
             [
              0.7777777777777778,
              "#fb9f3a"
             ],
             [
              0.8888888888888888,
              "#fdca26"
             ],
             [
              1,
              "#f0f921"
             ]
            ],
            "type": "heatmap"
           }
          ],
          "heatmapgl": [
           {
            "colorbar": {
             "outlinewidth": 0,
             "ticks": ""
            },
            "colorscale": [
             [
              0,
              "#0d0887"
             ],
             [
              0.1111111111111111,
              "#46039f"
             ],
             [
              0.2222222222222222,
              "#7201a8"
             ],
             [
              0.3333333333333333,
              "#9c179e"
             ],
             [
              0.4444444444444444,
              "#bd3786"
             ],
             [
              0.5555555555555556,
              "#d8576b"
             ],
             [
              0.6666666666666666,
              "#ed7953"
             ],
             [
              0.7777777777777778,
              "#fb9f3a"
             ],
             [
              0.8888888888888888,
              "#fdca26"
             ],
             [
              1,
              "#f0f921"
             ]
            ],
            "type": "heatmapgl"
           }
          ],
          "histogram": [
           {
            "marker": {
             "pattern": {
              "fillmode": "overlay",
              "size": 10,
              "solidity": 0.2
             }
            },
            "type": "histogram"
           }
          ],
          "histogram2d": [
           {
            "colorbar": {
             "outlinewidth": 0,
             "ticks": ""
            },
            "colorscale": [
             [
              0,
              "#0d0887"
             ],
             [
              0.1111111111111111,
              "#46039f"
             ],
             [
              0.2222222222222222,
              "#7201a8"
             ],
             [
              0.3333333333333333,
              "#9c179e"
             ],
             [
              0.4444444444444444,
              "#bd3786"
             ],
             [
              0.5555555555555556,
              "#d8576b"
             ],
             [
              0.6666666666666666,
              "#ed7953"
             ],
             [
              0.7777777777777778,
              "#fb9f3a"
             ],
             [
              0.8888888888888888,
              "#fdca26"
             ],
             [
              1,
              "#f0f921"
             ]
            ],
            "type": "histogram2d"
           }
          ],
          "histogram2dcontour": [
           {
            "colorbar": {
             "outlinewidth": 0,
             "ticks": ""
            },
            "colorscale": [
             [
              0,
              "#0d0887"
             ],
             [
              0.1111111111111111,
              "#46039f"
             ],
             [
              0.2222222222222222,
              "#7201a8"
             ],
             [
              0.3333333333333333,
              "#9c179e"
             ],
             [
              0.4444444444444444,
              "#bd3786"
             ],
             [
              0.5555555555555556,
              "#d8576b"
             ],
             [
              0.6666666666666666,
              "#ed7953"
             ],
             [
              0.7777777777777778,
              "#fb9f3a"
             ],
             [
              0.8888888888888888,
              "#fdca26"
             ],
             [
              1,
              "#f0f921"
             ]
            ],
            "type": "histogram2dcontour"
           }
          ],
          "mesh3d": [
           {
            "colorbar": {
             "outlinewidth": 0,
             "ticks": ""
            },
            "type": "mesh3d"
           }
          ],
          "parcoords": [
           {
            "line": {
             "colorbar": {
              "outlinewidth": 0,
              "ticks": ""
             }
            },
            "type": "parcoords"
           }
          ],
          "pie": [
           {
            "automargin": true,
            "type": "pie"
           }
          ],
          "scatter": [
           {
            "fillpattern": {
             "fillmode": "overlay",
             "size": 10,
             "solidity": 0.2
            },
            "type": "scatter"
           }
          ],
          "scatter3d": [
           {
            "line": {
             "colorbar": {
              "outlinewidth": 0,
              "ticks": ""
             }
            },
            "marker": {
             "colorbar": {
              "outlinewidth": 0,
              "ticks": ""
             }
            },
            "type": "scatter3d"
           }
          ],
          "scattercarpet": [
           {
            "marker": {
             "colorbar": {
              "outlinewidth": 0,
              "ticks": ""
             }
            },
            "type": "scattercarpet"
           }
          ],
          "scattergeo": [
           {
            "marker": {
             "colorbar": {
              "outlinewidth": 0,
              "ticks": ""
             }
            },
            "type": "scattergeo"
           }
          ],
          "scattergl": [
           {
            "marker": {
             "colorbar": {
              "outlinewidth": 0,
              "ticks": ""
             }
            },
            "type": "scattergl"
           }
          ],
          "scattermapbox": [
           {
            "marker": {
             "colorbar": {
              "outlinewidth": 0,
              "ticks": ""
             }
            },
            "type": "scattermapbox"
           }
          ],
          "scatterpolar": [
           {
            "marker": {
             "colorbar": {
              "outlinewidth": 0,
              "ticks": ""
             }
            },
            "type": "scatterpolar"
           }
          ],
          "scatterpolargl": [
           {
            "marker": {
             "colorbar": {
              "outlinewidth": 0,
              "ticks": ""
             }
            },
            "type": "scatterpolargl"
           }
          ],
          "scatterternary": [
           {
            "marker": {
             "colorbar": {
              "outlinewidth": 0,
              "ticks": ""
             }
            },
            "type": "scatterternary"
           }
          ],
          "surface": [
           {
            "colorbar": {
             "outlinewidth": 0,
             "ticks": ""
            },
            "colorscale": [
             [
              0,
              "#0d0887"
             ],
             [
              0.1111111111111111,
              "#46039f"
             ],
             [
              0.2222222222222222,
              "#7201a8"
             ],
             [
              0.3333333333333333,
              "#9c179e"
             ],
             [
              0.4444444444444444,
              "#bd3786"
             ],
             [
              0.5555555555555556,
              "#d8576b"
             ],
             [
              0.6666666666666666,
              "#ed7953"
             ],
             [
              0.7777777777777778,
              "#fb9f3a"
             ],
             [
              0.8888888888888888,
              "#fdca26"
             ],
             [
              1,
              "#f0f921"
             ]
            ],
            "type": "surface"
           }
          ],
          "table": [
           {
            "cells": {
             "fill": {
              "color": "#EBF0F8"
             },
             "line": {
              "color": "white"
             }
            },
            "header": {
             "fill": {
              "color": "#C8D4E3"
             },
             "line": {
              "color": "white"
             }
            },
            "type": "table"
           }
          ]
         },
         "layout": {
          "annotationdefaults": {
           "arrowcolor": "#2a3f5f",
           "arrowhead": 0,
           "arrowwidth": 1
          },
          "autotypenumbers": "strict",
          "coloraxis": {
           "colorbar": {
            "outlinewidth": 0,
            "ticks": ""
           }
          },
          "colorscale": {
           "diverging": [
            [
             0,
             "#8e0152"
            ],
            [
             0.1,
             "#c51b7d"
            ],
            [
             0.2,
             "#de77ae"
            ],
            [
             0.3,
             "#f1b6da"
            ],
            [
             0.4,
             "#fde0ef"
            ],
            [
             0.5,
             "#f7f7f7"
            ],
            [
             0.6,
             "#e6f5d0"
            ],
            [
             0.7,
             "#b8e186"
            ],
            [
             0.8,
             "#7fbc41"
            ],
            [
             0.9,
             "#4d9221"
            ],
            [
             1,
             "#276419"
            ]
           ],
           "sequential": [
            [
             0,
             "#0d0887"
            ],
            [
             0.1111111111111111,
             "#46039f"
            ],
            [
             0.2222222222222222,
             "#7201a8"
            ],
            [
             0.3333333333333333,
             "#9c179e"
            ],
            [
             0.4444444444444444,
             "#bd3786"
            ],
            [
             0.5555555555555556,
             "#d8576b"
            ],
            [
             0.6666666666666666,
             "#ed7953"
            ],
            [
             0.7777777777777778,
             "#fb9f3a"
            ],
            [
             0.8888888888888888,
             "#fdca26"
            ],
            [
             1,
             "#f0f921"
            ]
           ],
           "sequentialminus": [
            [
             0,
             "#0d0887"
            ],
            [
             0.1111111111111111,
             "#46039f"
            ],
            [
             0.2222222222222222,
             "#7201a8"
            ],
            [
             0.3333333333333333,
             "#9c179e"
            ],
            [
             0.4444444444444444,
             "#bd3786"
            ],
            [
             0.5555555555555556,
             "#d8576b"
            ],
            [
             0.6666666666666666,
             "#ed7953"
            ],
            [
             0.7777777777777778,
             "#fb9f3a"
            ],
            [
             0.8888888888888888,
             "#fdca26"
            ],
            [
             1,
             "#f0f921"
            ]
           ]
          },
          "colorway": [
           "#636efa",
           "#EF553B",
           "#00cc96",
           "#ab63fa",
           "#FFA15A",
           "#19d3f3",
           "#FF6692",
           "#B6E880",
           "#FF97FF",
           "#FECB52"
          ],
          "font": {
           "color": "#2a3f5f"
          },
          "geo": {
           "bgcolor": "white",
           "lakecolor": "white",
           "landcolor": "#E5ECF6",
           "showlakes": true,
           "showland": true,
           "subunitcolor": "white"
          },
          "hoverlabel": {
           "align": "left"
          },
          "hovermode": "closest",
          "mapbox": {
           "style": "light"
          },
          "paper_bgcolor": "white",
          "plot_bgcolor": "#E5ECF6",
          "polar": {
           "angularaxis": {
            "gridcolor": "white",
            "linecolor": "white",
            "ticks": ""
           },
           "bgcolor": "#E5ECF6",
           "radialaxis": {
            "gridcolor": "white",
            "linecolor": "white",
            "ticks": ""
           }
          },
          "scene": {
           "xaxis": {
            "backgroundcolor": "#E5ECF6",
            "gridcolor": "white",
            "gridwidth": 2,
            "linecolor": "white",
            "showbackground": true,
            "ticks": "",
            "zerolinecolor": "white"
           },
           "yaxis": {
            "backgroundcolor": "#E5ECF6",
            "gridcolor": "white",
            "gridwidth": 2,
            "linecolor": "white",
            "showbackground": true,
            "ticks": "",
            "zerolinecolor": "white"
           },
           "zaxis": {
            "backgroundcolor": "#E5ECF6",
            "gridcolor": "white",
            "gridwidth": 2,
            "linecolor": "white",
            "showbackground": true,
            "ticks": "",
            "zerolinecolor": "white"
           }
          },
          "shapedefaults": {
           "line": {
            "color": "#2a3f5f"
           }
          },
          "ternary": {
           "aaxis": {
            "gridcolor": "white",
            "linecolor": "white",
            "ticks": ""
           },
           "baxis": {
            "gridcolor": "white",
            "linecolor": "white",
            "ticks": ""
           },
           "bgcolor": "#E5ECF6",
           "caxis": {
            "gridcolor": "white",
            "linecolor": "white",
            "ticks": ""
           }
          },
          "title": {
           "x": 0.05
          },
          "xaxis": {
           "automargin": true,
           "gridcolor": "white",
           "linecolor": "white",
           "ticks": "",
           "title": {
            "standoff": 15
           },
           "zerolinecolor": "white",
           "zerolinewidth": 2
          },
          "yaxis": {
           "automargin": true,
           "gridcolor": "white",
           "linecolor": "white",
           "ticks": "",
           "title": {
            "standoff": 15
           },
           "zerolinecolor": "white",
           "zerolinewidth": 2
          }
         }
        },
        "title": {
         "font": {
          "size": 16
         },
         "text": "<br>Word Net Classic NB"
        },
        "xaxis": {
         "showgrid": false,
         "showticklabels": false,
         "zeroline": false
        },
        "yaxis": {
         "showgrid": false,
         "showticklabels": false,
         "zeroline": false
        }
       }
      }
     },
     "metadata": {},
     "output_type": "display_data"
    }
   ],
   "source": [
    "fig = go.Figure(data=[edge_trace, node_trace],\n",
    "             layout=go.Layout(\n",
    "                title='<br>Word Net Classic NB',\n",
    "                titlefont_size=16,\n",
    "                showlegend=False,\n",
    "                hovermode='closest',\n",
    "                margin=dict(b=20,l=5,r=5,t=40),\n",
    "                annotations=[ dict(\n",
    "                    showarrow=False,\n",
    "                    xref=\"paper\", yref=\"paper\",\n",
    "                    x=0.005, y=-0.002 ) ],\n",
    "                xaxis=dict(showgrid=False, zeroline=False, showticklabels=False),\n",
    "                yaxis=dict(showgrid=False, zeroline=False, showticklabels=False))\n",
    "                )\n",
    "fig.show()\n"
   ]
  },
  {
   "cell_type": "code",
   "execution_count": null,
   "metadata": {},
   "outputs": [],
   "source": []
  },
  {
   "cell_type": "code",
   "execution_count": null,
   "metadata": {},
   "outputs": [],
   "source": []
  },
  {
   "cell_type": "code",
   "execution_count": null,
   "metadata": {},
   "outputs": [],
   "source": []
  }
 ],
 "metadata": {
  "kernelspec": {
   "display_name": "Python 3.10.4 ('roma')",
   "language": "python",
   "name": "python3"
  },
  "language_info": {
   "codemirror_mode": {
    "name": "ipython",
    "version": 3
   },
   "file_extension": ".py",
   "mimetype": "text/x-python",
   "name": "python",
   "nbconvert_exporter": "python",
   "pygments_lexer": "ipython3",
   "version": "3.10.8"
  },
  "orig_nbformat": 4,
  "vscode": {
   "interpreter": {
    "hash": "f0c636f18f7f8c5478a95196d5e93a56c7b8920526e8f2ff7a16679c1cc37438"
   }
  }
 },
 "nbformat": 4,
 "nbformat_minor": 2
}
