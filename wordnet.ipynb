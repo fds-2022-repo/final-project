{
 "cells": [
  {
   "attachments": {},
   "cell_type": "markdown",
   "metadata": {},
   "source": [
    "# FDS Final Project\n",
    "Ima drop some template here for easy implementation"
   ]
  },
  {
   "cell_type": "code",
   "execution_count": 1,
   "metadata": {},
   "outputs": [],
   "source": [
    "import pandas as pd\n",
    "import numpy as np\n",
    "\n",
    "import pickle\n",
    "import time\n",
    "\n",
    "# surpess warnings\n",
    "import warnings\n",
    "warnings.filterwarnings('ignore')\n",
    "\n",
    "import matplotlib.pyplot as plt"
   ]
  },
  {
   "cell_type": "code",
   "execution_count": 17,
   "metadata": {},
   "outputs": [
    {
     "data": {
      "text/html": [
       "<div>\n",
       "<style scoped>\n",
       "    .dataframe tbody tr th:only-of-type {\n",
       "        vertical-align: middle;\n",
       "    }\n",
       "\n",
       "    .dataframe tbody tr th {\n",
       "        vertical-align: top;\n",
       "    }\n",
       "\n",
       "    .dataframe thead th {\n",
       "        text-align: right;\n",
       "    }\n",
       "</style>\n",
       "<table border=\"1\" class=\"dataframe\">\n",
       "  <thead>\n",
       "    <tr style=\"text-align: right;\">\n",
       "      <th></th>\n",
       "      <th>text</th>\n",
       "      <th>label</th>\n",
       "    </tr>\n",
       "  </thead>\n",
       "  <tbody>\n",
       "    <tr>\n",
       "      <th>0</th>\n",
       "      <td>Health experts said it is too early to predict...</td>\n",
       "      <td>U.S. NEWS</td>\n",
       "    </tr>\n",
       "  </tbody>\n",
       "</table>\n",
       "</div>"
      ],
      "text/plain": [
       "                                                text      label\n",
       "0  Health experts said it is too early to predict...  U.S. NEWS"
      ]
     },
     "execution_count": 17,
     "metadata": {},
     "output_type": "execute_result"
    }
   ],
   "source": [
    "# Dataset 1 from Huffington Post\n",
    "huffpost = pd.read_json('data/huff_post.json', lines=True).dropna().reset_index()\n",
    "huffpost = huffpost[['short_description', 'category']]\n",
    "huffpost.columns = ['text', 'label']\n",
    "huffpost.head(1)"
   ]
  },
  {
   "cell_type": "code",
   "execution_count": 16,
   "metadata": {},
   "outputs": [
    {
     "data": {
      "text/html": [
       "<div>\n",
       "<style scoped>\n",
       "    .dataframe tbody tr th:only-of-type {\n",
       "        vertical-align: middle;\n",
       "    }\n",
       "\n",
       "    .dataframe tbody tr th {\n",
       "        vertical-align: top;\n",
       "    }\n",
       "\n",
       "    .dataframe thead th {\n",
       "        text-align: right;\n",
       "    }\n",
       "</style>\n",
       "<table border=\"1\" class=\"dataframe\">\n",
       "  <thead>\n",
       "    <tr style=\"text-align: right;\">\n",
       "      <th></th>\n",
       "      <th>text</th>\n",
       "      <th>label</th>\n",
       "    </tr>\n",
       "  </thead>\n",
       "  <tbody>\n",
       "    <tr>\n",
       "      <th>0</th>\n",
       "      <td>Durante el foro La banca articulador empresari...</td>\n",
       "      <td>Otra</td>\n",
       "    </tr>\n",
       "  </tbody>\n",
       "</table>\n",
       "</div>"
      ],
      "text/plain": [
       "                                                text label\n",
       "0  Durante el foro La banca articulador empresari...  Otra"
      ]
     },
     "execution_count": 16,
     "metadata": {},
     "output_type": "execute_result"
    }
   ],
   "source": [
    "# Dataset 2 from Bancolombia\n",
    "bancolombia = pd.read_csv('data/bancolombia.csv').dropna().reset_index()\n",
    "bancolombia = bancolombia[['news', 'Type']]\n",
    "bancolombia.columns = ['text', 'label']\n",
    "bancolombia.head(1)"
   ]
  },
  {
   "cell_type": "code",
   "execution_count": 5,
   "metadata": {},
   "outputs": [
    {
     "data": {
      "text/html": [
       "<div>\n",
       "<style scoped>\n",
       "    .dataframe tbody tr th:only-of-type {\n",
       "        vertical-align: middle;\n",
       "    }\n",
       "\n",
       "    .dataframe tbody tr th {\n",
       "        vertical-align: top;\n",
       "    }\n",
       "\n",
       "    .dataframe thead th {\n",
       "        text-align: right;\n",
       "    }\n",
       "</style>\n",
       "<table border=\"1\" class=\"dataframe\">\n",
       "  <thead>\n",
       "    <tr style=\"text-align: right;\">\n",
       "      <th></th>\n",
       "      <th>text</th>\n",
       "      <th>label</th>\n",
       "    </tr>\n",
       "  </thead>\n",
       "  <tbody>\n",
       "    <tr>\n",
       "      <th>0</th>\n",
       "      <td>DA BBC BRASIL  O trimestre de maio a julho des...</td>\n",
       "      <td>sobretudo</td>\n",
       "    </tr>\n",
       "  </tbody>\n",
       "</table>\n",
       "</div>"
      ],
      "text/plain": [
       "                                                text      label\n",
       "0  DA BBC BRASIL  O trimestre de maio a julho des...  sobretudo"
      ]
     },
     "execution_count": 5,
     "metadata": {},
     "output_type": "execute_result"
    }
   ],
   "source": [
    "# Dataset 3 from Folha de Sao Paulo\n",
    "folha = pd.read_csv('data/folha.csv').dropna().reset_index()\n",
    "folha = folha[['text', 'category']]\n",
    "folha.columns = ['text', 'label']\n",
    "folha.head(1)"
   ]
  },
  {
   "cell_type": "code",
   "execution_count": 6,
   "metadata": {},
   "outputs": [
    {
     "data": {
      "text/html": [
       "<div>\n",
       "<style scoped>\n",
       "    .dataframe tbody tr th:only-of-type {\n",
       "        vertical-align: middle;\n",
       "    }\n",
       "\n",
       "    .dataframe tbody tr th {\n",
       "        vertical-align: top;\n",
       "    }\n",
       "\n",
       "    .dataframe thead th {\n",
       "        text-align: right;\n",
       "    }\n",
       "</style>\n",
       "<table border=\"1\" class=\"dataframe\">\n",
       "  <thead>\n",
       "    <tr style=\"text-align: right;\">\n",
       "      <th></th>\n",
       "      <th>text</th>\n",
       "      <th>label</th>\n",
       "    </tr>\n",
       "  </thead>\n",
       "  <tbody>\n",
       "    <tr>\n",
       "      <th>0</th>\n",
       "      <td>Quarterly profits at US media giant TimeWarner...</td>\n",
       "      <td>business</td>\n",
       "    </tr>\n",
       "  </tbody>\n",
       "</table>\n",
       "</div>"
      ],
      "text/plain": [
       "                                                text     label\n",
       "0  Quarterly profits at US media giant TimeWarner...  business"
      ]
     },
     "execution_count": 6,
     "metadata": {},
     "output_type": "execute_result"
    }
   ],
   "source": [
    "# Dataset 4 from BBC, no null values\n",
    "bbc = pd.read_csv('data/bbc.csv').dropna().reset_index()\n",
    "bbc = bbc[['content', 'category']]\n",
    "bbc.columns = ['text', 'label']\n",
    "bbc.head(1)"
   ]
  },
  {
   "cell_type": "code",
   "execution_count": 7,
   "metadata": {},
   "outputs": [
    {
     "data": {
      "text/html": [
       "<div>\n",
       "<style scoped>\n",
       "    .dataframe tbody tr th:only-of-type {\n",
       "        vertical-align: middle;\n",
       "    }\n",
       "\n",
       "    .dataframe tbody tr th {\n",
       "        vertical-align: top;\n",
       "    }\n",
       "\n",
       "    .dataframe thead th {\n",
       "        text-align: right;\n",
       "    }\n",
       "</style>\n",
       "<table border=\"1\" class=\"dataframe\">\n",
       "  <thead>\n",
       "    <tr style=\"text-align: right;\">\n",
       "      <th></th>\n",
       "      <th>text</th>\n",
       "      <th>label</th>\n",
       "    </tr>\n",
       "  </thead>\n",
       "  <tbody>\n",
       "    <tr>\n",
       "      <th>0</th>\n",
       "      <td>De enige kerncentrale van Litouwen is oudjaars...</td>\n",
       "      <td>Buitenland</td>\n",
       "    </tr>\n",
       "  </tbody>\n",
       "</table>\n",
       "</div>"
      ],
      "text/plain": [
       "                                                text       label\n",
       "0  De enige kerncentrale van Litouwen is oudjaars...  Buitenland"
      ]
     },
     "execution_count": 7,
     "metadata": {},
     "output_type": "execute_result"
    }
   ],
   "source": [
    "# Dataset 4 from NOS, no null values\n",
    "nos = pd.read_csv('data/nos.csv').dropna().reset_index()\n",
    "nos = nos[['content', 'category']]\n",
    "nos.columns = ['text', 'label']\n",
    "nos.head(1)"
   ]
  },
  {
   "cell_type": "code",
   "execution_count": 8,
   "metadata": {},
   "outputs": [
    {
     "data": {
      "text/html": [
       "<div>\n",
       "<style scoped>\n",
       "    .dataframe tbody tr th:only-of-type {\n",
       "        vertical-align: middle;\n",
       "    }\n",
       "\n",
       "    .dataframe tbody tr th {\n",
       "        vertical-align: top;\n",
       "    }\n",
       "\n",
       "    .dataframe thead th {\n",
       "        text-align: right;\n",
       "    }\n",
       "</style>\n",
       "<table border=\"1\" class=\"dataframe\">\n",
       "  <thead>\n",
       "    <tr style=\"text-align: right;\">\n",
       "      <th></th>\n",
       "      <th>text</th>\n",
       "      <th>label</th>\n",
       "    </tr>\n",
       "  </thead>\n",
       "  <tbody>\n",
       "    <tr>\n",
       "      <th>0</th>\n",
       "      <td>5 Best Practices For Writing SQL Joins</td>\n",
       "      <td>easy</td>\n",
       "    </tr>\n",
       "  </tbody>\n",
       "</table>\n",
       "</div>"
      ],
      "text/plain": [
       "                                     text label\n",
       "0  5 Best Practices For Writing SQL Joins  easy"
      ]
     },
     "execution_count": 8,
     "metadata": {},
     "output_type": "execute_result"
    }
   ],
   "source": [
    "# Dataset 5 from Geeks4Geeks, no null values\n",
    "geeks4geeks = pd.read_csv('data/geeks4geeks.csv').dropna().reset_index()\n",
    "geeks4geeks = geeks4geeks[['title', 'category']]\n",
    "geeks4geeks.columns = ['text', 'label']\n",
    "geeks4geeks.head(1)"
   ]
  },
  {
   "cell_type": "code",
   "execution_count": 20,
   "metadata": {},
   "outputs": [],
   "source": [
    "# Now we put the datasets in a list\n",
    "datasets = [huffpost, bancolombia, folha, bbc, nos, geeks4geeks]\n",
    "dataset_names = ['huffpost', 'bancolombia', 'folha', 'bbc', 'nos', 'geeks4geeks']\n",
    "dataset_names = ['Huffington Post', 'Bancolombia', 'Folha de Sao Paolo', 'BBC', 'NOS', 'Geeks4Geeks']"
   ]
  },
  {
   "cell_type": "code",
   "execution_count": null,
   "metadata": {},
   "outputs": [],
   "source": []
  },
  {
   "cell_type": "code",
   "execution_count": null,
   "metadata": {},
   "outputs": [],
   "source": []
  },
  {
   "cell_type": "code",
   "execution_count": 13,
   "metadata": {},
   "outputs": [],
   "source": [
    "# we will import Naive Bayes, softmax classifier, and svm\n",
    "from sklearn.naive_bayes import MultinomialNB"
   ]
  },
  {
   "cell_type": "code",
   "execution_count": 36,
   "metadata": {},
   "outputs": [],
   "source": [
    "# we will import CountVectorizer to vectorize our text\n",
    "from sklearn.feature_extraction.text import CountVectorizer\n",
    "\n",
    "# we will import train_test_split to split our data\n",
    "from sklearn.model_selection import train_test_split\n",
    "\n",
    "from sklearn.preprocessing import LabelEncoder"
   ]
  },
  {
   "cell_type": "code",
   "execution_count": null,
   "metadata": {},
   "outputs": [],
   "source": []
  },
  {
   "cell_type": "code",
   "execution_count": 27,
   "metadata": {},
   "outputs": [],
   "source": [
    "# \n",
    "def get_data(df, info, type, lang = None, min_df=1, max_df=1.0, ng_range=(1, 1), ret_only_X = False): # name of info , type column, language as in stopwords_files\n",
    "    \n",
    "    stopwords = lang\n",
    "    if stopwords != None:\n",
    "        with open(f'stopwords/{lang}', 'rb') as f:\n",
    "            stopwords = pickle.load(f)\n",
    "        \n",
    "    vectorizer = CountVectorizer(min_df=min_df, stop_words=stopwords, max_df=max_df, ngram_range=ng_range)\n",
    "    X = vectorizer.fit_transform(df[f'{info}'])\n",
    "    if ret_only_X:\n",
    "        return X\n",
    "\n",
    "    # train test split\n",
    "    X_train, X_test, y_train, y_test = train_test_split(X, df[f'{type}'], test_size=0.2, random_state=42)\n",
    "    X_train.shape, X_test.shape, y_train.shape, y_test.shape\n",
    "    return X_train, X_test, y_train, y_test, vectorizer, X"
   ]
  },
  {
   "cell_type": "code",
   "execution_count": null,
   "metadata": {},
   "outputs": [],
   "source": []
  },
  {
   "cell_type": "code",
   "execution_count": 16,
   "metadata": {},
   "outputs": [],
   "source": [
    "'''\n",
    "losses = ['hinge', 'log', 'modified_huber', 'squared_hinge', 'perceptron', 'squared_error']\n",
    "\n",
    "def plot_perf(classif_perf):\n",
    "    fig, ax = plt.subplots(1,3, figsize=(12,4))\n",
    "    for i,n in enumerate(['t', 'train_acc', 'test_acc']):  \n",
    "        ax[i].plot(np.arange(1, 9, 1), classif_perf[:,:,i], label = losses)\n",
    "        ax[i].set_title(n)\n",
    "        ax[i].legend()#bbox_to_anchor=(1,1), loc='upper left')\n",
    "    fig.tight_layout()\n",
    "'''\n",
    "\n",
    "'''\n",
    "def score_single_clf(classifiers, i, data):\n",
    "    X_train, X_test, y_train, y_test = data\n",
    "    clf = classifiers[i]\n",
    "\n",
    "    start = time.time()\n",
    "    clf.fit(X_train, y_train)\n",
    "    end = time.time()\n",
    "    print(f'Classifier:\\t\\t {classifier_names[i]}')\n",
    "    print(f'Training time:\\t\\t {end - start:.3f} seconds')\n",
    "    print(f'Training data accuracy:\\t {clf.score(X_train, y_train):.3f}')\n",
    "    print(f'Test data accuracy:\\t {clf.score(X_test, y_test):.3f}')\n",
    "    print()\n",
    "'''"
   ]
  },
  {
   "cell_type": "code",
   "execution_count": null,
   "metadata": {},
   "outputs": [],
   "source": []
  },
  {
   "cell_type": "code",
   "execution_count": 86,
   "metadata": {},
   "outputs": [],
   "source": [
    "X_train, X_test, y_train, y_test, vectorizer, X = get_data(geeks4geeks, 'text', 'label', 'english', ret_only_X = False)\n",
    "\n",
    "clfnb = MultinomialNB()\n",
    "\n",
    "start = time.time()\n",
    "clfnb.fit(X_train, y_train)\n",
    "end = time.time()\n",
    "\n",
    "out = [round(end - start, 3), round(clfnb.score(X_train, y_train), 3), round(clfnb.score(X_test, y_test), 3)]"
   ]
  },
  {
   "cell_type": "code",
   "execution_count": null,
   "metadata": {},
   "outputs": [],
   "source": []
  },
  {
   "cell_type": "code",
   "execution_count": 87,
   "metadata": {},
   "outputs": [
    {
     "data": {
      "text/plain": [
       "\"\\ndef clf_diff_parms(classifiers, data):\\n    X_train, X_test, y_train, y_test = data\\n    \\n    losses = ['hinge', 'log', 'modified_huber', 'squared_hinge', 'perceptron', 'squared_error']\\n    classif_perf = np.zeros((8, 6, 3))\\n    \\n    for j in range(len(losses)):\\n        for i in np.arange(1,9,1):\\n            clf = SGDClassifier(loss = losses[j], alpha=i*0.0001)\\n\\n            start = time.time()\\n            clf.fit(X_train, y_train)\\n            end = time.time()\\n\\n            classif_perf[i-1, j] = [round(end - start, 3), round(clf.score(X_train, y_train), 3), round(clf.score(X_test, y_test), 3)]\\n    return classif_perf\\n\""
      ]
     },
     "execution_count": 87,
     "metadata": {},
     "output_type": "execute_result"
    }
   ],
   "source": [
    "'''\n",
    "def clf_diff_parms(classifiers, data):\n",
    "    X_train, X_test, y_train, y_test = data\n",
    "    \n",
    "    losses = ['hinge', 'log', 'modified_huber', 'squared_hinge', 'perceptron', 'squared_error']\n",
    "    classif_perf = np.zeros((8, 6, 3))\n",
    "    \n",
    "    for j in range(len(losses)):\n",
    "        for i in np.arange(1,9,1):\n",
    "            clf = SGDClassifier(loss = losses[j], alpha=i*0.0001)\n",
    "\n",
    "            start = time.time()\n",
    "            clf.fit(X_train, y_train)\n",
    "            end = time.time()\n",
    "\n",
    "            classif_perf[i-1, j] = [round(end - start, 3), round(clf.score(X_train, y_train), 3), round(clf.score(X_test, y_test), 3)]\n",
    "    return classif_perf\n",
    "'''\n"
   ]
  },
  {
   "cell_type": "code",
   "execution_count": 88,
   "metadata": {},
   "outputs": [],
   "source": [
    "nb_words = {}\n",
    "ids = [j for j in clfnb.feature_log_prob_.argsort(axis = 1)[:, -10:]]\n",
    "for i, name in enumerate(clfnb.classes_):\n",
    "    words = [vectorizer.get_feature_names()[j] for j in ids[i]]\n",
    "    nb_words[name] = words"
   ]
  },
  {
   "cell_type": "code",
   "execution_count": 122,
   "metadata": {},
   "outputs": [],
   "source": [
    "import networkx as nx\n",
    "\n",
    "n = nx.Graph()\n",
    "n.add_nodes_from(list(nb_words.keys())) # adding classes names\n",
    "n_classes = len(n.nodes())\n",
    "nx.set_node_attributes(n, 'class', 'type') # setting attribute type as class\n",
    "\n",
    "\n",
    "main_w = set([w for l in list(nb_words.values()) for w in l]) # set of list(most freq words)\n",
    "# from 420 to 416\n",
    "\n",
    "word_freq = np.array(X.sum(axis = 0)) \n",
    "words_sum = X.sum() \n",
    "main_w_freq_id = [vectorizer.vocabulary_[w] for w in list(main_w)] # get index\n",
    "main_w_freq = [word_freq[0][i] for i in main_w_freq_id] # get freq of most freq words\n",
    "\n",
    "d_f_nodes = [(list(main_w)[i], {'type' : 'words', 'freq' : main_w_freq[i]}) for i in range(len(main_w))] # df containing text words with freq attribute\n",
    "n.add_nodes_from(d_f_nodes)"
   ]
  },
  {
   "cell_type": "code",
   "execution_count": 123,
   "metadata": {},
   "outputs": [],
   "source": [
    "# it isn't actually word freq, but count, other scaling didn't work with dot size"
   ]
  },
  {
   "cell_type": "code",
   "execution_count": 124,
   "metadata": {},
   "outputs": [],
   "source": [
    "edges = [(key, el) for key in list(nb_words.keys()) for el in nb_words[key]]\n",
    "n.add_edges_from(edges)"
   ]
  },
  {
   "cell_type": "code",
   "execution_count": 125,
   "metadata": {},
   "outputs": [],
   "source": [
    "node_type = nx.get_node_attributes(n, 'type')\n",
    "node_freq = nx.get_node_attributes(n, 'freq')"
   ]
  },
  {
   "cell_type": "code",
   "execution_count": 127,
   "metadata": {},
   "outputs": [
    {
     "data": {
      "image/png": "[encoded data removed]",
      "text/plain": [
       "<Figure size 640x480 with 1 Axes>"
      ]
     },
     "metadata": {},
     "output_type": "display_data"
    }
   ],
   "source": [
    "# plotting with nx\n",
    "le = LabelEncoder()\n",
    "nx.draw(n, node_color=le.fit_transform(list(node_type.values()) ) )"
   ]
  },
  {
   "cell_type": "code",
   "execution_count": 169,
   "metadata": {},
   "outputs": [],
   "source": [
    "import plotly.graph_objects as go"
   ]
  },
  {
   "cell_type": "code",
   "execution_count": 190,
   "metadata": {},
   "outputs": [],
   "source": [
    "\n",
    "pos = nx.spring_layout(n) # some formula calc positional layout i guess most ideal for plotting\n",
    "nx.set_node_attributes(n, pos, name = 'pos')\n",
    "\n",
    "edge_x = []\n",
    "edge_y = []\n",
    "for edge in n.edges():\n",
    "    x0, y0 = n.nodes[edge[0]]['pos']\n",
    "    x1, y1 = n.nodes[edge[1]]['pos']\n",
    "    edge_x.append(x0)\n",
    "    edge_x.append(x1)\n",
    "    edge_x.append(None)\n",
    "    edge_y.append(y0)\n",
    "    edge_y.append(y1)\n",
    "    edge_y.append(None)\n",
    "\n",
    "edge_trace = go.Scatter(\n",
    "    x=edge_x, y=edge_y,\n",
    "    line=dict(width=0.5, color='#888'),\n",
    "    hoverinfo='none',\n",
    "    mode='lines')\n",
    "\n",
    "node_x = []\n",
    "node_y = []\n",
    "for node in n.nodes():\n",
    "    x, y = n.nodes[node]['pos']\n",
    "    node_x.append(x)\n",
    "    node_y.append(y)\n",
    "\n",
    "node_trace = go.Scatter(\n",
    "    x=node_x, y=node_y,\n",
    "    mode='markers+text',\n",
    "    hoverinfo='text',\n",
    "    marker=dict(\n",
    "        showscale=True,\n",
    "        # colorscale options\n",
    "        #'Reds' | 'Blues' | 'Picnic' | 'Rainbow' | 'Portland' | 'Jet' |\n",
    "        #'Hot' | 'Blackbody' | 'Earth' | 'Electric' | 'Viridis' |\n",
    "        colorscale='Blackbody',\n",
    "        reversescale=True,\n",
    "        color=[],\n",
    "        size=10,\n",
    "        colorbar=dict(\n",
    "            thickness=15,\n",
    "            title='Word Count',\n",
    "            xanchor='left',\n",
    "            titleside='right'\n",
    "        ),\n",
    "        line_width=2))"
   ]
  },
  {
   "cell_type": "code",
   "execution_count": 182,
   "metadata": {},
   "outputs": [],
   "source": [
    "# these first size values are for plotting\n",
    "\n",
    "m = np.array([20 for i in range(n_classes)]) # setting const freq for class words\n",
    "w = np.power(np.array(list(node_freq.values()))/14369*1 , -1)*3 # inverse word freq and some scaling for how distinct word is for class\n",
    "sizes = np.concatenate((m,w), axis = 0) \n",
    "\n",
    "# these are the actual frequencies of the terms\n",
    "freq = [1 for i in range(n_classes)]+(list(node_freq.values()))"
   ]
  },
  {
   "cell_type": "code",
   "execution_count": 191,
   "metadata": {},
   "outputs": [],
   "source": [
    "le = LabelEncoder()\n",
    "#node_trace.marker.color = le.fit_transform(list(node_type.values()))\n",
    "node_trace.marker.color = freq\n",
    "node_trace.marker.size =  sizes\n",
    "\n",
    "hoverinfo = []\n",
    "nnames = list(n.nodes())\n",
    "for node, adjacencies in enumerate(n.adjacency()):\n",
    "    hoverinfo.append(str(nnames[node]) + ' \\n Term Count: '+ str(freq[node]) + ' \\n # of connections: '+str(len(adjacencies[1])))\n",
    "\n",
    "#node_trace.text = hoverinfo\n",
    "node_trace.text = list(n.nodes())"
   ]
  },
  {
   "cell_type": "code",
   "execution_count": 192,
   "metadata": {},
   "outputs": [
    {
     "data": {
      "application/vnd.plotly.v1+json": {
       "config": {
        "plotlyServerURL": "https://plot.ly"
       },
       "data": [
        {
         "hoverinfo": "none",
         "line": {
          "color": "#888",
          "width": 0.5
         },
         "mode": "lines",
         "type": "scatter",
         "x": [
          0.1450197865814861,
          0.2576712214084463,
          null,
          0.1450197865814861,
          0.08740336628496684,
          null,
          0.1450197865814861,
          -0.109790015677806,
          null,
          0.1450197865814861,
          0.24125833522568413,
          null,
          0.1450197865814861,
          0.4103809565987477,
          null,
          0.1450197865814861,
          0.41201580824784273,
          null,
          0.1450197865814861,
          -0.1847486373941638,
          null,
          0.1450197865814861,
          0.00248216201695245,
          null,
          0.1450197865814861,
          0.4222383604996079,
          null,
          0.1450197865814861,
          -0.27176111726810964,
          null,
          0.05510104344164999,
          0.4103809565987477,
          null,
          0.05510104344164999,
          -0.21200812632304258,
          null,
          0.05510104344164999,
          0.24125833522568413,
          null,
          0.05510104344164999,
          0.4222383604996079,
          null,
          0.05510104344164999,
          0.2576712214084463,
          null,
          0.05510104344164999,
          -0.1847486373941638,
          null,
          0.05510104344164999,
          -0.27176111726810964,
          null,
          0.05510104344164999,
          -0.38307118221371,
          null,
          0.05510104344164999,
          0.08740336628496684,
          null,
          0.05510104344164999,
          -0.109790015677806,
          null,
          -0.04620328212177012,
          0.06392878283547794,
          null,
          -0.04620328212177012,
          0.4103809565987477,
          null,
          -0.04620328212177012,
          -0.21200812632304258,
          null,
          -0.04620328212177012,
          -0.1847486373941638,
          null,
          -0.04620328212177012,
          -0.109790015677806,
          null,
          -0.04620328212177012,
          -0.38307118221371,
          null,
          -0.04620328212177012,
          0.03317491674626183,
          null,
          -0.04620328212177012,
          0.08740336628496684,
          null,
          -0.04620328212177012,
          -0.27176111726810964,
          null,
          -0.04620328212177012,
          0.24125833522568413,
          null,
          0.0876924599629917,
          0.2576712214084463,
          null,
          0.0876924599629917,
          0.4103809565987477,
          null,
          0.0876924599629917,
          -0.1847486373941638,
          null,
          0.0876924599629917,
          0.03317491674626183,
          null,
          0.0876924599629917,
          -0.21200812632304258,
          null,
          0.0876924599629917,
          0.24125833522568413,
          null,
          0.0876924599629917,
          0.06392878283547794,
          null,
          0.0876924599629917,
          -0.109790015677806,
          null,
          0.0876924599629917,
          -0.38307118221371,
          null,
          0.0876924599629917,
          0.08740336628496684,
          null,
          -0.2203411359734637,
          -0.7904437028780482,
          null,
          -0.2203411359734637,
          -0.27176111726810964,
          null,
          -0.2203411359734637,
          -0.1847486373941638,
          null,
          -0.2203411359734637,
          0.2576712214084463,
          null,
          -0.2203411359734637,
          -0.21200812632304258,
          null,
          -0.2203411359734637,
          0.24125833522568413,
          null,
          -0.2203411359734637,
          0.06392878283547794,
          null,
          -0.2203411359734637,
          -0.109790015677806,
          null,
          -0.2203411359734637,
          -0.38307118221371,
          null,
          -0.2203411359734637,
          0.08740336628496684,
          null
         ],
         "y": [
          0.40615763616651007,
          0.10910837487660875,
          null,
          0.40615763616651007,
          -0.04946269648769663,
          null,
          0.40615763616651007,
          0.11900353846853304,
          null,
          0.40615763616651007,
          -0.12215017847209404,
          null,
          0.40615763616651007,
          -0.0330223437109298,
          null,
          0.40615763616651007,
          0.9702902936621106,
          null,
          0.40615763616651007,
          0.0038596263641327497,
          null,
          0.40615763616651007,
          1,
          null,
          0.40615763616651007,
          0.5623172547313586,
          null,
          0.40615763616651007,
          0.22919317317878438,
          null,
          0.11315696301520195,
          -0.0330223437109298,
          null,
          0.11315696301520195,
          -0.44675296033057194,
          null,
          0.11315696301520195,
          -0.12215017847209404,
          null,
          0.11315696301520195,
          0.5623172547313586,
          null,
          0.11315696301520195,
          0.10910837487660875,
          null,
          0.11315696301520195,
          0.0038596263641327497,
          null,
          0.11315696301520195,
          0.22919317317878438,
          null,
          0.11315696301520195,
          -0.11136756408603371,
          null,
          0.11315696301520195,
          -0.04946269648769663,
          null,
          0.11315696301520195,
          0.11900353846853304,
          null,
          -0.2691947824676801,
          -0.6220377696167555,
          null,
          -0.2691947824676801,
          -0.0330223437109298,
          null,
          -0.2691947824676801,
          -0.44675296033057194,
          null,
          -0.2691947824676801,
          0.0038596263641327497,
          null,
          -0.2691947824676801,
          0.11900353846853304,
          null,
          -0.2691947824676801,
          -0.11136756408603371,
          null,
          -0.2691947824676801,
          -0.8129589977908669,
          null,
          -0.2691947824676801,
          -0.04946269648769663,
          null,
          -0.2691947824676801,
          0.22919317317878438,
          null,
          -0.2691947824676801,
          -0.12215017847209404,
          null,
          -0.3003088001761263,
          0.10910837487660875,
          null,
          -0.3003088001761263,
          -0.0330223437109298,
          null,
          -0.3003088001761263,
          0.0038596263641327497,
          null,
          -0.3003088001761263,
          -0.8129589977908669,
          null,
          -0.3003088001761263,
          -0.44675296033057194,
          null,
          -0.3003088001761263,
          -0.12215017847209404,
          null,
          -0.3003088001761263,
          -0.6220377696167555,
          null,
          -0.3003088001761263,
          0.11900353846853304,
          null,
          -0.3003088001761263,
          -0.11136756408603371,
          null,
          -0.3003088001761263,
          -0.04946269648769663,
          null,
          -0.21828663191304298,
          -0.5275441354114431,
          null,
          -0.21828663191304298,
          0.22919317317878438,
          null,
          -0.21828663191304298,
          0.0038596263641327497,
          null,
          -0.21828663191304298,
          0.10910837487660875,
          null,
          -0.21828663191304298,
          -0.44675296033057194,
          null,
          -0.21828663191304298,
          -0.12215017847209404,
          null,
          -0.21828663191304298,
          -0.6220377696167555,
          null,
          -0.21828663191304298,
          0.11900353846853304,
          null,
          -0.21828663191304298,
          -0.11136756408603371,
          null,
          -0.21828663191304298,
          -0.04946269648769663,
          null
         ]
        },
        {
         "hoverinfo": "text",
         "marker": {
          "color": [
           1,
           1,
           1,
           1,
           1,
           4341,
           1597,
           837,
           1836,
           2369,
           3531,
           2146,
           2427,
           2168,
           1781,
           2043,
           1447,
           2851,
           2574,
           3938
          ],
          "colorbar": {
           "thickness": 15,
           "title": {
            "side": "right",
            "text": "Word Count"
           },
           "xanchor": "left"
          },
          "colorscale": [
           [
            0,
            "rgb(0,0,0)"
           ],
           [
            0.25,
            "rgb(230,0,0)"
           ],
           [
            0.5,
            "rgb(230,210,0)"
           ],
           [
            0.75,
            "rgb(255,255,255)"
           ],
           [
            1,
            "rgb(160,200,255)"
           ]
          ],
          "line": {
           "width": 2
          },
          "reversescale": true,
          "showscale": true,
          "size": [
           20,
           20,
           20,
           20,
           20,
           9.930200414651,
           26.99248591108328,
           51.50179211469535,
           23.478758169934636,
           18.196285352469395,
           12.208156329651658,
           20.08713886300093,
           17.76143386897404,
           19.88330258302583,
           24.20381807973049,
           21.099853157121878,
           29.790601243953006,
           15.119957909505437,
           16.747086247086248,
           10.946419502285426
          ]
         },
         "mode": "markers+text",
         "text": [
          "basic",
          "easy",
          "expert",
          "hard",
          "medium",
          "interview",
          "sum",
          "html",
          "question",
          "campus",
          "set",
          "number",
          "array",
          "given",
          "gate",
          "java",
          "program",
          "python",
          "using",
          "experience"
         ],
         "type": "scatter",
         "x": [
          0.1450197865814861,
          0.05510104344164999,
          -0.04620328212177012,
          0.0876924599629917,
          -0.2203411359734637,
          0.08740336628496684,
          -0.7904437028780482,
          0.00248216201695245,
          0.4103809565987477,
          0.06392878283547794,
          -0.109790015677806,
          0.2576712214084463,
          -0.1847486373941638,
          -0.21200812632304258,
          0.03317491674626183,
          0.4222383604996079,
          0.41201580824784273,
          -0.27176111726810964,
          0.24125833522568413,
          -0.38307118221371
         ],
         "y": [
          0.40615763616651007,
          0.11315696301520195,
          -0.2691947824676801,
          -0.3003088001761263,
          -0.21828663191304298,
          -0.04946269648769663,
          -0.5275441354114431,
          1,
          -0.0330223437109298,
          -0.6220377696167555,
          0.11900353846853304,
          0.10910837487660875,
          0.0038596263641327497,
          -0.44675296033057194,
          -0.8129589977908669,
          0.5623172547313586,
          0.9702902936621106,
          0.22919317317878438,
          -0.12215017847209404,
          -0.11136756408603371
         ]
        }
       ],
       "layout": {
        "annotations": [
         {
          "showarrow": false,
          "x": 0.005,
          "xref": "paper",
          "y": -0.002,
          "yref": "paper"
         }
        ],
        "hovermode": "closest",
        "margin": {
         "b": 20,
         "l": 5,
         "r": 5,
         "t": 40
        },
        "showlegend": false,
        "template": {
         "data": {
          "bar": [
           {
            "error_x": {
             "color": "#2a3f5f"
            },
            "error_y": {
             "color": "#2a3f5f"
            },
            "marker": {
             "line": {
              "color": "#E5ECF6",
              "width": 0.5
             },
             "pattern": {
              "fillmode": "overlay",
              "size": 10,
              "solidity": 0.2
             }
            },
            "type": "bar"
           }
          ],
          "barpolar": [
           {
            "marker": {
             "line": {
              "color": "#E5ECF6",
              "width": 0.5
             },
             "pattern": {
              "fillmode": "overlay",
              "size": 10,
              "solidity": 0.2
             }
            },
            "type": "barpolar"
           }
          ],
          "carpet": [
           {
            "aaxis": {
             "endlinecolor": "#2a3f5f",
             "gridcolor": "white",
             "linecolor": "white",
             "minorgridcolor": "white",
             "startlinecolor": "#2a3f5f"
            },
            "baxis": {
             "endlinecolor": "#2a3f5f",
             "gridcolor": "white",
             "linecolor": "white",
             "minorgridcolor": "white",
             "startlinecolor": "#2a3f5f"
            },
            "type": "carpet"
           }
          ],
          "choropleth": [
           {
            "colorbar": {
             "outlinewidth": 0,
             "ticks": ""
            },
            "type": "choropleth"
           }
          ],
          "contour": [
           {
            "colorbar": {
             "outlinewidth": 0,
             "ticks": ""
            },
            "colorscale": [
             [
              0,
              "#0d0887"
             ],
             [
              0.1111111111111111,
              "#46039f"
             ],
             [
              0.2222222222222222,
              "#7201a8"
             ],
             [
              0.3333333333333333,
              "#9c179e"
             ],
             [
              0.4444444444444444,
              "#bd3786"
             ],
             [
              0.5555555555555556,
              "#d8576b"
             ],
             [
              0.6666666666666666,
              "#ed7953"
             ],
             [
              0.7777777777777778,
              "#fb9f3a"
             ],
             [
              0.8888888888888888,
              "#fdca26"
             ],
             [
              1,
              "#f0f921"
             ]
            ],
            "type": "contour"
           }
          ],
          "contourcarpet": [
           {
            "colorbar": {
             "outlinewidth": 0,
             "ticks": ""
            },
            "type": "contourcarpet"
           }
          ],
          "heatmap": [
           {
            "colorbar": {
             "outlinewidth": 0,
             "ticks": ""
            },
            "colorscale": [
             [
              0,
              "#0d0887"
             ],
             [
              0.1111111111111111,
              "#46039f"
             ],
             [
              0.2222222222222222,
              "#7201a8"
             ],
             [
              0.3333333333333333,
              "#9c179e"
             ],
             [
              0.4444444444444444,
              "#bd3786"
             ],
             [
              0.5555555555555556,
              "#d8576b"
             ],
             [
              0.6666666666666666,
              "#ed7953"
             ],
             [
              0.7777777777777778,
              "#fb9f3a"
             ],
             [
              0.8888888888888888,
              "#fdca26"
             ],
             [
              1,
              "#f0f921"
             ]
            ],
            "type": "heatmap"
           }
          ],
          "heatmapgl": [
           {
            "colorbar": {
             "outlinewidth": 0,
             "ticks": ""
            },
            "colorscale": [
             [
              0,
              "#0d0887"
             ],
             [
              0.1111111111111111,
              "#46039f"
             ],
             [
              0.2222222222222222,
              "#7201a8"
             ],
             [
              0.3333333333333333,
              "#9c179e"
             ],
             [
              0.4444444444444444,
              "#bd3786"
             ],
             [
              0.5555555555555556,
              "#d8576b"
             ],
             [
              0.6666666666666666,
              "#ed7953"
             ],
             [
              0.7777777777777778,
              "#fb9f3a"
             ],
             [
              0.8888888888888888,
              "#fdca26"
             ],
             [
              1,
              "#f0f921"
             ]
            ],
            "type": "heatmapgl"
           }
          ],
          "histogram": [
           {
            "marker": {
             "pattern": {
              "fillmode": "overlay",
              "size": 10,
              "solidity": 0.2
             }
            },
            "type": "histogram"
           }
          ],
          "histogram2d": [
           {
            "colorbar": {
             "outlinewidth": 0,
             "ticks": ""
            },
            "colorscale": [
             [
              0,
              "#0d0887"
             ],
             [
              0.1111111111111111,
              "#46039f"
             ],
             [
              0.2222222222222222,
              "#7201a8"
             ],
             [
              0.3333333333333333,
              "#9c179e"
             ],
             [
              0.4444444444444444,
              "#bd3786"
             ],
             [
              0.5555555555555556,
              "#d8576b"
             ],
             [
              0.6666666666666666,
              "#ed7953"
             ],
             [
              0.7777777777777778,
              "#fb9f3a"
             ],
             [
              0.8888888888888888,
              "#fdca26"
             ],
             [
              1,
              "#f0f921"
             ]
            ],
            "type": "histogram2d"
           }
          ],
          "histogram2dcontour": [
           {
            "colorbar": {
             "outlinewidth": 0,
             "ticks": ""
            },
            "colorscale": [
             [
              0,
              "#0d0887"
             ],
             [
              0.1111111111111111,
              "#46039f"
             ],
             [
              0.2222222222222222,
              "#7201a8"
             ],
             [
              0.3333333333333333,
              "#9c179e"
             ],
             [
              0.4444444444444444,
              "#bd3786"
             ],
             [
              0.5555555555555556,
              "#d8576b"
             ],
             [
              0.6666666666666666,
              "#ed7953"
             ],
             [
              0.7777777777777778,
              "#fb9f3a"
             ],
             [
              0.8888888888888888,
              "#fdca26"
             ],
             [
              1,
              "#f0f921"
             ]
            ],
            "type": "histogram2dcontour"
           }
          ],
          "mesh3d": [
           {
            "colorbar": {
             "outlinewidth": 0,
             "ticks": ""
            },
            "type": "mesh3d"
           }
          ],
          "parcoords": [
           {
            "line": {
             "colorbar": {
              "outlinewidth": 0,
              "ticks": ""
             }
            },
            "type": "parcoords"
           }
          ],
          "pie": [
           {
            "automargin": true,
            "type": "pie"
           }
          ],
          "scatter": [
           {
            "fillpattern": {
             "fillmode": "overlay",
             "size": 10,
             "solidity": 0.2
            },
            "type": "scatter"
           }
          ],
          "scatter3d": [
           {
            "line": {
             "colorbar": {
              "outlinewidth": 0,
              "ticks": ""
             }
            },
            "marker": {
             "colorbar": {
              "outlinewidth": 0,
              "ticks": ""
             }
            },
            "type": "scatter3d"
           }
          ],
          "scattercarpet": [
           {
            "marker": {
             "colorbar": {
              "outlinewidth": 0,
              "ticks": ""
             }
            },
            "type": "scattercarpet"
           }
          ],
          "scattergeo": [
           {
            "marker": {
             "colorbar": {
              "outlinewidth": 0,
              "ticks": ""
             }
            },
            "type": "scattergeo"
           }
          ],
          "scattergl": [
           {
            "marker": {
             "colorbar": {
              "outlinewidth": 0,
              "ticks": ""
             }
            },
            "type": "scattergl"
           }
          ],
          "scattermapbox": [
           {
            "marker": {
             "colorbar": {
              "outlinewidth": 0,
              "ticks": ""
             }
            },
            "type": "scattermapbox"
           }
          ],
          "scatterpolar": [
           {
            "marker": {
             "colorbar": {
              "outlinewidth": 0,
              "ticks": ""
             }
            },
            "type": "scatterpolar"
           }
          ],
          "scatterpolargl": [
           {
            "marker": {
             "colorbar": {
              "outlinewidth": 0,
              "ticks": ""
             }
            },
            "type": "scatterpolargl"
           }
          ],
          "scatterternary": [
           {
            "marker": {
             "colorbar": {
              "outlinewidth": 0,
              "ticks": ""
             }
            },
            "type": "scatterternary"
           }
          ],
          "surface": [
           {
            "colorbar": {
             "outlinewidth": 0,
             "ticks": ""
            },
            "colorscale": [
             [
              0,
              "#0d0887"
             ],
             [
              0.1111111111111111,
              "#46039f"
             ],
             [
              0.2222222222222222,
              "#7201a8"
             ],
             [
              0.3333333333333333,
              "#9c179e"
             ],
             [
              0.4444444444444444,
              "#bd3786"
             ],
             [
              0.5555555555555556,
              "#d8576b"
             ],
             [
              0.6666666666666666,
              "#ed7953"
             ],
             [
              0.7777777777777778,
              "#fb9f3a"
             ],
             [
              0.8888888888888888,
              "#fdca26"
             ],
             [
              1,
              "#f0f921"
             ]
            ],
            "type": "surface"
           }
          ],
          "table": [
           {
            "cells": {
             "fill": {
              "color": "#EBF0F8"
             },
             "line": {
              "color": "white"
             }
            },
            "header": {
             "fill": {
              "color": "#C8D4E3"
             },
             "line": {
              "color": "white"
             }
            },
            "type": "table"
           }
          ]
         },
         "layout": {
          "annotationdefaults": {
           "arrowcolor": "#2a3f5f",
           "arrowhead": 0,
           "arrowwidth": 1
          },
          "autotypenumbers": "strict",
          "coloraxis": {
           "colorbar": {
            "outlinewidth": 0,
            "ticks": ""
           }
          },
          "colorscale": {
           "diverging": [
            [
             0,
             "#8e0152"
            ],
            [
             0.1,
             "#c51b7d"
            ],
            [
             0.2,
             "#de77ae"
            ],
            [
             0.3,
             "#f1b6da"
            ],
            [
             0.4,
             "#fde0ef"
            ],
            [
             0.5,
             "#f7f7f7"
            ],
            [
             0.6,
             "#e6f5d0"
            ],
            [
             0.7,
             "#b8e186"
            ],
            [
             0.8,
             "#7fbc41"
            ],
            [
             0.9,
             "#4d9221"
            ],
            [
             1,
             "#276419"
            ]
           ],
           "sequential": [
            [
             0,
             "#0d0887"
            ],
            [
             0.1111111111111111,
             "#46039f"
            ],
            [
             0.2222222222222222,
             "#7201a8"
            ],
            [
             0.3333333333333333,
             "#9c179e"
            ],
            [
             0.4444444444444444,
             "#bd3786"
            ],
            [
             0.5555555555555556,
             "#d8576b"
            ],
            [
             0.6666666666666666,
             "#ed7953"
            ],
            [
             0.7777777777777778,
             "#fb9f3a"
            ],
            [
             0.8888888888888888,
             "#fdca26"
            ],
            [
             1,
             "#f0f921"
            ]
           ],
           "sequentialminus": [
            [
             0,
             "#0d0887"
            ],
            [
             0.1111111111111111,
             "#46039f"
            ],
            [
             0.2222222222222222,
             "#7201a8"
            ],
            [
             0.3333333333333333,
             "#9c179e"
            ],
            [
             0.4444444444444444,
             "#bd3786"
            ],
            [
             0.5555555555555556,
             "#d8576b"
            ],
            [
             0.6666666666666666,
             "#ed7953"
            ],
            [
             0.7777777777777778,
             "#fb9f3a"
            ],
            [
             0.8888888888888888,
             "#fdca26"
            ],
            [
             1,
             "#f0f921"
            ]
           ]
          },
          "colorway": [
           "#636efa",
           "#EF553B",
           "#00cc96",
           "#ab63fa",
           "#FFA15A",
           "#19d3f3",
           "#FF6692",
           "#B6E880",
           "#FF97FF",
           "#FECB52"
          ],
          "font": {
           "color": "#2a3f5f"
          },
          "geo": {
           "bgcolor": "white",
           "lakecolor": "white",
           "landcolor": "#E5ECF6",
           "showlakes": true,
           "showland": true,
           "subunitcolor": "white"
          },
          "hoverlabel": {
           "align": "left"
          },
          "hovermode": "closest",
          "mapbox": {
           "style": "light"
          },
          "paper_bgcolor": "white",
          "plot_bgcolor": "#E5ECF6",
          "polar": {
           "angularaxis": {
            "gridcolor": "white",
            "linecolor": "white",
            "ticks": ""
           },
           "bgcolor": "#E5ECF6",
           "radialaxis": {
            "gridcolor": "white",
            "linecolor": "white",
            "ticks": ""
           }
          },
          "scene": {
           "xaxis": {
            "backgroundcolor": "#E5ECF6",
            "gridcolor": "white",
            "gridwidth": 2,
            "linecolor": "white",
            "showbackground": true,
            "ticks": "",
            "zerolinecolor": "white"
           },
           "yaxis": {
            "backgroundcolor": "#E5ECF6",
            "gridcolor": "white",
            "gridwidth": 2,
            "linecolor": "white",
            "showbackground": true,
            "ticks": "",
            "zerolinecolor": "white"
           },
           "zaxis": {
            "backgroundcolor": "#E5ECF6",
            "gridcolor": "white",
            "gridwidth": 2,
            "linecolor": "white",
            "showbackground": true,
            "ticks": "",
            "zerolinecolor": "white"
           }
          },
          "shapedefaults": {
           "line": {
            "color": "#2a3f5f"
           }
          },
          "ternary": {
           "aaxis": {
            "gridcolor": "white",
            "linecolor": "white",
            "ticks": ""
           },
           "baxis": {
            "gridcolor": "white",
            "linecolor": "white",
            "ticks": ""
           },
           "bgcolor": "#E5ECF6",
           "caxis": {
            "gridcolor": "white",
            "linecolor": "white",
            "ticks": ""
           }
          },
          "title": {
           "x": 0.05
          },
          "xaxis": {
           "automargin": true,
           "gridcolor": "white",
           "linecolor": "white",
           "ticks": "",
           "title": {
            "standoff": 15
           },
           "zerolinecolor": "white",
           "zerolinewidth": 2
          },
          "yaxis": {
           "automargin": true,
           "gridcolor": "white",
           "linecolor": "white",
           "ticks": "",
           "title": {
            "standoff": 15
           },
           "zerolinecolor": "white",
           "zerolinewidth": 2
          }
         }
        },
        "title": {
         "font": {
          "size": 16
         },
         "text": "<br>Word Net"
        },
        "xaxis": {
         "showgrid": false,
         "showticklabels": false,
         "zeroline": false
        },
        "yaxis": {
         "showgrid": false,
         "showticklabels": false,
         "zeroline": false
        }
       }
      }
     },
     "metadata": {},
     "output_type": "display_data"
    }
   ],
   "source": [
    "fig = go.Figure(data=[edge_trace, node_trace],\n",
    "             layout=go.Layout(\n",
    "                title='<br>Word Net',\n",
    "                titlefont_size=16,\n",
    "                showlegend=False,\n",
    "                hovermode='closest',\n",
    "                margin=dict(b=20,l=5,r=5,t=40),\n",
    "                annotations=[ dict(\n",
    "                    showarrow=False,\n",
    "                    xref=\"paper\", yref=\"paper\",\n",
    "                    x=0.005, y=-0.002 ) ],\n",
    "                xaxis=dict(showgrid=False, zeroline=False, showticklabels=False),\n",
    "                yaxis=dict(showgrid=False, zeroline=False, showticklabels=False))\n",
    "                )\n",
    "fig.show()\n"
   ]
  },
  {
   "cell_type": "code",
   "execution_count": null,
   "metadata": {},
   "outputs": [],
   "source": []
  },
  {
   "cell_type": "code",
   "execution_count": null,
   "metadata": {},
   "outputs": [],
   "source": []
  },
  {
   "cell_type": "code",
   "execution_count": null,
   "metadata": {},
   "outputs": [],
   "source": []
  }
 ],
 "metadata": {
  "kernelspec": {
   "display_name": "Python 3.10.4 ('roma')",
   "language": "python",
   "name": "python3"
  },
  "language_info": {
   "codemirror_mode": {
    "name": "ipython",
    "version": 3
   },
   "file_extension": ".py",
   "mimetype": "text/x-python",
   "name": "python",
   "nbconvert_exporter": "python",
   "pygments_lexer": "ipython3",
   "version": "3.10.8"
  },
  "orig_nbformat": 4,
  "vscode": {
   "interpreter": {
    "hash": "f0c636f18f7f8c5478a95196d5e93a56c7b8920526e8f2ff7a16679c1cc37438"
   }
  }
 },
 "nbformat": 4,
 "nbformat_minor": 2
}
